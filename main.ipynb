{
 "cells": [
  {
   "cell_type": "markdown",
   "metadata": {},
   "source": [
    "# NEAT Algorithm-based Stock Trading Strategy with Multiple Technical Indicators Resonance"
   ]
  },
  {
   "cell_type": "code",
   "execution_count": 1,
   "metadata": {},
   "outputs": [
    {
     "name": "stderr",
     "output_type": "stream",
     "text": [
      "c:\\Users\\USER\\.conda\\envs\\neat\\lib\\site-packages\\tqdm\\auto.py:21: TqdmWarning: IProgress not found. Please update jupyter and ipywidgets. See https://ipywidgets.readthedocs.io/en/stable/user_install.html\n",
      "  from .autonotebook import tqdm as notebook_tqdm\n"
     ]
    }
   ],
   "source": [
    "from neat_trader.algorithm import NeatTrader, Evaluator, gpt_fitness_fn\n",
    "import neat"
   ]
  },
  {
   "cell_type": "markdown",
   "metadata": {},
   "source": [
    "## Train the model"
   ]
  },
  {
   "cell_type": "code",
   "execution_count": 2,
   "metadata": {},
   "outputs": [],
   "source": [
    "config_file_path = 'model/config-feedforward'\n",
    "config = neat.Config(neat.DefaultGenome, neat.DefaultReproduction,\n",
    "                           neat.DefaultSpeciesSet, neat.DefaultStagnation,\n",
    "                           config_file_path)"
   ]
  },
  {
   "cell_type": "code",
   "execution_count": 3,
   "metadata": {},
   "outputs": [],
   "source": [
    "evaluator = Evaluator(fitness_fn=gpt_fitness_fn)\n",
    "trader = NeatTrader(config=config, evaluator=evaluator)"
   ]
  },
  {
   "cell_type": "code",
   "execution_count": 4,
   "metadata": {},
   "outputs": [
    {
     "name": "stdout",
     "output_type": "stream",
     "text": [
      "\n",
      " ****** Running generation 0 ****** \n",
      "\n",
      "Population's average fitness: 0.00000 stdev: 0.00000\n",
      "Best fitness: 0.00000 - size: (3, 36) - species 1 - id 1\n",
      "Average adjusted fitness: 0.000\n",
      "Mean genetic distance 1.088, standard deviation 0.224\n",
      "Population of 256 members in 1 species:\n",
      "   ID   age  size  fitness  adj fit  stag\n",
      "  ====  ===  ====  =======  =======  ====\n",
      "     1    0   256      0.0    0.000     0\n",
      "Total extinctions: 0\n",
      "Generation time: 7.707 sec\n",
      "\n",
      " ****** Running generation 1 ****** \n",
      "\n",
      "Population's average fitness: 0.00000 stdev: 0.00000\n",
      "Best fitness: 0.00000 - size: (3, 36) - species 1 - id 1\n",
      "Average adjusted fitness: 0.000\n",
      "Mean genetic distance 1.186, standard deviation 0.240\n",
      "Population of 256 members in 1 species:\n",
      "   ID   age  size  fitness  adj fit  stag\n",
      "  ====  ===  ====  =======  =======  ====\n",
      "     1    1   256      0.0    0.000     1\n",
      "Total extinctions: 0\n",
      "Generation time: 2.326 sec (5.016 average)\n",
      "\n",
      " ****** Running generation 2 ****** \n",
      "\n",
      "Population's average fitness: 0.00000 stdev: 0.00000\n",
      "Best fitness: 0.00000 - size: (3, 36) - species 1 - id 1\n",
      "Average adjusted fitness: 0.000\n",
      "Mean genetic distance 1.239, standard deviation 0.246\n",
      "Population of 256 members in 1 species:\n",
      "   ID   age  size  fitness  adj fit  stag\n",
      "  ====  ===  ====  =======  =======  ====\n",
      "     1    2   256      0.0    0.000     2\n",
      "Total extinctions: 0\n",
      "Generation time: 2.321 sec (4.118 average)\n",
      "\n",
      " ****** Running generation 3 ****** \n",
      "\n",
      "Population's average fitness: 0.00000 stdev: 0.00000\n",
      "Best fitness: 0.00000 - size: (3, 36) - species 1 - id 1\n",
      "Average adjusted fitness: 0.000\n",
      "Mean genetic distance 1.270, standard deviation 0.256\n",
      "Population of 256 members in 1 species:\n",
      "   ID   age  size  fitness  adj fit  stag\n",
      "  ====  ===  ====  =======  =======  ====\n",
      "     1    3   256      0.0    0.000     3\n",
      "Total extinctions: 0\n",
      "Generation time: 2.050 sec (3.601 average)\n",
      "\n",
      " ****** Running generation 4 ****** \n",
      "\n",
      "Population's average fitness: 0.00000 stdev: 0.00000\n",
      "Best fitness: 0.00000 - size: (3, 36) - species 1 - id 1\n",
      "Average adjusted fitness: 0.000\n",
      "Mean genetic distance 1.264, standard deviation 0.244\n",
      "Population of 256 members in 1 species:\n",
      "   ID   age  size  fitness  adj fit  stag\n",
      "  ====  ===  ====  =======  =======  ====\n",
      "     1    4   256      0.0    0.000     4\n",
      "Total extinctions: 0\n",
      "Generation time: 2.128 sec (3.306 average)\n",
      "Saving checkpoint to checkpoint/0208_0017/neat-checkpoint-4\n",
      "\n",
      "Best individual in generation 4 meets fitness threshold - complexity: (3, 36)\n",
      "\n",
      " ****** Running generation 5 ****** \n",
      "\n",
      "Population's average fitness: 0.00000 stdev: 0.00000\n",
      "Best fitness: 0.00000 - size: (3, 36) - species 1 - id 1\n",
      "Average adjusted fitness: 0.000\n",
      "Mean genetic distance 1.310, standard deviation 0.251\n",
      "Population of 256 members in 1 species:\n",
      "   ID   age  size  fitness  adj fit  stag\n",
      "  ====  ===  ====  =======  =======  ====\n",
      "     1    5   256      0.0    0.000     5\n",
      "Total extinctions: 0\n",
      "Generation time: 6.232 sec (3.794 average)\n",
      "\n",
      " ****** Running generation 6 ****** \n",
      "\n",
      "Population's average fitness: 0.00000 stdev: 0.00000\n",
      "Best fitness: 0.00000 - size: (3, 36) - species 1 - id 1\n",
      "Average adjusted fitness: 0.000\n",
      "Mean genetic distance 1.376, standard deviation 0.287\n",
      "Population of 256 members in 1 species:\n",
      "   ID   age  size  fitness  adj fit  stag\n",
      "  ====  ===  ====  =======  =======  ====\n",
      "     1    6   256      0.0    0.000     6\n",
      "Total extinctions: 0\n",
      "Generation time: 2.208 sec (3.567 average)\n",
      "\n",
      " ****** Running generation 7 ****** \n",
      "\n",
      "Population's average fitness: 0.00000 stdev: 0.00000\n",
      "Best fitness: 0.00000 - size: (3, 36) - species 1 - id 1\n",
      "Average adjusted fitness: 0.000\n",
      "Mean genetic distance 1.351, standard deviation 0.289\n",
      "Population of 256 members in 1 species:\n",
      "   ID   age  size  fitness  adj fit  stag\n",
      "  ====  ===  ====  =======  =======  ====\n",
      "     1    7   256      0.0    0.000     7\n",
      "Total extinctions: 0\n",
      "Generation time: 2.418 sec (3.424 average)\n",
      "\n",
      " ****** Running generation 8 ****** \n",
      "\n",
      "Population's average fitness: 0.00000 stdev: 0.00000\n",
      "Best fitness: 0.00000 - size: (3, 36) - species 1 - id 1\n",
      "Average adjusted fitness: 0.000\n",
      "Mean genetic distance 1.412, standard deviation 0.287\n",
      "Population of 256 members in 1 species:\n",
      "   ID   age  size  fitness  adj fit  stag\n",
      "  ====  ===  ====  =======  =======  ====\n",
      "     1    8   256      0.0    0.000     8\n",
      "Total extinctions: 0\n",
      "Generation time: 2.234 sec (3.291 average)\n",
      "\n",
      " ****** Running generation 9 ****** \n",
      "\n",
      "Population's average fitness: 0.00045 stdev: 0.00705\n",
      "Best fitness: 0.11295 - size: (3, 30) - species 1 - id 2418\n",
      "Average adjusted fitness: 0.000\n",
      "Mean genetic distance 1.425, standard deviation 0.264\n",
      "Population of 256 members in 1 species:\n",
      "   ID   age  size  fitness  adj fit  stag\n",
      "  ====  ===  ====  =======  =======  ====\n",
      "     1    9   256      0.0    0.000     9\n",
      "Total extinctions: 0\n",
      "Generation time: 2.271 sec (3.189 average)\n",
      "Saving checkpoint to checkpoint/0208_0017/neat-checkpoint-9\n",
      "\n",
      "Best individual in generation 9 meets fitness threshold - complexity: (3, 30)\n"
     ]
    }
   ],
   "source": [
    "winner = trader.evolve(total_generation=10)"
   ]
  },
  {
   "cell_type": "code",
   "execution_count": 5,
   "metadata": {},
   "outputs": [
    {
     "name": "stdout",
     "output_type": "stream",
     "text": [
      "\n",
      "Best genome:\n",
      "Key: 2418\n",
      "Fitness: 0.1129527764400465\n",
      "Nodes:\n",
      "\t0 DefaultNodeGene(key=0, bias=-1.2774737286439393, response=1.0, activation=sigmoid, aggregation=sum)\n",
      "\t1 DefaultNodeGene(key=1, bias=-1.2647079118159683, response=1.0, activation=sigmoid, aggregation=sum)\n",
      "\t2 DefaultNodeGene(key=2, bias=0.7546599722414407, response=1.0, activation=sigmoid, aggregation=sum)\n",
      "Connections:\n",
      "\tDefaultConnectionGene(key=(-11, 1), weight=2.603896706847815, enabled=True)\n",
      "\tDefaultConnectionGene(key=(-11, 2), weight=1.2543361626306495, enabled=True)\n",
      "\tDefaultConnectionGene(key=(-10, 0), weight=1.1017922378501932, enabled=True)\n",
      "\tDefaultConnectionGene(key=(-10, 1), weight=1.7481909796788682, enabled=False)\n",
      "\tDefaultConnectionGene(key=(-10, 2), weight=3.1728017356930898, enabled=True)\n",
      "\tDefaultConnectionGene(key=(-9, 0), weight=-1.1116767120263358, enabled=True)\n",
      "\tDefaultConnectionGene(key=(-9, 1), weight=0.44574698829347015, enabled=True)\n",
      "\tDefaultConnectionGene(key=(-9, 2), weight=-0.31923905304490663, enabled=True)\n",
      "\tDefaultConnectionGene(key=(-8, 0), weight=-1.9542499798154878, enabled=False)\n",
      "\tDefaultConnectionGene(key=(-8, 1), weight=-0.06621512983871491, enabled=True)\n",
      "\tDefaultConnectionGene(key=(-8, 2), weight=-2.569240342229782, enabled=True)\n",
      "\tDefaultConnectionGene(key=(-7, 0), weight=0.577112968766244, enabled=True)\n",
      "\tDefaultConnectionGene(key=(-7, 1), weight=1.9048761222827197, enabled=True)\n",
      "\tDefaultConnectionGene(key=(-7, 2), weight=1.1400815219661071, enabled=True)\n",
      "\tDefaultConnectionGene(key=(-6, 0), weight=0.010533859695751463, enabled=True)\n",
      "\tDefaultConnectionGene(key=(-6, 1), weight=-0.358795775093468, enabled=True)\n",
      "\tDefaultConnectionGene(key=(-6, 2), weight=-0.229855097166635, enabled=True)\n",
      "\tDefaultConnectionGene(key=(-5, 0), weight=0.559522967024738, enabled=True)\n",
      "\tDefaultConnectionGene(key=(-5, 1), weight=0.9112635580583215, enabled=True)\n",
      "\tDefaultConnectionGene(key=(-5, 2), weight=-4.139002806437565, enabled=True)\n",
      "\tDefaultConnectionGene(key=(-4, 0), weight=-2.9295460149520682, enabled=True)\n",
      "\tDefaultConnectionGene(key=(-4, 1), weight=0.901431808050527, enabled=True)\n",
      "\tDefaultConnectionGene(key=(-4, 2), weight=2.6273826186603784, enabled=True)\n",
      "\tDefaultConnectionGene(key=(-3, 0), weight=-1.0635288064407296, enabled=True)\n",
      "\tDefaultConnectionGene(key=(-3, 1), weight=2.7450589425712133, enabled=True)\n",
      "\tDefaultConnectionGene(key=(-3, 2), weight=-0.5024390747613225, enabled=True)\n",
      "\tDefaultConnectionGene(key=(-2, 0), weight=-0.2755396856703128, enabled=True)\n",
      "\tDefaultConnectionGene(key=(-2, 1), weight=-1.5351376048742948, enabled=True)\n",
      "\tDefaultConnectionGene(key=(-2, 2), weight=0.49214172657226046, enabled=True)\n",
      "\tDefaultConnectionGene(key=(-1, 0), weight=-0.18984420614120867, enabled=False)\n",
      "\tDefaultConnectionGene(key=(-1, 1), weight=1.322739606889134, enabled=True)\n",
      "\tDefaultConnectionGene(key=(-1, 2), weight=3.4484952745999187, enabled=True)\n",
      "\tDefaultConnectionGene(key=(0, 0), weight=2.9714961242674387, enabled=True)\n",
      "\tDefaultConnectionGene(key=(2, 2), weight=-1.2857757308190463, enabled=False)\n",
      "\n",
      "Output:\n"
     ]
    },
    {
     "data": {
      "image/png": "[encoded data removed]",
      "text/plain": [
       "<Figure size 640x480 with 1 Axes>"
      ]
     },
     "metadata": {},
     "output_type": "display_data"
    },
    {
     "data": {
      "image/png": "[encoded data removed]",
      "text/plain": [
       "<Figure size 640x480 with 1 Axes>"
      ]
     },
     "metadata": {},
     "output_type": "display_data"
    }
   ],
   "source": [
    "trader.generate_report()"
   ]
  },
  {
   "cell_type": "markdown",
   "metadata": {},
   "source": [
    "## Evaluation\n"
   ]
  },
  {
   "cell_type": "code",
   "execution_count": 6,
   "metadata": {},
   "outputs": [
    {
     "name": "stderr",
     "output_type": "stream",
     "text": [
      "Testing population: 100%|██████████| 10/10 [01:13<00:00,  7.35s/it]\n"
     ]
    }
   ],
   "source": [
    "# Evaluate the last generation\n",
    "performances, backtesting_data = trader.test_population()"
   ]
  },
  {
   "cell_type": "code",
   "execution_count": 7,
   "metadata": {},
   "outputs": [
    {
     "data": {
      "text/html": [
       "<div>\n",
       "<style scoped>\n",
       "    .dataframe tbody tr th:only-of-type {\n",
       "        vertical-align: middle;\n",
       "    }\n",
       "\n",
       "    .dataframe tbody tr th {\n",
       "        vertical-align: top;\n",
       "    }\n",
       "\n",
       "    .dataframe thead th {\n",
       "        text-align: right;\n",
       "    }\n",
       "</style>\n",
       "<table border=\"1\" class=\"dataframe\">\n",
       "  <thead>\n",
       "    <tr style=\"text-align: right;\">\n",
       "      <th></th>\n",
       "      <th>individual_index</th>\n",
       "      <th>test_case</th>\n",
       "      <th>performance</th>\n",
       "      <th>bt</th>\n",
       "    </tr>\n",
       "  </thead>\n",
       "  <tbody>\n",
       "    <tr>\n",
       "      <th>0</th>\n",
       "      <td>2418</td>\n",
       "      <td>0</td>\n",
       "      <td>Start                     2013-07-08 00:00:00\n",
       "...</td>\n",
       "      <td>&lt;backtesting.backtesting.Backtest object at 0x...</td>\n",
       "    </tr>\n",
       "    <tr>\n",
       "      <th>1</th>\n",
       "      <td>2430</td>\n",
       "      <td>0</td>\n",
       "      <td>Start                     2013-07-08 00:00:00\n",
       "...</td>\n",
       "      <td>&lt;backtesting.backtesting.Backtest object at 0x...</td>\n",
       "    </tr>\n",
       "    <tr>\n",
       "      <th>2</th>\n",
       "      <td>2543</td>\n",
       "      <td>0</td>\n",
       "      <td>Start                     2013-07-08 00:00:00\n",
       "...</td>\n",
       "      <td>&lt;backtesting.backtesting.Backtest object at 0x...</td>\n",
       "    </tr>\n",
       "    <tr>\n",
       "      <th>3</th>\n",
       "      <td>2544</td>\n",
       "      <td>0</td>\n",
       "      <td>Start                     2013-07-08 00:00:00\n",
       "...</td>\n",
       "      <td>&lt;backtesting.backtesting.Backtest object at 0x...</td>\n",
       "    </tr>\n",
       "    <tr>\n",
       "      <th>4</th>\n",
       "      <td>2545</td>\n",
       "      <td>0</td>\n",
       "      <td>Start                     2013-07-08 00:00:00\n",
       "...</td>\n",
       "      <td>&lt;backtesting.backtesting.Backtest object at 0x...</td>\n",
       "    </tr>\n",
       "  </tbody>\n",
       "</table>\n",
       "</div>"
      ],
      "text/plain": [
       "  individual_index test_case  \\\n",
       "0             2418         0   \n",
       "1             2430         0   \n",
       "2             2543         0   \n",
       "3             2544         0   \n",
       "4             2545         0   \n",
       "\n",
       "                                         performance  \\\n",
       "0  Start                     2013-07-08 00:00:00\n",
       "...   \n",
       "1  Start                     2013-07-08 00:00:00\n",
       "...   \n",
       "2  Start                     2013-07-08 00:00:00\n",
       "...   \n",
       "3  Start                     2013-07-08 00:00:00\n",
       "...   \n",
       "4  Start                     2013-07-08 00:00:00\n",
       "...   \n",
       "\n",
       "                                                  bt  \n",
       "0  <backtesting.backtesting.Backtest object at 0x...  \n",
       "1  <backtesting.backtesting.Backtest object at 0x...  \n",
       "2  <backtesting.backtesting.Backtest object at 0x...  \n",
       "3  <backtesting.backtesting.Backtest object at 0x...  \n",
       "4  <backtesting.backtesting.Backtest object at 0x...  "
      ]
     },
     "execution_count": 7,
     "metadata": {},
     "output_type": "execute_result"
    }
   ],
   "source": [
    "performances.head()"
   ]
  },
  {
   "cell_type": "code",
   "execution_count": 11,
   "metadata": {},
   "outputs": [
    {
     "data": {
      "text/plain": [
       "Start                     2013-07-08 00:00:00\n",
       "End                       2013-11-01 00:00:00\n",
       "Duration                    116 days 00:00:00\n",
       "Exposure Time [%]                   36.904762\n",
       "Equity Final [$]                 992887.77654\n",
       "Equity Peak [$]                1038704.670828\n",
       "Return [%]                          -0.711222\n",
       "Buy & Hold Return [%]               -1.645521\n",
       "Return (Ann.) [%]                   -2.118528\n",
       "Volatility (Ann.) [%]               10.497159\n",
       "Sharpe Ratio                        -0.201819\n",
       "Sortino Ratio                       -0.269125\n",
       "Calmar Ratio                        -0.277134\n",
       "Max. Drawdown [%]                   -7.644418\n",
       "Avg. Drawdown [%]                   -2.876107\n",
       "Max. Drawdown Duration       32 days 00:00:00\n",
       "Avg. Drawdown Duration       14 days 00:00:00\n",
       "# Trades                                    1\n",
       "Win Rate [%]                              0.0\n",
       "Best Trade [%]                      -0.712686\n",
       "Worst Trade [%]                     -0.712686\n",
       "Avg. Trade [%]                      -0.712686\n",
       "Max. Trade Duration          42 days 00:00:00\n",
       "Avg. Trade Duration          42 days 00:00:00\n",
       "Profit Factor                             0.0\n",
       "Expectancy [%]                      -0.712686\n",
       "SQN                                       NaN\n",
       "Kelly Criterion                           NaN\n",
       "_strategy                        NEATStrategy\n",
       "_equity_curve                             ...\n",
       "_trades                      Size  EntryBa...\n",
       "dtype: object"
      ]
     },
     "execution_count": 11,
     "metadata": {},
     "output_type": "execute_result"
    }
   ],
   "source": [
    "performances.loc[0, 'performance']"
   ]
  },
  {
   "cell_type": "code",
   "execution_count": 15,
   "metadata": {},
   "outputs": [
    {
     "data": {
      "application/vnd.plotly.v1+json": {
       "config": {
        "plotlyServerURL": "https://plot.ly"
       },
       "data": [
        {
         "hovertemplate": "Individual=2418<br>Buy & Hold Strategy=%{x}<br>Neat Strategy=%{y}<extra></extra>",
         "legendgroup": "2418",
         "marker": {
          "color": "#636efa",
          "symbol": "circle"
         },
         "mode": "markers",
         "name": "2418",
         "showlegend": true,
         "type": "scattergl",
         "x": [
          -1.645521392144838,
          0.2266340872061427,
          19.86842472907701,
          -0.8498192852040202,
          -9.22137377779483,
          12.423312883435583,
          -4.833364794114527,
          0.1370235502692121,
          6.8824235515995,
          14.493387248164272
         ],
         "xaxis": "x",
         "y": [
          -0.7112223459594766,
          -12.579110818294529,
          -20.89716172200928,
          -4.336692639934539,
          -5.661327575335687,
          -2.8584167863769454,
          11.148404615464784,
          1.0959659436767573,
          -10.852493488485715,
          -8.555387335705559
         ],
         "yaxis": "y"
        },
        {
         "hovertemplate": "Individual=2430<br>Buy & Hold Strategy=%{x}<br>Neat Strategy=%{y}<extra></extra>",
         "legendgroup": "2430",
         "marker": {
          "color": "#EF553B",
          "symbol": "circle"
         },
         "mode": "markers",
         "name": "2430",
         "showlegend": true,
         "type": "scattergl",
         "x": [
          -1.645521392144838,
          0.2266340872061427,
          19.86842472907701,
          -0.8498192852040202,
          -9.22137377779483,
          12.423312883435583,
          -4.833364794114527,
          0.1370235502692121,
          6.8824235515995,
          14.493387248164272
         ],
         "xaxis": "x",
         "y": [
          5.965080477685551,
          12.53491971646843,
          15.459888519396983,
          9.592775148692331,
          -2.184345213134773,
          1.526869498095708,
          -4.694223852081294,
          -4.261148163519287,
          7.304676692352305,
          7.485298473220831
         ],
         "yaxis": "y"
        },
        {
         "hovertemplate": "Individual=2543<br>Buy & Hold Strategy=%{x}<br>Neat Strategy=%{y}<extra></extra>",
         "legendgroup": "2543",
         "marker": {
          "color": "#00cc96",
          "symbol": "circle"
         },
         "mode": "markers",
         "name": "2543",
         "showlegend": true,
         "type": "scattergl",
         "x": [
          -1.645521392144838,
          0.2266340872061427,
          19.86842472907701,
          -0.8498192852040202,
          -9.22137377779483,
          12.423312883435583,
          -4.833364794114527,
          0.1370235502692121,
          6.8824235515995,
          14.493387248164272
         ],
         "xaxis": "x",
         "y": [
          0,
          0,
          0,
          0,
          0,
          0,
          0,
          0,
          0,
          0
         ],
         "yaxis": "y"
        },
        {
         "hovertemplate": "Individual=2544<br>Buy & Hold Strategy=%{x}<br>Neat Strategy=%{y}<extra></extra>",
         "legendgroup": "2544",
         "marker": {
          "color": "#ab63fa",
          "symbol": "circle"
         },
         "mode": "markers",
         "name": "2544",
         "showlegend": true,
         "type": "scattergl",
         "x": [
          -1.645521392144838,
          0.2266340872061427,
          19.86842472907701,
          -0.8498192852040202,
          -9.22137377779483,
          12.423312883435583,
          -4.833364794114527,
          0.1370235502692121,
          6.8824235515995,
          14.493387248164272
         ],
         "xaxis": "x",
         "y": [
          0,
          0,
          0,
          0,
          0,
          0,
          0,
          0,
          0,
          0
         ],
         "yaxis": "y"
        },
        {
         "hovertemplate": "Individual=2545<br>Buy & Hold Strategy=%{x}<br>Neat Strategy=%{y}<extra></extra>",
         "legendgroup": "2545",
         "marker": {
          "color": "#FFA15A",
          "symbol": "circle"
         },
         "mode": "markers",
         "name": "2545",
         "showlegend": true,
         "type": "scattergl",
         "x": [
          -1.645521392144838,
          0.2266340872061427,
          19.86842472907701,
          -0.8498192852040202,
          -9.22137377779483,
          12.423312883435583,
          -4.833364794114527,
          0.1370235502692121,
          6.8824235515995,
          14.493387248164272
         ],
         "xaxis": "x",
         "y": [
          0,
          0,
          0,
          0,
          0,
          0,
          0,
          0,
          0,
          0
         ],
         "yaxis": "y"
        },
        {
         "hovertemplate": "Individual=2546<br>Buy & Hold Strategy=%{x}<br>Neat Strategy=%{y}<extra></extra>",
         "legendgroup": "2546",
         "marker": {
          "color": "#19d3f3",
          "symbol": "circle"
         },
         "mode": "markers",
         "name": "2546",
         "showlegend": true,
         "type": "scattergl",
         "x": [
          -1.645521392144838,
          0.2266340872061427,
          19.86842472907701,
          -0.8498192852040202,
          -9.22137377779483,
          12.423312883435583,
          -4.833364794114527,
          0.1370235502692121,
          6.8824235515995,
          14.493387248164272
         ],
         "xaxis": "x",
         "y": [
          0,
          0,
          0,
          0,
          0,
          0,
          0,
          0,
          0,
          0
         ],
         "yaxis": "y"
        },
        {
         "hovertemplate": "Individual=2547<br>Buy & Hold Strategy=%{x}<br>Neat Strategy=%{y}<extra></extra>",
         "legendgroup": "2547",
         "marker": {
          "color": "#FF6692",
          "symbol": "circle"
         },
         "mode": "markers",
         "name": "2547",
         "showlegend": true,
         "type": "scattergl",
         "x": [
          -1.645521392144838,
          0.2266340872061427,
          19.86842472907701,
          -0.8498192852040202,
          -9.22137377779483,
          12.423312883435583,
          -4.833364794114527,
          0.1370235502692121,
          6.8824235515995,
          14.493387248164272
         ],
         "xaxis": "x",
         "y": [
          0,
          0,
          0,
          0,
          0,
          0,
          0,
          0,
          0,
          0
         ],
         "yaxis": "y"
        },
        {
         "hovertemplate": "Individual=2548<br>Buy & Hold Strategy=%{x}<br>Neat Strategy=%{y}<extra></extra>",
         "legendgroup": "2548",
         "marker": {
          "color": "#B6E880",
          "symbol": "circle"
         },
         "mode": "markers",
         "name": "2548",
         "showlegend": true,
         "type": "scattergl",
         "x": [
          -1.645521392144838,
          0.2266340872061427,
          19.86842472907701,
          -0.8498192852040202,
          -9.22137377779483,
          12.423312883435583,
          -4.833364794114527,
          0.1370235502692121,
          6.8824235515995,
          14.493387248164272
         ],
         "xaxis": "x",
         "y": [
          0,
          0,
          0,
          0,
          0,
          0,
          0,
          0,
          0,
          0
         ],
         "yaxis": "y"
        },
        {
         "hovertemplate": "Individual=2549<br>Buy & Hold Strategy=%{x}<br>Neat Strategy=%{y}<extra></extra>",
         "legendgroup": "2549",
         "marker": {
          "color": "#FF97FF",
          "symbol": "circle"
         },
         "mode": "markers",
         "name": "2549",
         "showlegend": true,
         "type": "scattergl",
         "x": [
          -1.645521392144838,
          0.2266340872061427,
          19.86842472907701,
          -0.8498192852040202,
          -9.22137377779483,
          12.423312883435583,
          -4.833364794114527,
          0.1370235502692121,
          6.8824235515995,
          14.493387248164272
         ],
         "xaxis": "x",
         "y": [
          0,
          0,
          0,
          0,
          0,
          0,
          0,
          0,
          0,
          0
         ],
         "yaxis": "y"
        },
        {
         "hovertemplate": "Individual=2550<br>Buy & Hold Strategy=%{x}<br>Neat Strategy=%{y}<extra></extra>",
         "legendgroup": "2550",
         "marker": {
          "color": "#FECB52",
          "symbol": "circle"
         },
         "mode": "markers",
         "name": "2550",
         "showlegend": true,
         "type": "scattergl",
         "x": [
          -1.645521392144838,
          0.2266340872061427,
          19.86842472907701,
          -0.8498192852040202,
          -9.22137377779483,
          12.423312883435583,
          -4.833364794114527,
          0.1370235502692121,
          6.8824235515995,
          14.493387248164272
         ],
         "xaxis": "x",
         "y": [
          0,
          0,
          0,
          0,
          0,
          0,
          0,
          0,
          0,
          0
         ],
         "yaxis": "y"
        },
        {
         "hovertemplate": "Individual=2551<br>Buy & Hold Strategy=%{x}<br>Neat Strategy=%{y}<extra></extra>",
         "legendgroup": "2551",
         "marker": {
          "color": "#636efa",
          "symbol": "circle"
         },
         "mode": "markers",
         "name": "2551",
         "showlegend": true,
         "type": "scattergl",
         "x": [
          -1.645521392144838,
          0.2266340872061427,
          19.86842472907701,
          -0.8498192852040202,
          -9.22137377779483,
          12.423312883435583,
          -4.833364794114527,
          0.1370235502692121,
          6.8824235515995,
          14.493387248164272
         ],
         "xaxis": "x",
         "y": [
          0,
          0,
          0,
          0,
          0,
          0,
          0,
          0,
          0,
          0
         ],
         "yaxis": "y"
        },
        {
         "hovertemplate": "Individual=2552<br>Buy & Hold Strategy=%{x}<br>Neat Strategy=%{y}<extra></extra>",
         "legendgroup": "2552",
         "marker": {
          "color": "#EF553B",
          "symbol": "circle"
         },
         "mode": "markers",
         "name": "2552",
         "showlegend": true,
         "type": "scattergl",
         "x": [
          -1.645521392144838,
          0.2266340872061427,
          19.86842472907701,
          -0.8498192852040202,
          -9.22137377779483,
          12.423312883435583,
          -4.833364794114527,
          0.1370235502692121,
          6.8824235515995,
          14.493387248164272
         ],
         "xaxis": "x",
         "y": [
          0,
          0,
          0,
          0,
          0,
          0,
          0,
          0,
          0,
          0
         ],
         "yaxis": "y"
        },
        {
         "hovertemplate": "Individual=2553<br>Buy & Hold Strategy=%{x}<br>Neat Strategy=%{y}<extra></extra>",
         "legendgroup": "2553",
         "marker": {
          "color": "#00cc96",
          "symbol": "circle"
         },
         "mode": "markers",
         "name": "2553",
         "showlegend": true,
         "type": "scattergl",
         "x": [
          -1.645521392144838,
          0.2266340872061427,
          19.86842472907701,
          -0.8498192852040202,
          -9.22137377779483,
          12.423312883435583,
          -4.833364794114527,
          0.1370235502692121,
          6.8824235515995,
          14.493387248164272
         ],
         "xaxis": "x",
         "y": [
          0,
          0,
          0,
          0,
          0,
          0,
          0,
          0,
          0,
          0
         ],
         "yaxis": "y"
        },
        {
         "hovertemplate": "Individual=2554<br>Buy & Hold Strategy=%{x}<br>Neat Strategy=%{y}<extra></extra>",
         "legendgroup": "2554",
         "marker": {
          "color": "#ab63fa",
          "symbol": "circle"
         },
         "mode": "markers",
         "name": "2554",
         "showlegend": true,
         "type": "scattergl",
         "x": [
          -1.645521392144838,
          0.2266340872061427,
          19.86842472907701,
          -0.8498192852040202,
          -9.22137377779483,
          12.423312883435583,
          -4.833364794114527,
          0.1370235502692121,
          6.8824235515995,
          14.493387248164272
         ],
         "xaxis": "x",
         "y": [
          0,
          0,
          0,
          0,
          0,
          0,
          0,
          0,
          0,
          0
         ],
         "yaxis": "y"
        },
        {
         "hovertemplate": "Individual=2555<br>Buy & Hold Strategy=%{x}<br>Neat Strategy=%{y}<extra></extra>",
         "legendgroup": "2555",
         "marker": {
          "color": "#FFA15A",
          "symbol": "circle"
         },
         "mode": "markers",
         "name": "2555",
         "showlegend": true,
         "type": "scattergl",
         "x": [
          -1.645521392144838,
          0.2266340872061427,
          19.86842472907701,
          -0.8498192852040202,
          -9.22137377779483,
          12.423312883435583,
          -4.833364794114527,
          0.1370235502692121,
          6.8824235515995,
          14.493387248164272
         ],
         "xaxis": "x",
         "y": [
          0,
          0,
          0,
          0,
          0,
          0,
          0,
          0,
          0,
          0
         ],
         "yaxis": "y"
        },
        {
         "hovertemplate": "Individual=2556<br>Buy & Hold Strategy=%{x}<br>Neat Strategy=%{y}<extra></extra>",
         "legendgroup": "2556",
         "marker": {
          "color": "#19d3f3",
          "symbol": "circle"
         },
         "mode": "markers",
         "name": "2556",
         "showlegend": true,
         "type": "scattergl",
         "x": [
          -1.645521392144838,
          0.2266340872061427,
          19.86842472907701,
          -0.8498192852040202,
          -9.22137377779483,
          12.423312883435583,
          -4.833364794114527,
          0.1370235502692121,
          6.8824235515995,
          14.493387248164272
         ],
         "xaxis": "x",
         "y": [
          0,
          0,
          0,
          0,
          0,
          0,
          0,
          0,
          0,
          0
         ],
         "yaxis": "y"
        },
        {
         "hovertemplate": "Individual=2557<br>Buy & Hold Strategy=%{x}<br>Neat Strategy=%{y}<extra></extra>",
         "legendgroup": "2557",
         "marker": {
          "color": "#FF6692",
          "symbol": "circle"
         },
         "mode": "markers",
         "name": "2557",
         "showlegend": true,
         "type": "scattergl",
         "x": [
          -1.645521392144838,
          0.2266340872061427,
          19.86842472907701,
          -0.8498192852040202,
          -9.22137377779483,
          12.423312883435583,
          -4.833364794114527,
          0.1370235502692121,
          6.8824235515995,
          14.493387248164272
         ],
         "xaxis": "x",
         "y": [
          0,
          0,
          0,
          0,
          0,
          0,
          0,
          0,
          0,
          0
         ],
         "yaxis": "y"
        },
        {
         "hovertemplate": "Individual=2558<br>Buy & Hold Strategy=%{x}<br>Neat Strategy=%{y}<extra></extra>",
         "legendgroup": "2558",
         "marker": {
          "color": "#B6E880",
          "symbol": "circle"
         },
         "mode": "markers",
         "name": "2558",
         "showlegend": true,
         "type": "scattergl",
         "x": [
          -1.645521392144838,
          0.2266340872061427,
          19.86842472907701,
          -0.8498192852040202,
          -9.22137377779483,
          12.423312883435583,
          -4.833364794114527,
          0.1370235502692121,
          6.8824235515995,
          14.493387248164272
         ],
         "xaxis": "x",
         "y": [
          0,
          0,
          0,
          0,
          0,
          0,
          0,
          0,
          0,
          0
         ],
         "yaxis": "y"
        },
        {
         "hovertemplate": "Individual=2559<br>Buy & Hold Strategy=%{x}<br>Neat Strategy=%{y}<extra></extra>",
         "legendgroup": "2559",
         "marker": {
          "color": "#FF97FF",
          "symbol": "circle"
         },
         "mode": "markers",
         "name": "2559",
         "showlegend": true,
         "type": "scattergl",
         "x": [
          -1.645521392144838,
          0.2266340872061427,
          19.86842472907701,
          -0.8498192852040202,
          -9.22137377779483,
          12.423312883435583,
          -4.833364794114527,
          0.1370235502692121,
          6.8824235515995,
          14.493387248164272
         ],
         "xaxis": "x",
         "y": [
          0,
          0,
          0,
          0,
          0,
          0,
          0,
          0,
          0,
          0
         ],
         "yaxis": "y"
        },
        {
         "hovertemplate": "Individual=2560<br>Buy & Hold Strategy=%{x}<br>Neat Strategy=%{y}<extra></extra>",
         "legendgroup": "2560",
         "marker": {
          "color": "#FECB52",
          "symbol": "circle"
         },
         "mode": "markers",
         "name": "2560",
         "showlegend": true,
         "type": "scattergl",
         "x": [
          -1.645521392144838,
          0.2266340872061427,
          19.86842472907701,
          -0.8498192852040202,
          -9.22137377779483,
          12.423312883435583,
          -4.833364794114527,
          0.1370235502692121,
          6.8824235515995,
          14.493387248164272
         ],
         "xaxis": "x",
         "y": [
          0,
          0,
          0,
          0,
          0,
          0,
          0,
          0,
          0,
          0
         ],
         "yaxis": "y"
        },
        {
         "hovertemplate": "Individual=2561<br>Buy & Hold Strategy=%{x}<br>Neat Strategy=%{y}<extra></extra>",
         "legendgroup": "2561",
         "marker": {
          "color": "#636efa",
          "symbol": "circle"
         },
         "mode": "markers",
         "name": "2561",
         "showlegend": true,
         "type": "scattergl",
         "x": [
          -1.645521392144838,
          0.2266340872061427,
          19.86842472907701,
          -0.8498192852040202,
          -9.22137377779483,
          12.423312883435583,
          -4.833364794114527,
          0.1370235502692121,
          6.8824235515995,
          14.493387248164272
         ],
         "xaxis": "x",
         "y": [
          0,
          0,
          0,
          0,
          0,
          0,
          0,
          0,
          0,
          0
         ],
         "yaxis": "y"
        },
        {
         "hovertemplate": "Individual=2562<br>Buy & Hold Strategy=%{x}<br>Neat Strategy=%{y}<extra></extra>",
         "legendgroup": "2562",
         "marker": {
          "color": "#EF553B",
          "symbol": "circle"
         },
         "mode": "markers",
         "name": "2562",
         "showlegend": true,
         "type": "scattergl",
         "x": [
          -1.645521392144838,
          0.2266340872061427,
          19.86842472907701,
          -0.8498192852040202,
          -9.22137377779483,
          12.423312883435583,
          -4.833364794114527,
          0.1370235502692121,
          6.8824235515995,
          14.493387248164272
         ],
         "xaxis": "x",
         "y": [
          0,
          0,
          0,
          0,
          0,
          0,
          0,
          0,
          0,
          0
         ],
         "yaxis": "y"
        },
        {
         "hovertemplate": "Individual=2563<br>Buy & Hold Strategy=%{x}<br>Neat Strategy=%{y}<extra></extra>",
         "legendgroup": "2563",
         "marker": {
          "color": "#00cc96",
          "symbol": "circle"
         },
         "mode": "markers",
         "name": "2563",
         "showlegend": true,
         "type": "scattergl",
         "x": [
          -1.645521392144838,
          0.2266340872061427,
          19.86842472907701,
          -0.8498192852040202,
          -9.22137377779483,
          12.423312883435583,
          -4.833364794114527,
          0.1370235502692121,
          6.8824235515995,
          14.493387248164272
         ],
         "xaxis": "x",
         "y": [
          0,
          0,
          0,
          0,
          0,
          0,
          0,
          0,
          0,
          0
         ],
         "yaxis": "y"
        },
        {
         "hovertemplate": "Individual=2564<br>Buy & Hold Strategy=%{x}<br>Neat Strategy=%{y}<extra></extra>",
         "legendgroup": "2564",
         "marker": {
          "color": "#ab63fa",
          "symbol": "circle"
         },
         "mode": "markers",
         "name": "2564",
         "showlegend": true,
         "type": "scattergl",
         "x": [
          -1.645521392144838,
          0.2266340872061427,
          19.86842472907701,
          -0.8498192852040202,
          -9.22137377779483,
          12.423312883435583,
          -4.833364794114527,
          0.1370235502692121,
          6.8824235515995,
          14.493387248164272
         ],
         "xaxis": "x",
         "y": [
          0,
          0,
          0,
          0,
          0,
          0,
          0,
          0,
          0,
          0
         ],
         "yaxis": "y"
        },
        {
         "hovertemplate": "Individual=2565<br>Buy & Hold Strategy=%{x}<br>Neat Strategy=%{y}<extra></extra>",
         "legendgroup": "2565",
         "marker": {
          "color": "#FFA15A",
          "symbol": "circle"
         },
         "mode": "markers",
         "name": "2565",
         "showlegend": true,
         "type": "scattergl",
         "x": [
          -1.645521392144838,
          0.2266340872061427,
          19.86842472907701,
          -0.8498192852040202,
          -9.22137377779483,
          12.423312883435583,
          -4.833364794114527,
          0.1370235502692121,
          6.8824235515995,
          14.493387248164272
         ],
         "xaxis": "x",
         "y": [
          0,
          0,
          0,
          0,
          0,
          0,
          0,
          0,
          0,
          0
         ],
         "yaxis": "y"
        },
        {
         "hovertemplate": "Individual=2566<br>Buy & Hold Strategy=%{x}<br>Neat Strategy=%{y}<extra></extra>",
         "legendgroup": "2566",
         "marker": {
          "color": "#19d3f3",
          "symbol": "circle"
         },
         "mode": "markers",
         "name": "2566",
         "showlegend": true,
         "type": "scattergl",
         "x": [
          -1.645521392144838,
          0.2266340872061427,
          19.86842472907701,
          -0.8498192852040202,
          -9.22137377779483,
          12.423312883435583,
          -4.833364794114527,
          0.1370235502692121,
          6.8824235515995,
          14.493387248164272
         ],
         "xaxis": "x",
         "y": [
          0,
          0,
          0,
          0,
          0,
          0,
          0,
          0,
          0,
          0
         ],
         "yaxis": "y"
        },
        {
         "hovertemplate": "Individual=2567<br>Buy & Hold Strategy=%{x}<br>Neat Strategy=%{y}<extra></extra>",
         "legendgroup": "2567",
         "marker": {
          "color": "#FF6692",
          "symbol": "circle"
         },
         "mode": "markers",
         "name": "2567",
         "showlegend": true,
         "type": "scattergl",
         "x": [
          -1.645521392144838,
          0.2266340872061427,
          19.86842472907701,
          -0.8498192852040202,
          -9.22137377779483,
          12.423312883435583,
          -4.833364794114527,
          0.1370235502692121,
          6.8824235515995,
          14.493387248164272
         ],
         "xaxis": "x",
         "y": [
          1.8891856266204734,
          10.530780458191689,
          20.500891522009272,
          2.3525920597190852,
          5.267291785015864,
          2.4139678738769494,
          -11.547498822340392,
          -1.756281839660648,
          10.453347081582644,
          8.157856811022944
         ],
         "yaxis": "y"
        },
        {
         "hovertemplate": "Individual=2568<br>Buy & Hold Strategy=%{x}<br>Neat Strategy=%{y}<extra></extra>",
         "legendgroup": "2568",
         "marker": {
          "color": "#B6E880",
          "symbol": "circle"
         },
         "mode": "markers",
         "name": "2568",
         "showlegend": true,
         "type": "scattergl",
         "x": [
          -1.645521392144838,
          0.2266340872061427,
          19.86842472907701,
          -0.8498192852040202,
          -9.22137377779483,
          12.423312883435583,
          -4.833364794114527,
          0.1370235502692121,
          6.8824235515995,
          14.493387248164272
         ],
         "xaxis": "x",
         "y": [
          0,
          0,
          0,
          0,
          0,
          0,
          0,
          0,
          0,
          0
         ],
         "yaxis": "y"
        },
        {
         "hovertemplate": "Individual=2569<br>Buy & Hold Strategy=%{x}<br>Neat Strategy=%{y}<extra></extra>",
         "legendgroup": "2569",
         "marker": {
          "color": "#FF97FF",
          "symbol": "circle"
         },
         "mode": "markers",
         "name": "2569",
         "showlegend": true,
         "type": "scattergl",
         "x": [
          -1.645521392144838,
          0.2266340872061427,
          19.86842472907701,
          -0.8498192852040202,
          -9.22137377779483,
          12.423312883435583,
          -4.833364794114527,
          0.1370235502692121,
          6.8824235515995,
          14.493387248164272
         ],
         "xaxis": "x",
         "y": [
          0,
          0,
          0,
          0,
          0,
          0,
          0,
          0,
          0,
          0
         ],
         "yaxis": "y"
        },
        {
         "hovertemplate": "Individual=2570<br>Buy & Hold Strategy=%{x}<br>Neat Strategy=%{y}<extra></extra>",
         "legendgroup": "2570",
         "marker": {
          "color": "#FECB52",
          "symbol": "circle"
         },
         "mode": "markers",
         "name": "2570",
         "showlegend": true,
         "type": "scattergl",
         "x": [
          -1.645521392144838,
          0.2266340872061427,
          19.86842472907701,
          -0.8498192852040202,
          -9.22137377779483,
          12.423312883435583,
          -4.833364794114527,
          0.1370235502692121,
          6.8824235515995,
          14.493387248164272
         ],
         "xaxis": "x",
         "y": [
          0,
          0,
          0,
          0,
          0,
          0,
          0,
          0,
          0,
          0
         ],
         "yaxis": "y"
        },
        {
         "hovertemplate": "Individual=2571<br>Buy & Hold Strategy=%{x}<br>Neat Strategy=%{y}<extra></extra>",
         "legendgroup": "2571",
         "marker": {
          "color": "#636efa",
          "symbol": "circle"
         },
         "mode": "markers",
         "name": "2571",
         "showlegend": true,
         "type": "scattergl",
         "x": [
          -1.645521392144838,
          0.2266340872061427,
          19.86842472907701,
          -0.8498192852040202,
          -9.22137377779483,
          12.423312883435583,
          -4.833364794114527,
          0.1370235502692121,
          6.8824235515995,
          14.493387248164272
         ],
         "xaxis": "x",
         "y": [
          0,
          0,
          0,
          0,
          0,
          0,
          0,
          0,
          0,
          0
         ],
         "yaxis": "y"
        },
        {
         "hovertemplate": "Individual=2572<br>Buy & Hold Strategy=%{x}<br>Neat Strategy=%{y}<extra></extra>",
         "legendgroup": "2572",
         "marker": {
          "color": "#EF553B",
          "symbol": "circle"
         },
         "mode": "markers",
         "name": "2572",
         "showlegend": true,
         "type": "scattergl",
         "x": [
          -1.645521392144838,
          0.2266340872061427,
          19.86842472907701,
          -0.8498192852040202,
          -9.22137377779483,
          12.423312883435583,
          -4.833364794114527,
          0.1370235502692121,
          6.8824235515995,
          14.493387248164272
         ],
         "xaxis": "x",
         "y": [
          0,
          0,
          0,
          0,
          0,
          0,
          0,
          0,
          0,
          0
         ],
         "yaxis": "y"
        },
        {
         "hovertemplate": "Individual=2573<br>Buy & Hold Strategy=%{x}<br>Neat Strategy=%{y}<extra></extra>",
         "legendgroup": "2573",
         "marker": {
          "color": "#00cc96",
          "symbol": "circle"
         },
         "mode": "markers",
         "name": "2573",
         "showlegend": true,
         "type": "scattergl",
         "x": [
          -1.645521392144838,
          0.2266340872061427,
          19.86842472907701,
          -0.8498192852040202,
          -9.22137377779483,
          12.423312883435583,
          -4.833364794114527,
          0.1370235502692121,
          6.8824235515995,
          14.493387248164272
         ],
         "xaxis": "x",
         "y": [
          0,
          0,
          0,
          0,
          0,
          0,
          0,
          0,
          0,
          0
         ],
         "yaxis": "y"
        },
        {
         "hovertemplate": "Individual=2574<br>Buy & Hold Strategy=%{x}<br>Neat Strategy=%{y}<extra></extra>",
         "legendgroup": "2574",
         "marker": {
          "color": "#ab63fa",
          "symbol": "circle"
         },
         "mode": "markers",
         "name": "2574",
         "showlegend": true,
         "type": "scattergl",
         "x": [
          -1.645521392144838,
          0.2266340872061427,
          19.86842472907701,
          -0.8498192852040202,
          -9.22137377779483,
          12.423312883435583,
          -4.833364794114527,
          0.1370235502692121,
          6.8824235515995,
          14.493387248164272
         ],
         "xaxis": "x",
         "y": [
          0,
          0,
          0,
          0,
          0,
          0,
          0,
          0,
          0,
          0
         ],
         "yaxis": "y"
        },
        {
         "hovertemplate": "Individual=2575<br>Buy & Hold Strategy=%{x}<br>Neat Strategy=%{y}<extra></extra>",
         "legendgroup": "2575",
         "marker": {
          "color": "#FFA15A",
          "symbol": "circle"
         },
         "mode": "markers",
         "name": "2575",
         "showlegend": true,
         "type": "scattergl",
         "x": [
          -1.645521392144838,
          0.2266340872061427,
          19.86842472907701,
          -0.8498192852040202,
          -9.22137377779483,
          12.423312883435583,
          -4.833364794114527,
          0.1370235502692121,
          6.8824235515995,
          14.493387248164272
         ],
         "xaxis": "x",
         "y": [
          0,
          0,
          0,
          0,
          0,
          0,
          0,
          0,
          0,
          0
         ],
         "yaxis": "y"
        },
        {
         "hovertemplate": "Individual=2576<br>Buy & Hold Strategy=%{x}<br>Neat Strategy=%{y}<extra></extra>",
         "legendgroup": "2576",
         "marker": {
          "color": "#19d3f3",
          "symbol": "circle"
         },
         "mode": "markers",
         "name": "2576",
         "showlegend": true,
         "type": "scattergl",
         "x": [
          -1.645521392144838,
          0.2266340872061427,
          19.86842472907701,
          -0.8498192852040202,
          -9.22137377779483,
          12.423312883435583,
          -4.833364794114527,
          0.1370235502692121,
          6.8824235515995,
          14.493387248164272
         ],
         "xaxis": "x",
         "y": [
          5.965080477685551,
          12.53491971646843,
          15.459888519396983,
          9.592775148692331,
          -2.184345213134773,
          1.526869498095708,
          -4.694223852081294,
          -4.261148163519287,
          7.304676692352305,
          7.485298473220831
         ],
         "yaxis": "y"
        },
        {
         "hovertemplate": "Individual=2577<br>Buy & Hold Strategy=%{x}<br>Neat Strategy=%{y}<extra></extra>",
         "legendgroup": "2577",
         "marker": {
          "color": "#FF6692",
          "symbol": "circle"
         },
         "mode": "markers",
         "name": "2577",
         "showlegend": true,
         "type": "scattergl",
         "x": [
          -1.645521392144838,
          0.2266340872061427,
          19.86842472907701,
          -0.8498192852040202,
          -9.22137377779483,
          12.423312883435583,
          -4.833364794114527,
          0.1370235502692121,
          6.8824235515995,
          14.493387248164272
         ],
         "xaxis": "x",
         "y": [
          0,
          0,
          0,
          0,
          0,
          0,
          0,
          0,
          0,
          0
         ],
         "yaxis": "y"
        },
        {
         "hovertemplate": "Individual=2578<br>Buy & Hold Strategy=%{x}<br>Neat Strategy=%{y}<extra></extra>",
         "legendgroup": "2578",
         "marker": {
          "color": "#B6E880",
          "symbol": "circle"
         },
         "mode": "markers",
         "name": "2578",
         "showlegend": true,
         "type": "scattergl",
         "x": [
          -1.645521392144838,
          0.2266340872061427,
          19.86842472907701,
          -0.8498192852040202,
          -9.22137377779483,
          12.423312883435583,
          -4.833364794114527,
          0.1370235502692121,
          6.8824235515995,
          14.493387248164272
         ],
         "xaxis": "x",
         "y": [
          0,
          0,
          0,
          0,
          0,
          0,
          0,
          0,
          0,
          0
         ],
         "yaxis": "y"
        },
        {
         "hovertemplate": "Individual=2579<br>Buy & Hold Strategy=%{x}<br>Neat Strategy=%{y}<extra></extra>",
         "legendgroup": "2579",
         "marker": {
          "color": "#FF97FF",
          "symbol": "circle"
         },
         "mode": "markers",
         "name": "2579",
         "showlegend": true,
         "type": "scattergl",
         "x": [
          -1.645521392144838,
          0.2266340872061427,
          19.86842472907701,
          -0.8498192852040202,
          -9.22137377779483,
          12.423312883435583,
          -4.833364794114527,
          0.1370235502692121,
          6.8824235515995,
          14.493387248164272
         ],
         "xaxis": "x",
         "y": [
          0,
          0,
          0,
          0,
          0,
          0,
          0,
          0,
          0,
          0
         ],
         "yaxis": "y"
        },
        {
         "hovertemplate": "Individual=2580<br>Buy & Hold Strategy=%{x}<br>Neat Strategy=%{y}<extra></extra>",
         "legendgroup": "2580",
         "marker": {
          "color": "#FECB52",
          "symbol": "circle"
         },
         "mode": "markers",
         "name": "2580",
         "showlegend": true,
         "type": "scattergl",
         "x": [
          -1.645521392144838,
          0.2266340872061427,
          19.86842472907701,
          -0.8498192852040202,
          -9.22137377779483,
          12.423312883435583,
          -4.833364794114527,
          0.1370235502692121,
          6.8824235515995,
          14.493387248164272
         ],
         "xaxis": "x",
         "y": [
          0,
          0,
          0,
          0,
          0,
          0,
          0,
          0,
          0,
          0
         ],
         "yaxis": "y"
        },
        {
         "hovertemplate": "Individual=2581<br>Buy & Hold Strategy=%{x}<br>Neat Strategy=%{y}<extra></extra>",
         "legendgroup": "2581",
         "marker": {
          "color": "#636efa",
          "symbol": "circle"
         },
         "mode": "markers",
         "name": "2581",
         "showlegend": true,
         "type": "scattergl",
         "x": [
          -1.645521392144838,
          0.2266340872061427,
          19.86842472907701,
          -0.8498192852040202,
          -9.22137377779483,
          12.423312883435583,
          -4.833364794114527,
          0.1370235502692121,
          6.8824235515995,
          14.493387248164272
         ],
         "xaxis": "x",
         "y": [
          0,
          0,
          0,
          0,
          0,
          0,
          0,
          0,
          0,
          0
         ],
         "yaxis": "y"
        },
        {
         "hovertemplate": "Individual=2582<br>Buy & Hold Strategy=%{x}<br>Neat Strategy=%{y}<extra></extra>",
         "legendgroup": "2582",
         "marker": {
          "color": "#EF553B",
          "symbol": "circle"
         },
         "mode": "markers",
         "name": "2582",
         "showlegend": true,
         "type": "scattergl",
         "x": [
          -1.645521392144838,
          0.2266340872061427,
          19.86842472907701,
          -0.8498192852040202,
          -9.22137377779483,
          12.423312883435583,
          -4.833364794114527,
          0.1370235502692121,
          6.8824235515995,
          14.493387248164272
         ],
         "xaxis": "x",
         "y": [
          0,
          0,
          0,
          0,
          0,
          0,
          0,
          0,
          0,
          0
         ],
         "yaxis": "y"
        },
        {
         "hovertemplate": "Individual=2583<br>Buy & Hold Strategy=%{x}<br>Neat Strategy=%{y}<extra></extra>",
         "legendgroup": "2583",
         "marker": {
          "color": "#00cc96",
          "symbol": "circle"
         },
         "mode": "markers",
         "name": "2583",
         "showlegend": true,
         "type": "scattergl",
         "x": [
          -1.645521392144838,
          0.2266340872061427,
          19.86842472907701,
          -0.8498192852040202,
          -9.22137377779483,
          12.423312883435583,
          -4.833364794114527,
          0.1370235502692121,
          6.8824235515995,
          14.493387248164272
         ],
         "xaxis": "x",
         "y": [
          0,
          0,
          0,
          0,
          0,
          0,
          0,
          0,
          0,
          0
         ],
         "yaxis": "y"
        },
        {
         "hovertemplate": "Individual=2584<br>Buy & Hold Strategy=%{x}<br>Neat Strategy=%{y}<extra></extra>",
         "legendgroup": "2584",
         "marker": {
          "color": "#ab63fa",
          "symbol": "circle"
         },
         "mode": "markers",
         "name": "2584",
         "showlegend": true,
         "type": "scattergl",
         "x": [
          -1.645521392144838,
          0.2266340872061427,
          19.86842472907701,
          -0.8498192852040202,
          -9.22137377779483,
          12.423312883435583,
          -4.833364794114527,
          0.1370235502692121,
          6.8824235515995,
          14.493387248164272
         ],
         "xaxis": "x",
         "y": [
          0,
          0,
          0,
          0,
          0,
          0,
          0,
          0,
          0,
          0
         ],
         "yaxis": "y"
        },
        {
         "hovertemplate": "Individual=2585<br>Buy & Hold Strategy=%{x}<br>Neat Strategy=%{y}<extra></extra>",
         "legendgroup": "2585",
         "marker": {
          "color": "#FFA15A",
          "symbol": "circle"
         },
         "mode": "markers",
         "name": "2585",
         "showlegend": true,
         "type": "scattergl",
         "x": [
          -1.645521392144838,
          0.2266340872061427,
          19.86842472907701,
          -0.8498192852040202,
          -9.22137377779483,
          12.423312883435583,
          -4.833364794114527,
          0.1370235502692121,
          6.8824235515995,
          14.493387248164272
         ],
         "xaxis": "x",
         "y": [
          -0.7112223459594766,
          -12.579110818294529,
          -20.89716172200928,
          -4.336692639934539,
          -5.661327575335687,
          -2.8584167863769454,
          11.148404615464784,
          1.0959659436767573,
          -10.852493488485715,
          -8.555387335705559
         ],
         "yaxis": "y"
        },
        {
         "hovertemplate": "Individual=2586<br>Buy & Hold Strategy=%{x}<br>Neat Strategy=%{y}<extra></extra>",
         "legendgroup": "2586",
         "marker": {
          "color": "#19d3f3",
          "symbol": "circle"
         },
         "mode": "markers",
         "name": "2586",
         "showlegend": true,
         "type": "scattergl",
         "x": [
          -1.645521392144838,
          0.2266340872061427,
          19.86842472907701,
          -0.8498192852040202,
          -9.22137377779483,
          12.423312883435583,
          -4.833364794114527,
          0.1370235502692121,
          6.8824235515995,
          14.493387248164272
         ],
         "xaxis": "x",
         "y": [
          0,
          0,
          0,
          0,
          0,
          0,
          0,
          0,
          0,
          0
         ],
         "yaxis": "y"
        },
        {
         "hovertemplate": "Individual=2587<br>Buy & Hold Strategy=%{x}<br>Neat Strategy=%{y}<extra></extra>",
         "legendgroup": "2587",
         "marker": {
          "color": "#FF6692",
          "symbol": "circle"
         },
         "mode": "markers",
         "name": "2587",
         "showlegend": true,
         "type": "scattergl",
         "x": [
          -1.645521392144838,
          0.2266340872061427,
          19.86842472907701,
          -0.8498192852040202,
          -9.22137377779483,
          12.423312883435583,
          -4.833364794114527,
          0.1370235502692121,
          6.8824235515995,
          14.493387248164272
         ],
         "xaxis": "x",
         "y": [
          0,
          0,
          0,
          0,
          0,
          0,
          0,
          0,
          0,
          0
         ],
         "yaxis": "y"
        },
        {
         "hovertemplate": "Individual=2588<br>Buy & Hold Strategy=%{x}<br>Neat Strategy=%{y}<extra></extra>",
         "legendgroup": "2588",
         "marker": {
          "color": "#B6E880",
          "symbol": "circle"
         },
         "mode": "markers",
         "name": "2588",
         "showlegend": true,
         "type": "scattergl",
         "x": [
          -1.645521392144838,
          0.2266340872061427,
          19.86842472907701,
          -0.8498192852040202,
          -9.22137377779483,
          12.423312883435583,
          -4.833364794114527,
          0.1370235502692121,
          6.8824235515995,
          14.493387248164272
         ],
         "xaxis": "x",
         "y": [
          0,
          0,
          0,
          0,
          0,
          0,
          0,
          0,
          0,
          0
         ],
         "yaxis": "y"
        },
        {
         "hovertemplate": "Individual=2589<br>Buy & Hold Strategy=%{x}<br>Neat Strategy=%{y}<extra></extra>",
         "legendgroup": "2589",
         "marker": {
          "color": "#FF97FF",
          "symbol": "circle"
         },
         "mode": "markers",
         "name": "2589",
         "showlegend": true,
         "type": "scattergl",
         "x": [
          -1.645521392144838,
          0.2266340872061427,
          19.86842472907701,
          -0.8498192852040202,
          -9.22137377779483,
          12.423312883435583,
          -4.833364794114527,
          0.1370235502692121,
          6.8824235515995,
          14.493387248164272
         ],
         "xaxis": "x",
         "y": [
          0,
          0,
          0,
          0,
          0,
          0,
          0,
          0,
          0,
          0
         ],
         "yaxis": "y"
        },
        {
         "hovertemplate": "Individual=2590<br>Buy & Hold Strategy=%{x}<br>Neat Strategy=%{y}<extra></extra>",
         "legendgroup": "2590",
         "marker": {
          "color": "#FECB52",
          "symbol": "circle"
         },
         "mode": "markers",
         "name": "2590",
         "showlegend": true,
         "type": "scattergl",
         "x": [
          -1.645521392144838,
          0.2266340872061427,
          19.86842472907701,
          -0.8498192852040202,
          -9.22137377779483,
          12.423312883435583,
          -4.833364794114527,
          0.1370235502692121,
          6.8824235515995,
          14.493387248164272
         ],
         "xaxis": "x",
         "y": [
          5.965080477685551,
          12.53491971646843,
          15.459888519396983,
          9.592775148692331,
          -2.184345213134773,
          1.526869498095708,
          -4.694223852081294,
          -4.261148163519287,
          7.304676692352305,
          7.485298473220831
         ],
         "yaxis": "y"
        },
        {
         "hovertemplate": "Individual=2591<br>Buy & Hold Strategy=%{x}<br>Neat Strategy=%{y}<extra></extra>",
         "legendgroup": "2591",
         "marker": {
          "color": "#636efa",
          "symbol": "circle"
         },
         "mode": "markers",
         "name": "2591",
         "showlegend": true,
         "type": "scattergl",
         "x": [
          -1.645521392144838,
          0.2266340872061427,
          19.86842472907701,
          -0.8498192852040202,
          -9.22137377779483,
          12.423312883435583,
          -4.833364794114527,
          0.1370235502692121,
          6.8824235515995,
          14.493387248164272
         ],
         "xaxis": "x",
         "y": [
          0,
          0,
          0,
          0,
          0,
          0,
          0,
          0,
          0,
          0
         ],
         "yaxis": "y"
        },
        {
         "hovertemplate": "Individual=2592<br>Buy & Hold Strategy=%{x}<br>Neat Strategy=%{y}<extra></extra>",
         "legendgroup": "2592",
         "marker": {
          "color": "#EF553B",
          "symbol": "circle"
         },
         "mode": "markers",
         "name": "2592",
         "showlegend": true,
         "type": "scattergl",
         "x": [
          -1.645521392144838,
          0.2266340872061427,
          19.86842472907701,
          -0.8498192852040202,
          -9.22137377779483,
          12.423312883435583,
          -4.833364794114527,
          0.1370235502692121,
          6.8824235515995,
          14.493387248164272
         ],
         "xaxis": "x",
         "y": [
          0,
          0,
          0,
          0,
          0,
          0,
          0,
          0,
          0,
          0
         ],
         "yaxis": "y"
        },
        {
         "hovertemplate": "Individual=2593<br>Buy & Hold Strategy=%{x}<br>Neat Strategy=%{y}<extra></extra>",
         "legendgroup": "2593",
         "marker": {
          "color": "#00cc96",
          "symbol": "circle"
         },
         "mode": "markers",
         "name": "2593",
         "showlegend": true,
         "type": "scattergl",
         "x": [
          -1.645521392144838,
          0.2266340872061427,
          19.86842472907701,
          -0.8498192852040202,
          -9.22137377779483,
          12.423312883435583,
          -4.833364794114527,
          0.1370235502692121,
          6.8824235515995,
          14.493387248164272
         ],
         "xaxis": "x",
         "y": [
          0,
          0,
          0,
          0,
          0,
          0,
          0,
          0,
          0,
          0
         ],
         "yaxis": "y"
        },
        {
         "hovertemplate": "Individual=2594<br>Buy & Hold Strategy=%{x}<br>Neat Strategy=%{y}<extra></extra>",
         "legendgroup": "2594",
         "marker": {
          "color": "#ab63fa",
          "symbol": "circle"
         },
         "mode": "markers",
         "name": "2594",
         "showlegend": true,
         "type": "scattergl",
         "x": [
          -1.645521392144838,
          0.2266340872061427,
          19.86842472907701,
          -0.8498192852040202,
          -9.22137377779483,
          12.423312883435583,
          -4.833364794114527,
          0.1370235502692121,
          6.8824235515995,
          14.493387248164272
         ],
         "xaxis": "x",
         "y": [
          0,
          0,
          0,
          0,
          0,
          0,
          0,
          0,
          0,
          0
         ],
         "yaxis": "y"
        },
        {
         "hovertemplate": "Individual=2595<br>Buy & Hold Strategy=%{x}<br>Neat Strategy=%{y}<extra></extra>",
         "legendgroup": "2595",
         "marker": {
          "color": "#FFA15A",
          "symbol": "circle"
         },
         "mode": "markers",
         "name": "2595",
         "showlegend": true,
         "type": "scattergl",
         "x": [
          -1.645521392144838,
          0.2266340872061427,
          19.86842472907701,
          -0.8498192852040202,
          -9.22137377779483,
          12.423312883435583,
          -4.833364794114527,
          0.1370235502692121,
          6.8824235515995,
          14.493387248164272
         ],
         "xaxis": "x",
         "y": [
          0,
          0,
          0,
          0,
          0,
          0,
          0,
          0,
          0,
          0
         ],
         "yaxis": "y"
        },
        {
         "hovertemplate": "Individual=2596<br>Buy & Hold Strategy=%{x}<br>Neat Strategy=%{y}<extra></extra>",
         "legendgroup": "2596",
         "marker": {
          "color": "#19d3f3",
          "symbol": "circle"
         },
         "mode": "markers",
         "name": "2596",
         "showlegend": true,
         "type": "scattergl",
         "x": [
          -1.645521392144838,
          0.2266340872061427,
          19.86842472907701,
          -0.8498192852040202,
          -9.22137377779483,
          12.423312883435583,
          -4.833364794114527,
          0.1370235502692121,
          6.8824235515995,
          14.493387248164272
         ],
         "xaxis": "x",
         "y": [
          0,
          0,
          0,
          0,
          0,
          0,
          0,
          0,
          0,
          0
         ],
         "yaxis": "y"
        },
        {
         "hovertemplate": "Individual=2597<br>Buy & Hold Strategy=%{x}<br>Neat Strategy=%{y}<extra></extra>",
         "legendgroup": "2597",
         "marker": {
          "color": "#FF6692",
          "symbol": "circle"
         },
         "mode": "markers",
         "name": "2597",
         "showlegend": true,
         "type": "scattergl",
         "x": [
          -1.645521392144838,
          0.2266340872061427,
          19.86842472907701,
          -0.8498192852040202,
          -9.22137377779483,
          12.423312883435583,
          -4.833364794114527,
          0.1370235502692121,
          6.8824235515995,
          14.493387248164272
         ],
         "xaxis": "x",
         "y": [
          1.8891856266204734,
          10.530780458191689,
          20.500891522009272,
          2.3525920597190852,
          5.267291785015864,
          2.4139678738769494,
          -11.547498822340392,
          -1.756281839660648,
          10.453347081582644,
          8.157856811022944
         ],
         "yaxis": "y"
        },
        {
         "hovertemplate": "Individual=2598<br>Buy & Hold Strategy=%{x}<br>Neat Strategy=%{y}<extra></extra>",
         "legendgroup": "2598",
         "marker": {
          "color": "#B6E880",
          "symbol": "circle"
         },
         "mode": "markers",
         "name": "2598",
         "showlegend": true,
         "type": "scattergl",
         "x": [
          -1.645521392144838,
          0.2266340872061427,
          19.86842472907701,
          -0.8498192852040202,
          -9.22137377779483,
          12.423312883435583,
          -4.833364794114527,
          0.1370235502692121,
          6.8824235515995,
          14.493387248164272
         ],
         "xaxis": "x",
         "y": [
          0,
          0,
          0,
          0,
          0,
          0,
          0,
          0,
          0,
          0
         ],
         "yaxis": "y"
        },
        {
         "hovertemplate": "Individual=2599<br>Buy & Hold Strategy=%{x}<br>Neat Strategy=%{y}<extra></extra>",
         "legendgroup": "2599",
         "marker": {
          "color": "#FF97FF",
          "symbol": "circle"
         },
         "mode": "markers",
         "name": "2599",
         "showlegend": true,
         "type": "scattergl",
         "x": [
          -1.645521392144838,
          0.2266340872061427,
          19.86842472907701,
          -0.8498192852040202,
          -9.22137377779483,
          12.423312883435583,
          -4.833364794114527,
          0.1370235502692121,
          6.8824235515995,
          14.493387248164272
         ],
         "xaxis": "x",
         "y": [
          0,
          0,
          0,
          0,
          0,
          0,
          0,
          0,
          0,
          0
         ],
         "yaxis": "y"
        },
        {
         "hovertemplate": "Individual=2600<br>Buy & Hold Strategy=%{x}<br>Neat Strategy=%{y}<extra></extra>",
         "legendgroup": "2600",
         "marker": {
          "color": "#FECB52",
          "symbol": "circle"
         },
         "mode": "markers",
         "name": "2600",
         "showlegend": true,
         "type": "scattergl",
         "x": [
          -1.645521392144838,
          0.2266340872061427,
          19.86842472907701,
          -0.8498192852040202,
          -9.22137377779483,
          12.423312883435583,
          -4.833364794114527,
          0.1370235502692121,
          6.8824235515995,
          14.493387248164272
         ],
         "xaxis": "x",
         "y": [
          0,
          0,
          0,
          0,
          0,
          0,
          0,
          0,
          0,
          0
         ],
         "yaxis": "y"
        },
        {
         "hovertemplate": "Individual=2601<br>Buy & Hold Strategy=%{x}<br>Neat Strategy=%{y}<extra></extra>",
         "legendgroup": "2601",
         "marker": {
          "color": "#636efa",
          "symbol": "circle"
         },
         "mode": "markers",
         "name": "2601",
         "showlegend": true,
         "type": "scattergl",
         "x": [
          -1.645521392144838,
          0.2266340872061427,
          19.86842472907701,
          -0.8498192852040202,
          -9.22137377779483,
          12.423312883435583,
          -4.833364794114527,
          0.1370235502692121,
          6.8824235515995,
          14.493387248164272
         ],
         "xaxis": "x",
         "y": [
          0,
          0,
          0,
          0,
          0,
          0,
          0,
          0,
          0,
          0
         ],
         "yaxis": "y"
        },
        {
         "hovertemplate": "Individual=2602<br>Buy & Hold Strategy=%{x}<br>Neat Strategy=%{y}<extra></extra>",
         "legendgroup": "2602",
         "marker": {
          "color": "#EF553B",
          "symbol": "circle"
         },
         "mode": "markers",
         "name": "2602",
         "showlegend": true,
         "type": "scattergl",
         "x": [
          -1.645521392144838,
          0.2266340872061427,
          19.86842472907701,
          -0.8498192852040202,
          -9.22137377779483,
          12.423312883435583,
          -4.833364794114527,
          0.1370235502692121,
          6.8824235515995,
          14.493387248164272
         ],
         "xaxis": "x",
         "y": [
          5.965080477685551,
          12.53491971646843,
          15.459888519396983,
          9.592775148692331,
          -2.184345213134773,
          1.526869498095708,
          -4.694223852081294,
          -4.261148163519287,
          7.304676692352305,
          7.485298473220831
         ],
         "yaxis": "y"
        },
        {
         "hovertemplate": "Individual=2603<br>Buy & Hold Strategy=%{x}<br>Neat Strategy=%{y}<extra></extra>",
         "legendgroup": "2603",
         "marker": {
          "color": "#00cc96",
          "symbol": "circle"
         },
         "mode": "markers",
         "name": "2603",
         "showlegend": true,
         "type": "scattergl",
         "x": [
          -1.645521392144838,
          0.2266340872061427,
          19.86842472907701,
          -0.8498192852040202,
          -9.22137377779483,
          12.423312883435583,
          -4.833364794114527,
          0.1370235502692121,
          6.8824235515995,
          14.493387248164272
         ],
         "xaxis": "x",
         "y": [
          0,
          0,
          0,
          0,
          0,
          0,
          0,
          0,
          0,
          0
         ],
         "yaxis": "y"
        },
        {
         "hovertemplate": "Individual=2604<br>Buy & Hold Strategy=%{x}<br>Neat Strategy=%{y}<extra></extra>",
         "legendgroup": "2604",
         "marker": {
          "color": "#ab63fa",
          "symbol": "circle"
         },
         "mode": "markers",
         "name": "2604",
         "showlegend": true,
         "type": "scattergl",
         "x": [
          -1.645521392144838,
          0.2266340872061427,
          19.86842472907701,
          -0.8498192852040202,
          -9.22137377779483,
          12.423312883435583,
          -4.833364794114527,
          0.1370235502692121,
          6.8824235515995,
          14.493387248164272
         ],
         "xaxis": "x",
         "y": [
          0,
          0,
          0,
          0,
          0,
          0,
          0,
          0,
          0,
          0
         ],
         "yaxis": "y"
        },
        {
         "hovertemplate": "Individual=2605<br>Buy & Hold Strategy=%{x}<br>Neat Strategy=%{y}<extra></extra>",
         "legendgroup": "2605",
         "marker": {
          "color": "#FFA15A",
          "symbol": "circle"
         },
         "mode": "markers",
         "name": "2605",
         "showlegend": true,
         "type": "scattergl",
         "x": [
          -1.645521392144838,
          0.2266340872061427,
          19.86842472907701,
          -0.8498192852040202,
          -9.22137377779483,
          12.423312883435583,
          -4.833364794114527,
          0.1370235502692121,
          6.8824235515995,
          14.493387248164272
         ],
         "xaxis": "x",
         "y": [
          0,
          0,
          0,
          0,
          0,
          0,
          0,
          0,
          0,
          0
         ],
         "yaxis": "y"
        },
        {
         "hovertemplate": "Individual=2606<br>Buy & Hold Strategy=%{x}<br>Neat Strategy=%{y}<extra></extra>",
         "legendgroup": "2606",
         "marker": {
          "color": "#19d3f3",
          "symbol": "circle"
         },
         "mode": "markers",
         "name": "2606",
         "showlegend": true,
         "type": "scattergl",
         "x": [
          -1.645521392144838,
          0.2266340872061427,
          19.86842472907701,
          -0.8498192852040202,
          -9.22137377779483,
          12.423312883435583,
          -4.833364794114527,
          0.1370235502692121,
          6.8824235515995,
          14.493387248164272
         ],
         "xaxis": "x",
         "y": [
          0,
          0,
          0,
          0,
          0,
          0,
          0,
          0,
          0,
          0
         ],
         "yaxis": "y"
        },
        {
         "hovertemplate": "Individual=2607<br>Buy & Hold Strategy=%{x}<br>Neat Strategy=%{y}<extra></extra>",
         "legendgroup": "2607",
         "marker": {
          "color": "#FF6692",
          "symbol": "circle"
         },
         "mode": "markers",
         "name": "2607",
         "showlegend": true,
         "type": "scattergl",
         "x": [
          -1.645521392144838,
          0.2266340872061427,
          19.86842472907701,
          -0.8498192852040202,
          -9.22137377779483,
          12.423312883435583,
          -4.833364794114527,
          0.1370235502692121,
          6.8824235515995,
          14.493387248164272
         ],
         "xaxis": "x",
         "y": [
          0,
          0,
          0,
          0,
          0,
          0,
          0,
          0,
          0,
          0
         ],
         "yaxis": "y"
        },
        {
         "hovertemplate": "Individual=2608<br>Buy & Hold Strategy=%{x}<br>Neat Strategy=%{y}<extra></extra>",
         "legendgroup": "2608",
         "marker": {
          "color": "#B6E880",
          "symbol": "circle"
         },
         "mode": "markers",
         "name": "2608",
         "showlegend": true,
         "type": "scattergl",
         "x": [
          -1.645521392144838,
          0.2266340872061427,
          19.86842472907701,
          -0.8498192852040202,
          -9.22137377779483,
          12.423312883435583,
          -4.833364794114527,
          0.1370235502692121,
          6.8824235515995,
          14.493387248164272
         ],
         "xaxis": "x",
         "y": [
          0,
          0,
          0,
          0,
          0,
          0,
          0,
          0,
          0,
          0
         ],
         "yaxis": "y"
        },
        {
         "hovertemplate": "Individual=2609<br>Buy & Hold Strategy=%{x}<br>Neat Strategy=%{y}<extra></extra>",
         "legendgroup": "2609",
         "marker": {
          "color": "#FF97FF",
          "symbol": "circle"
         },
         "mode": "markers",
         "name": "2609",
         "showlegend": true,
         "type": "scattergl",
         "x": [
          -1.645521392144838,
          0.2266340872061427,
          19.86842472907701,
          -0.8498192852040202,
          -9.22137377779483,
          12.423312883435583,
          -4.833364794114527,
          0.1370235502692121,
          6.8824235515995,
          14.493387248164272
         ],
         "xaxis": "x",
         "y": [
          0,
          0,
          0,
          0,
          0,
          0,
          0,
          0,
          0,
          0
         ],
         "yaxis": "y"
        },
        {
         "hovertemplate": "Individual=2610<br>Buy & Hold Strategy=%{x}<br>Neat Strategy=%{y}<extra></extra>",
         "legendgroup": "2610",
         "marker": {
          "color": "#FECB52",
          "symbol": "circle"
         },
         "mode": "markers",
         "name": "2610",
         "showlegend": true,
         "type": "scattergl",
         "x": [
          -1.645521392144838,
          0.2266340872061427,
          19.86842472907701,
          -0.8498192852040202,
          -9.22137377779483,
          12.423312883435583,
          -4.833364794114527,
          0.1370235502692121,
          6.8824235515995,
          14.493387248164272
         ],
         "xaxis": "x",
         "y": [
          0,
          0,
          0,
          0,
          0,
          0,
          0,
          0,
          0,
          0
         ],
         "yaxis": "y"
        },
        {
         "hovertemplate": "Individual=2611<br>Buy & Hold Strategy=%{x}<br>Neat Strategy=%{y}<extra></extra>",
         "legendgroup": "2611",
         "marker": {
          "color": "#636efa",
          "symbol": "circle"
         },
         "mode": "markers",
         "name": "2611",
         "showlegend": true,
         "type": "scattergl",
         "x": [
          -1.645521392144838,
          0.2266340872061427,
          19.86842472907701,
          -0.8498192852040202,
          -9.22137377779483,
          12.423312883435583,
          -4.833364794114527,
          0.1370235502692121,
          6.8824235515995,
          14.493387248164272
         ],
         "xaxis": "x",
         "y": [
          0,
          0,
          0,
          0,
          0,
          0,
          0,
          0,
          0,
          0
         ],
         "yaxis": "y"
        },
        {
         "hovertemplate": "Individual=2612<br>Buy & Hold Strategy=%{x}<br>Neat Strategy=%{y}<extra></extra>",
         "legendgroup": "2612",
         "marker": {
          "color": "#EF553B",
          "symbol": "circle"
         },
         "mode": "markers",
         "name": "2612",
         "showlegend": true,
         "type": "scattergl",
         "x": [
          -1.645521392144838,
          0.2266340872061427,
          19.86842472907701,
          -0.8498192852040202,
          -9.22137377779483,
          12.423312883435583,
          -4.833364794114527,
          0.1370235502692121,
          6.8824235515995,
          14.493387248164272
         ],
         "xaxis": "x",
         "y": [
          0,
          0,
          0,
          0,
          0,
          0,
          0,
          0,
          0,
          0
         ],
         "yaxis": "y"
        },
        {
         "hovertemplate": "Individual=2613<br>Buy & Hold Strategy=%{x}<br>Neat Strategy=%{y}<extra></extra>",
         "legendgroup": "2613",
         "marker": {
          "color": "#00cc96",
          "symbol": "circle"
         },
         "mode": "markers",
         "name": "2613",
         "showlegend": true,
         "type": "scattergl",
         "x": [
          -1.645521392144838,
          0.2266340872061427,
          19.86842472907701,
          -0.8498192852040202,
          -9.22137377779483,
          12.423312883435583,
          -4.833364794114527,
          0.1370235502692121,
          6.8824235515995,
          14.493387248164272
         ],
         "xaxis": "x",
         "y": [
          0,
          0,
          0,
          0,
          0,
          0,
          0,
          0,
          0,
          0
         ],
         "yaxis": "y"
        },
        {
         "hovertemplate": "Individual=2614<br>Buy & Hold Strategy=%{x}<br>Neat Strategy=%{y}<extra></extra>",
         "legendgroup": "2614",
         "marker": {
          "color": "#ab63fa",
          "symbol": "circle"
         },
         "mode": "markers",
         "name": "2614",
         "showlegend": true,
         "type": "scattergl",
         "x": [
          -1.645521392144838,
          0.2266340872061427,
          19.86842472907701,
          -0.8498192852040202,
          -9.22137377779483,
          12.423312883435583,
          -4.833364794114527,
          0.1370235502692121,
          6.8824235515995,
          14.493387248164272
         ],
         "xaxis": "x",
         "y": [
          0,
          0,
          0,
          0,
          0,
          0,
          0,
          0,
          0,
          0
         ],
         "yaxis": "y"
        },
        {
         "hovertemplate": "Individual=2615<br>Buy & Hold Strategy=%{x}<br>Neat Strategy=%{y}<extra></extra>",
         "legendgroup": "2615",
         "marker": {
          "color": "#FFA15A",
          "symbol": "circle"
         },
         "mode": "markers",
         "name": "2615",
         "showlegend": true,
         "type": "scattergl",
         "x": [
          -1.645521392144838,
          0.2266340872061427,
          19.86842472907701,
          -0.8498192852040202,
          -9.22137377779483,
          12.423312883435583,
          -4.833364794114527,
          0.1370235502692121,
          6.8824235515995,
          14.493387248164272
         ],
         "xaxis": "x",
         "y": [
          0,
          0,
          0,
          0,
          0,
          0,
          0,
          0,
          0,
          0
         ],
         "yaxis": "y"
        },
        {
         "hovertemplate": "Individual=2616<br>Buy & Hold Strategy=%{x}<br>Neat Strategy=%{y}<extra></extra>",
         "legendgroup": "2616",
         "marker": {
          "color": "#19d3f3",
          "symbol": "circle"
         },
         "mode": "markers",
         "name": "2616",
         "showlegend": true,
         "type": "scattergl",
         "x": [
          -1.645521392144838,
          0.2266340872061427,
          19.86842472907701,
          -0.8498192852040202,
          -9.22137377779483,
          12.423312883435583,
          -4.833364794114527,
          0.1370235502692121,
          6.8824235515995,
          14.493387248164272
         ],
         "xaxis": "x",
         "y": [
          0,
          0,
          0,
          0,
          0,
          0,
          0,
          0,
          0,
          0
         ],
         "yaxis": "y"
        },
        {
         "hovertemplate": "Individual=2617<br>Buy & Hold Strategy=%{x}<br>Neat Strategy=%{y}<extra></extra>",
         "legendgroup": "2617",
         "marker": {
          "color": "#FF6692",
          "symbol": "circle"
         },
         "mode": "markers",
         "name": "2617",
         "showlegend": true,
         "type": "scattergl",
         "x": [
          -1.645521392144838,
          0.2266340872061427,
          19.86842472907701,
          -0.8498192852040202,
          -9.22137377779483,
          12.423312883435583,
          -4.833364794114527,
          0.1370235502692121,
          6.8824235515995,
          14.493387248164272
         ],
         "xaxis": "x",
         "y": [
          0,
          0,
          0,
          0,
          0,
          0,
          0,
          0,
          0,
          0
         ],
         "yaxis": "y"
        },
        {
         "hovertemplate": "Individual=2618<br>Buy & Hold Strategy=%{x}<br>Neat Strategy=%{y}<extra></extra>",
         "legendgroup": "2618",
         "marker": {
          "color": "#B6E880",
          "symbol": "circle"
         },
         "mode": "markers",
         "name": "2618",
         "showlegend": true,
         "type": "scattergl",
         "x": [
          -1.645521392144838,
          0.2266340872061427,
          19.86842472907701,
          -0.8498192852040202,
          -9.22137377779483,
          12.423312883435583,
          -4.833364794114527,
          0.1370235502692121,
          6.8824235515995,
          14.493387248164272
         ],
         "xaxis": "x",
         "y": [
          0,
          0,
          0,
          0,
          0,
          0,
          0,
          0,
          0,
          0
         ],
         "yaxis": "y"
        },
        {
         "hovertemplate": "Individual=2619<br>Buy & Hold Strategy=%{x}<br>Neat Strategy=%{y}<extra></extra>",
         "legendgroup": "2619",
         "marker": {
          "color": "#FF97FF",
          "symbol": "circle"
         },
         "mode": "markers",
         "name": "2619",
         "showlegend": true,
         "type": "scattergl",
         "x": [
          -1.645521392144838,
          0.2266340872061427,
          19.86842472907701,
          -0.8498192852040202,
          -9.22137377779483,
          12.423312883435583,
          -4.833364794114527,
          0.1370235502692121,
          6.8824235515995,
          14.493387248164272
         ],
         "xaxis": "x",
         "y": [
          0,
          0,
          0,
          0,
          0,
          0,
          0,
          0,
          0,
          0
         ],
         "yaxis": "y"
        },
        {
         "hovertemplate": "Individual=2620<br>Buy & Hold Strategy=%{x}<br>Neat Strategy=%{y}<extra></extra>",
         "legendgroup": "2620",
         "marker": {
          "color": "#FECB52",
          "symbol": "circle"
         },
         "mode": "markers",
         "name": "2620",
         "showlegend": true,
         "type": "scattergl",
         "x": [
          -1.645521392144838,
          0.2266340872061427,
          19.86842472907701,
          -0.8498192852040202,
          -9.22137377779483,
          12.423312883435583,
          -4.833364794114527,
          0.1370235502692121,
          6.8824235515995,
          14.493387248164272
         ],
         "xaxis": "x",
         "y": [
          0,
          0,
          0,
          0,
          0,
          0,
          0,
          0,
          0,
          0
         ],
         "yaxis": "y"
        },
        {
         "hovertemplate": "Individual=2621<br>Buy & Hold Strategy=%{x}<br>Neat Strategy=%{y}<extra></extra>",
         "legendgroup": "2621",
         "marker": {
          "color": "#636efa",
          "symbol": "circle"
         },
         "mode": "markers",
         "name": "2621",
         "showlegend": true,
         "type": "scattergl",
         "x": [
          -1.645521392144838,
          0.2266340872061427,
          19.86842472907701,
          -0.8498192852040202,
          -9.22137377779483,
          12.423312883435583,
          -4.833364794114527,
          0.1370235502692121,
          6.8824235515995,
          14.493387248164272
         ],
         "xaxis": "x",
         "y": [
          0,
          0,
          0,
          0,
          0,
          0,
          0,
          0,
          0,
          0
         ],
         "yaxis": "y"
        },
        {
         "hovertemplate": "Individual=2622<br>Buy & Hold Strategy=%{x}<br>Neat Strategy=%{y}<extra></extra>",
         "legendgroup": "2622",
         "marker": {
          "color": "#EF553B",
          "symbol": "circle"
         },
         "mode": "markers",
         "name": "2622",
         "showlegend": true,
         "type": "scattergl",
         "x": [
          -1.645521392144838,
          0.2266340872061427,
          19.86842472907701,
          -0.8498192852040202,
          -9.22137377779483,
          12.423312883435583,
          -4.833364794114527,
          0.1370235502692121,
          6.8824235515995,
          14.493387248164272
         ],
         "xaxis": "x",
         "y": [
          0,
          0,
          0,
          0,
          0,
          0,
          0,
          0,
          0,
          0
         ],
         "yaxis": "y"
        },
        {
         "hovertemplate": "Individual=2623<br>Buy & Hold Strategy=%{x}<br>Neat Strategy=%{y}<extra></extra>",
         "legendgroup": "2623",
         "marker": {
          "color": "#00cc96",
          "symbol": "circle"
         },
         "mode": "markers",
         "name": "2623",
         "showlegend": true,
         "type": "scattergl",
         "x": [
          -1.645521392144838,
          0.2266340872061427,
          19.86842472907701,
          -0.8498192852040202,
          -9.22137377779483,
          12.423312883435583,
          -4.833364794114527,
          0.1370235502692121,
          6.8824235515995,
          14.493387248164272
         ],
         "xaxis": "x",
         "y": [
          0,
          0,
          0,
          0,
          0,
          0,
          0,
          0,
          0,
          0
         ],
         "yaxis": "y"
        },
        {
         "hovertemplate": "Individual=2624<br>Buy & Hold Strategy=%{x}<br>Neat Strategy=%{y}<extra></extra>",
         "legendgroup": "2624",
         "marker": {
          "color": "#ab63fa",
          "symbol": "circle"
         },
         "mode": "markers",
         "name": "2624",
         "showlegend": true,
         "type": "scattergl",
         "x": [
          -1.645521392144838,
          0.2266340872061427,
          19.86842472907701,
          -0.8498192852040202,
          -9.22137377779483,
          12.423312883435583,
          -4.833364794114527,
          0.1370235502692121,
          6.8824235515995,
          14.493387248164272
         ],
         "xaxis": "x",
         "y": [
          0,
          0,
          0,
          0,
          0,
          0,
          0,
          0,
          0,
          0
         ],
         "yaxis": "y"
        },
        {
         "hovertemplate": "Individual=2625<br>Buy & Hold Strategy=%{x}<br>Neat Strategy=%{y}<extra></extra>",
         "legendgroup": "2625",
         "marker": {
          "color": "#FFA15A",
          "symbol": "circle"
         },
         "mode": "markers",
         "name": "2625",
         "showlegend": true,
         "type": "scattergl",
         "x": [
          -1.645521392144838,
          0.2266340872061427,
          19.86842472907701,
          -0.8498192852040202,
          -9.22137377779483,
          12.423312883435583,
          -4.833364794114527,
          0.1370235502692121,
          6.8824235515995,
          14.493387248164272
         ],
         "xaxis": "x",
         "y": [
          0,
          0,
          0,
          0,
          0,
          0,
          0,
          0,
          0,
          0
         ],
         "yaxis": "y"
        },
        {
         "hovertemplate": "Individual=2626<br>Buy & Hold Strategy=%{x}<br>Neat Strategy=%{y}<extra></extra>",
         "legendgroup": "2626",
         "marker": {
          "color": "#19d3f3",
          "symbol": "circle"
         },
         "mode": "markers",
         "name": "2626",
         "showlegend": true,
         "type": "scattergl",
         "x": [
          -1.645521392144838,
          0.2266340872061427,
          19.86842472907701,
          -0.8498192852040202,
          -9.22137377779483,
          12.423312883435583,
          -4.833364794114527,
          0.1370235502692121,
          6.8824235515995,
          14.493387248164272
         ],
         "xaxis": "x",
         "y": [
          0,
          0,
          0,
          0,
          0,
          0,
          0,
          0,
          0,
          0
         ],
         "yaxis": "y"
        },
        {
         "hovertemplate": "Individual=2627<br>Buy & Hold Strategy=%{x}<br>Neat Strategy=%{y}<extra></extra>",
         "legendgroup": "2627",
         "marker": {
          "color": "#FF6692",
          "symbol": "circle"
         },
         "mode": "markers",
         "name": "2627",
         "showlegend": true,
         "type": "scattergl",
         "x": [
          -1.645521392144838,
          0.2266340872061427,
          19.86842472907701,
          -0.8498192852040202,
          -9.22137377779483,
          12.423312883435583,
          -4.833364794114527,
          0.1370235502692121,
          6.8824235515995,
          14.493387248164272
         ],
         "xaxis": "x",
         "y": [
          0,
          0,
          0,
          0,
          0,
          0,
          0,
          0,
          0,
          0
         ],
         "yaxis": "y"
        },
        {
         "hovertemplate": "Individual=2628<br>Buy & Hold Strategy=%{x}<br>Neat Strategy=%{y}<extra></extra>",
         "legendgroup": "2628",
         "marker": {
          "color": "#B6E880",
          "symbol": "circle"
         },
         "mode": "markers",
         "name": "2628",
         "showlegend": true,
         "type": "scattergl",
         "x": [
          -1.645521392144838,
          0.2266340872061427,
          19.86842472907701,
          -0.8498192852040202,
          -9.22137377779483,
          12.423312883435583,
          -4.833364794114527,
          0.1370235502692121,
          6.8824235515995,
          14.493387248164272
         ],
         "xaxis": "x",
         "y": [
          0,
          0,
          0,
          0,
          0,
          0,
          0,
          0,
          0,
          0
         ],
         "yaxis": "y"
        },
        {
         "hovertemplate": "Individual=2629<br>Buy & Hold Strategy=%{x}<br>Neat Strategy=%{y}<extra></extra>",
         "legendgroup": "2629",
         "marker": {
          "color": "#FF97FF",
          "symbol": "circle"
         },
         "mode": "markers",
         "name": "2629",
         "showlegend": true,
         "type": "scattergl",
         "x": [
          -1.645521392144838,
          0.2266340872061427,
          19.86842472907701,
          -0.8498192852040202,
          -9.22137377779483,
          12.423312883435583,
          -4.833364794114527,
          0.1370235502692121,
          6.8824235515995,
          14.493387248164272
         ],
         "xaxis": "x",
         "y": [
          0,
          0,
          0,
          0,
          0,
          0,
          0,
          0,
          0,
          0
         ],
         "yaxis": "y"
        },
        {
         "hovertemplate": "Individual=2630<br>Buy & Hold Strategy=%{x}<br>Neat Strategy=%{y}<extra></extra>",
         "legendgroup": "2630",
         "marker": {
          "color": "#FECB52",
          "symbol": "circle"
         },
         "mode": "markers",
         "name": "2630",
         "showlegend": true,
         "type": "scattergl",
         "x": [
          -1.645521392144838,
          0.2266340872061427,
          19.86842472907701,
          -0.8498192852040202,
          -9.22137377779483,
          12.423312883435583,
          -4.833364794114527,
          0.1370235502692121,
          6.8824235515995,
          14.493387248164272
         ],
         "xaxis": "x",
         "y": [
          0,
          0,
          0,
          0,
          0,
          0,
          0,
          0,
          0,
          0
         ],
         "yaxis": "y"
        },
        {
         "hovertemplate": "Individual=2631<br>Buy & Hold Strategy=%{x}<br>Neat Strategy=%{y}<extra></extra>",
         "legendgroup": "2631",
         "marker": {
          "color": "#636efa",
          "symbol": "circle"
         },
         "mode": "markers",
         "name": "2631",
         "showlegend": true,
         "type": "scattergl",
         "x": [
          -1.645521392144838,
          0.2266340872061427,
          19.86842472907701,
          -0.8498192852040202,
          -9.22137377779483,
          12.423312883435583,
          -4.833364794114527,
          0.1370235502692121,
          6.8824235515995,
          14.493387248164272
         ],
         "xaxis": "x",
         "y": [
          0,
          0,
          0,
          0,
          0,
          0,
          0,
          0,
          0,
          0
         ],
         "yaxis": "y"
        },
        {
         "hovertemplate": "Individual=2632<br>Buy & Hold Strategy=%{x}<br>Neat Strategy=%{y}<extra></extra>",
         "legendgroup": "2632",
         "marker": {
          "color": "#EF553B",
          "symbol": "circle"
         },
         "mode": "markers",
         "name": "2632",
         "showlegend": true,
         "type": "scattergl",
         "x": [
          -1.645521392144838,
          0.2266340872061427,
          19.86842472907701,
          -0.8498192852040202,
          -9.22137377779483,
          12.423312883435583,
          -4.833364794114527,
          0.1370235502692121,
          6.8824235515995,
          14.493387248164272
         ],
         "xaxis": "x",
         "y": [
          0,
          0,
          0,
          0,
          0,
          0,
          0,
          0,
          0,
          0
         ],
         "yaxis": "y"
        },
        {
         "hovertemplate": "Individual=2633<br>Buy & Hold Strategy=%{x}<br>Neat Strategy=%{y}<extra></extra>",
         "legendgroup": "2633",
         "marker": {
          "color": "#00cc96",
          "symbol": "circle"
         },
         "mode": "markers",
         "name": "2633",
         "showlegend": true,
         "type": "scattergl",
         "x": [
          -1.645521392144838,
          0.2266340872061427,
          19.86842472907701,
          -0.8498192852040202,
          -9.22137377779483,
          12.423312883435583,
          -4.833364794114527,
          0.1370235502692121,
          6.8824235515995,
          14.493387248164272
         ],
         "xaxis": "x",
         "y": [
          0,
          0,
          0,
          0,
          0,
          0,
          0,
          0,
          0,
          0
         ],
         "yaxis": "y"
        },
        {
         "hovertemplate": "Individual=2634<br>Buy & Hold Strategy=%{x}<br>Neat Strategy=%{y}<extra></extra>",
         "legendgroup": "2634",
         "marker": {
          "color": "#ab63fa",
          "symbol": "circle"
         },
         "mode": "markers",
         "name": "2634",
         "showlegend": true,
         "type": "scattergl",
         "x": [
          -1.645521392144838,
          0.2266340872061427,
          19.86842472907701,
          -0.8498192852040202,
          -9.22137377779483,
          12.423312883435583,
          -4.833364794114527,
          0.1370235502692121,
          6.8824235515995,
          14.493387248164272
         ],
         "xaxis": "x",
         "y": [
          0,
          0,
          0,
          0,
          0,
          0,
          0,
          0,
          0,
          0
         ],
         "yaxis": "y"
        },
        {
         "hovertemplate": "Individual=2635<br>Buy & Hold Strategy=%{x}<br>Neat Strategy=%{y}<extra></extra>",
         "legendgroup": "2635",
         "marker": {
          "color": "#FFA15A",
          "symbol": "circle"
         },
         "mode": "markers",
         "name": "2635",
         "showlegend": true,
         "type": "scattergl",
         "x": [
          -1.645521392144838,
          0.2266340872061427,
          19.86842472907701,
          -0.8498192852040202,
          -9.22137377779483,
          12.423312883435583,
          -4.833364794114527,
          0.1370235502692121,
          6.8824235515995,
          14.493387248164272
         ],
         "xaxis": "x",
         "y": [
          0,
          0,
          0,
          0,
          0,
          0,
          0,
          0,
          0,
          0
         ],
         "yaxis": "y"
        },
        {
         "hovertemplate": "Individual=2636<br>Buy & Hold Strategy=%{x}<br>Neat Strategy=%{y}<extra></extra>",
         "legendgroup": "2636",
         "marker": {
          "color": "#19d3f3",
          "symbol": "circle"
         },
         "mode": "markers",
         "name": "2636",
         "showlegend": true,
         "type": "scattergl",
         "x": [
          -1.645521392144838,
          0.2266340872061427,
          19.86842472907701,
          -0.8498192852040202,
          -9.22137377779483,
          12.423312883435583,
          -4.833364794114527,
          0.1370235502692121,
          6.8824235515995,
          14.493387248164272
         ],
         "xaxis": "x",
         "y": [
          0,
          0,
          0,
          0,
          0,
          0,
          0,
          0,
          0,
          0
         ],
         "yaxis": "y"
        },
        {
         "hovertemplate": "Individual=2637<br>Buy & Hold Strategy=%{x}<br>Neat Strategy=%{y}<extra></extra>",
         "legendgroup": "2637",
         "marker": {
          "color": "#FF6692",
          "symbol": "circle"
         },
         "mode": "markers",
         "name": "2637",
         "showlegend": true,
         "type": "scattergl",
         "x": [
          -1.645521392144838,
          0.2266340872061427,
          19.86842472907701,
          -0.8498192852040202,
          -9.22137377779483,
          12.423312883435583,
          -4.833364794114527,
          0.1370235502692121,
          6.8824235515995,
          14.493387248164272
         ],
         "xaxis": "x",
         "y": [
          0,
          0,
          0,
          0,
          0,
          0,
          0,
          0,
          0,
          0
         ],
         "yaxis": "y"
        },
        {
         "hovertemplate": "Individual=2638<br>Buy & Hold Strategy=%{x}<br>Neat Strategy=%{y}<extra></extra>",
         "legendgroup": "2638",
         "marker": {
          "color": "#B6E880",
          "symbol": "circle"
         },
         "mode": "markers",
         "name": "2638",
         "showlegend": true,
         "type": "scattergl",
         "x": [
          -1.645521392144838,
          0.2266340872061427,
          19.86842472907701,
          -0.8498192852040202,
          -9.22137377779483,
          12.423312883435583,
          -4.833364794114527,
          0.1370235502692121,
          6.8824235515995,
          14.493387248164272
         ],
         "xaxis": "x",
         "y": [
          0,
          0,
          0,
          0,
          0,
          0,
          0,
          0,
          0,
          0
         ],
         "yaxis": "y"
        },
        {
         "hovertemplate": "Individual=2639<br>Buy & Hold Strategy=%{x}<br>Neat Strategy=%{y}<extra></extra>",
         "legendgroup": "2639",
         "marker": {
          "color": "#FF97FF",
          "symbol": "circle"
         },
         "mode": "markers",
         "name": "2639",
         "showlegend": true,
         "type": "scattergl",
         "x": [
          -1.645521392144838,
          0.2266340872061427,
          19.86842472907701,
          -0.8498192852040202,
          -9.22137377779483,
          12.423312883435583,
          -4.833364794114527,
          0.1370235502692121,
          6.8824235515995,
          14.493387248164272
         ],
         "xaxis": "x",
         "y": [
          0,
          0,
          0,
          0,
          0,
          0,
          0,
          0,
          0,
          0
         ],
         "yaxis": "y"
        },
        {
         "hovertemplate": "Individual=2640<br>Buy & Hold Strategy=%{x}<br>Neat Strategy=%{y}<extra></extra>",
         "legendgroup": "2640",
         "marker": {
          "color": "#FECB52",
          "symbol": "circle"
         },
         "mode": "markers",
         "name": "2640",
         "showlegend": true,
         "type": "scattergl",
         "x": [
          -1.645521392144838,
          0.2266340872061427,
          19.86842472907701,
          -0.8498192852040202,
          -9.22137377779483,
          12.423312883435583,
          -4.833364794114527,
          0.1370235502692121,
          6.8824235515995,
          14.493387248164272
         ],
         "xaxis": "x",
         "y": [
          0,
          0,
          0,
          0,
          0,
          0,
          0,
          0,
          0,
          0
         ],
         "yaxis": "y"
        },
        {
         "hovertemplate": "Individual=2641<br>Buy & Hold Strategy=%{x}<br>Neat Strategy=%{y}<extra></extra>",
         "legendgroup": "2641",
         "marker": {
          "color": "#636efa",
          "symbol": "circle"
         },
         "mode": "markers",
         "name": "2641",
         "showlegend": true,
         "type": "scattergl",
         "x": [
          -1.645521392144838,
          0.2266340872061427,
          19.86842472907701,
          -0.8498192852040202,
          -9.22137377779483,
          12.423312883435583,
          -4.833364794114527,
          0.1370235502692121,
          6.8824235515995,
          14.493387248164272
         ],
         "xaxis": "x",
         "y": [
          0,
          0,
          0,
          0,
          0,
          0,
          0,
          0,
          0,
          0
         ],
         "yaxis": "y"
        },
        {
         "hovertemplate": "Individual=2642<br>Buy & Hold Strategy=%{x}<br>Neat Strategy=%{y}<extra></extra>",
         "legendgroup": "2642",
         "marker": {
          "color": "#EF553B",
          "symbol": "circle"
         },
         "mode": "markers",
         "name": "2642",
         "showlegend": true,
         "type": "scattergl",
         "x": [
          -1.645521392144838,
          0.2266340872061427,
          19.86842472907701,
          -0.8498192852040202,
          -9.22137377779483,
          12.423312883435583,
          -4.833364794114527,
          0.1370235502692121,
          6.8824235515995,
          14.493387248164272
         ],
         "xaxis": "x",
         "y": [
          0,
          0,
          0,
          0,
          0,
          0,
          0,
          0,
          0,
          0
         ],
         "yaxis": "y"
        },
        {
         "hovertemplate": "Individual=2643<br>Buy & Hold Strategy=%{x}<br>Neat Strategy=%{y}<extra></extra>",
         "legendgroup": "2643",
         "marker": {
          "color": "#00cc96",
          "symbol": "circle"
         },
         "mode": "markers",
         "name": "2643",
         "showlegend": true,
         "type": "scattergl",
         "x": [
          -1.645521392144838,
          0.2266340872061427,
          19.86842472907701,
          -0.8498192852040202,
          -9.22137377779483,
          12.423312883435583,
          -4.833364794114527,
          0.1370235502692121,
          6.8824235515995,
          14.493387248164272
         ],
         "xaxis": "x",
         "y": [
          0,
          0,
          0,
          0,
          0,
          0,
          0,
          0,
          0,
          0
         ],
         "yaxis": "y"
        },
        {
         "hovertemplate": "Individual=2644<br>Buy & Hold Strategy=%{x}<br>Neat Strategy=%{y}<extra></extra>",
         "legendgroup": "2644",
         "marker": {
          "color": "#ab63fa",
          "symbol": "circle"
         },
         "mode": "markers",
         "name": "2644",
         "showlegend": true,
         "type": "scattergl",
         "x": [
          -1.645521392144838,
          0.2266340872061427,
          19.86842472907701,
          -0.8498192852040202,
          -9.22137377779483,
          12.423312883435583,
          -4.833364794114527,
          0.1370235502692121,
          6.8824235515995,
          14.493387248164272
         ],
         "xaxis": "x",
         "y": [
          0,
          0,
          0,
          0,
          0,
          0,
          0,
          0,
          0,
          0
         ],
         "yaxis": "y"
        },
        {
         "hovertemplate": "Individual=2645<br>Buy & Hold Strategy=%{x}<br>Neat Strategy=%{y}<extra></extra>",
         "legendgroup": "2645",
         "marker": {
          "color": "#FFA15A",
          "symbol": "circle"
         },
         "mode": "markers",
         "name": "2645",
         "showlegend": true,
         "type": "scattergl",
         "x": [
          -1.645521392144838,
          0.2266340872061427,
          19.86842472907701,
          -0.8498192852040202,
          -9.22137377779483,
          12.423312883435583,
          -4.833364794114527,
          0.1370235502692121,
          6.8824235515995,
          14.493387248164272
         ],
         "xaxis": "x",
         "y": [
          0,
          0,
          0,
          0,
          0,
          0,
          0,
          0,
          0,
          0
         ],
         "yaxis": "y"
        },
        {
         "hovertemplate": "Individual=2646<br>Buy & Hold Strategy=%{x}<br>Neat Strategy=%{y}<extra></extra>",
         "legendgroup": "2646",
         "marker": {
          "color": "#19d3f3",
          "symbol": "circle"
         },
         "mode": "markers",
         "name": "2646",
         "showlegend": true,
         "type": "scattergl",
         "x": [
          -1.645521392144838,
          0.2266340872061427,
          19.86842472907701,
          -0.8498192852040202,
          -9.22137377779483,
          12.423312883435583,
          -4.833364794114527,
          0.1370235502692121,
          6.8824235515995,
          14.493387248164272
         ],
         "xaxis": "x",
         "y": [
          0,
          0,
          0,
          0,
          0,
          0,
          0,
          0,
          0,
          0
         ],
         "yaxis": "y"
        },
        {
         "hovertemplate": "Individual=2647<br>Buy & Hold Strategy=%{x}<br>Neat Strategy=%{y}<extra></extra>",
         "legendgroup": "2647",
         "marker": {
          "color": "#FF6692",
          "symbol": "circle"
         },
         "mode": "markers",
         "name": "2647",
         "showlegend": true,
         "type": "scattergl",
         "x": [
          -1.645521392144838,
          0.2266340872061427,
          19.86842472907701,
          -0.8498192852040202,
          -9.22137377779483,
          12.423312883435583,
          -4.833364794114527,
          0.1370235502692121,
          6.8824235515995,
          14.493387248164272
         ],
         "xaxis": "x",
         "y": [
          0,
          0,
          0,
          0,
          0,
          0,
          0,
          0,
          0,
          0
         ],
         "yaxis": "y"
        },
        {
         "hovertemplate": "Individual=2648<br>Buy & Hold Strategy=%{x}<br>Neat Strategy=%{y}<extra></extra>",
         "legendgroup": "2648",
         "marker": {
          "color": "#B6E880",
          "symbol": "circle"
         },
         "mode": "markers",
         "name": "2648",
         "showlegend": true,
         "type": "scattergl",
         "x": [
          -1.645521392144838,
          0.2266340872061427,
          19.86842472907701,
          -0.8498192852040202,
          -9.22137377779483,
          12.423312883435583,
          -4.833364794114527,
          0.1370235502692121,
          6.8824235515995,
          14.493387248164272
         ],
         "xaxis": "x",
         "y": [
          0,
          0,
          0,
          0,
          0,
          0,
          0,
          0,
          0,
          0
         ],
         "yaxis": "y"
        },
        {
         "hovertemplate": "Individual=2649<br>Buy & Hold Strategy=%{x}<br>Neat Strategy=%{y}<extra></extra>",
         "legendgroup": "2649",
         "marker": {
          "color": "#FF97FF",
          "symbol": "circle"
         },
         "mode": "markers",
         "name": "2649",
         "showlegend": true,
         "type": "scattergl",
         "x": [
          -1.645521392144838,
          0.2266340872061427,
          19.86842472907701,
          -0.8498192852040202,
          -9.22137377779483,
          12.423312883435583,
          -4.833364794114527,
          0.1370235502692121,
          6.8824235515995,
          14.493387248164272
         ],
         "xaxis": "x",
         "y": [
          0,
          0,
          0,
          0,
          0,
          0,
          0,
          0,
          0,
          0
         ],
         "yaxis": "y"
        },
        {
         "hovertemplate": "Individual=2650<br>Buy & Hold Strategy=%{x}<br>Neat Strategy=%{y}<extra></extra>",
         "legendgroup": "2650",
         "marker": {
          "color": "#FECB52",
          "symbol": "circle"
         },
         "mode": "markers",
         "name": "2650",
         "showlegend": true,
         "type": "scattergl",
         "x": [
          -1.645521392144838,
          0.2266340872061427,
          19.86842472907701,
          -0.8498192852040202,
          -9.22137377779483,
          12.423312883435583,
          -4.833364794114527,
          0.1370235502692121,
          6.8824235515995,
          14.493387248164272
         ],
         "xaxis": "x",
         "y": [
          0,
          0,
          0,
          0,
          0,
          0,
          0,
          0,
          0,
          0
         ],
         "yaxis": "y"
        },
        {
         "hovertemplate": "Individual=2651<br>Buy & Hold Strategy=%{x}<br>Neat Strategy=%{y}<extra></extra>",
         "legendgroup": "2651",
         "marker": {
          "color": "#636efa",
          "symbol": "circle"
         },
         "mode": "markers",
         "name": "2651",
         "showlegend": true,
         "type": "scattergl",
         "x": [
          -1.645521392144838,
          0.2266340872061427,
          19.86842472907701,
          -0.8498192852040202,
          -9.22137377779483,
          12.423312883435583,
          -4.833364794114527,
          0.1370235502692121,
          6.8824235515995,
          14.493387248164272
         ],
         "xaxis": "x",
         "y": [
          0,
          0,
          0,
          0,
          0,
          0,
          0,
          0,
          0,
          0
         ],
         "yaxis": "y"
        },
        {
         "hovertemplate": "Individual=2652<br>Buy & Hold Strategy=%{x}<br>Neat Strategy=%{y}<extra></extra>",
         "legendgroup": "2652",
         "marker": {
          "color": "#EF553B",
          "symbol": "circle"
         },
         "mode": "markers",
         "name": "2652",
         "showlegend": true,
         "type": "scattergl",
         "x": [
          -1.645521392144838,
          0.2266340872061427,
          19.86842472907701,
          -0.8498192852040202,
          -9.22137377779483,
          12.423312883435583,
          -4.833364794114527,
          0.1370235502692121,
          6.8824235515995,
          14.493387248164272
         ],
         "xaxis": "x",
         "y": [
          0,
          0,
          0,
          0,
          0,
          0,
          0,
          0,
          0,
          0
         ],
         "yaxis": "y"
        },
        {
         "hovertemplate": "Individual=2653<br>Buy & Hold Strategy=%{x}<br>Neat Strategy=%{y}<extra></extra>",
         "legendgroup": "2653",
         "marker": {
          "color": "#00cc96",
          "symbol": "circle"
         },
         "mode": "markers",
         "name": "2653",
         "showlegend": true,
         "type": "scattergl",
         "x": [
          -1.645521392144838,
          0.2266340872061427,
          19.86842472907701,
          -0.8498192852040202,
          -9.22137377779483,
          12.423312883435583,
          -4.833364794114527,
          0.1370235502692121,
          6.8824235515995,
          14.493387248164272
         ],
         "xaxis": "x",
         "y": [
          0,
          0,
          0,
          0,
          0,
          0,
          0,
          0,
          0,
          0
         ],
         "yaxis": "y"
        },
        {
         "hovertemplate": "Individual=2654<br>Buy & Hold Strategy=%{x}<br>Neat Strategy=%{y}<extra></extra>",
         "legendgroup": "2654",
         "marker": {
          "color": "#ab63fa",
          "symbol": "circle"
         },
         "mode": "markers",
         "name": "2654",
         "showlegend": true,
         "type": "scattergl",
         "x": [
          -1.645521392144838,
          0.2266340872061427,
          19.86842472907701,
          -0.8498192852040202,
          -9.22137377779483,
          12.423312883435583,
          -4.833364794114527,
          0.1370235502692121,
          6.8824235515995,
          14.493387248164272
         ],
         "xaxis": "x",
         "y": [
          0,
          0,
          0,
          0,
          0,
          0,
          0,
          0,
          0,
          0
         ],
         "yaxis": "y"
        },
        {
         "hovertemplate": "Individual=2655<br>Buy & Hold Strategy=%{x}<br>Neat Strategy=%{y}<extra></extra>",
         "legendgroup": "2655",
         "marker": {
          "color": "#FFA15A",
          "symbol": "circle"
         },
         "mode": "markers",
         "name": "2655",
         "showlegend": true,
         "type": "scattergl",
         "x": [
          -1.645521392144838,
          0.2266340872061427,
          19.86842472907701,
          -0.8498192852040202,
          -9.22137377779483,
          12.423312883435583,
          -4.833364794114527,
          0.1370235502692121,
          6.8824235515995,
          14.493387248164272
         ],
         "xaxis": "x",
         "y": [
          0,
          0,
          0,
          0,
          0,
          0,
          0,
          0,
          0,
          0
         ],
         "yaxis": "y"
        },
        {
         "hovertemplate": "Individual=2656<br>Buy & Hold Strategy=%{x}<br>Neat Strategy=%{y}<extra></extra>",
         "legendgroup": "2656",
         "marker": {
          "color": "#19d3f3",
          "symbol": "circle"
         },
         "mode": "markers",
         "name": "2656",
         "showlegend": true,
         "type": "scattergl",
         "x": [
          -1.645521392144838,
          0.2266340872061427,
          19.86842472907701,
          -0.8498192852040202,
          -9.22137377779483,
          12.423312883435583,
          -4.833364794114527,
          0.1370235502692121,
          6.8824235515995,
          14.493387248164272
         ],
         "xaxis": "x",
         "y": [
          0,
          0,
          0,
          0,
          0,
          0,
          0,
          0,
          0,
          0
         ],
         "yaxis": "y"
        },
        {
         "hovertemplate": "Individual=2657<br>Buy & Hold Strategy=%{x}<br>Neat Strategy=%{y}<extra></extra>",
         "legendgroup": "2657",
         "marker": {
          "color": "#FF6692",
          "symbol": "circle"
         },
         "mode": "markers",
         "name": "2657",
         "showlegend": true,
         "type": "scattergl",
         "x": [
          -1.645521392144838,
          0.2266340872061427,
          19.86842472907701,
          -0.8498192852040202,
          -9.22137377779483,
          12.423312883435583,
          -4.833364794114527,
          0.1370235502692121,
          6.8824235515995,
          14.493387248164272
         ],
         "xaxis": "x",
         "y": [
          0,
          0,
          0,
          0,
          0,
          0,
          0,
          0,
          0,
          0
         ],
         "yaxis": "y"
        },
        {
         "hovertemplate": "Individual=2658<br>Buy & Hold Strategy=%{x}<br>Neat Strategy=%{y}<extra></extra>",
         "legendgroup": "2658",
         "marker": {
          "color": "#B6E880",
          "symbol": "circle"
         },
         "mode": "markers",
         "name": "2658",
         "showlegend": true,
         "type": "scattergl",
         "x": [
          -1.645521392144838,
          0.2266340872061427,
          19.86842472907701,
          -0.8498192852040202,
          -9.22137377779483,
          12.423312883435583,
          -4.833364794114527,
          0.1370235502692121,
          6.8824235515995,
          14.493387248164272
         ],
         "xaxis": "x",
         "y": [
          0,
          0,
          0,
          0,
          0,
          0,
          0,
          0,
          0,
          0
         ],
         "yaxis": "y"
        },
        {
         "hovertemplate": "Individual=2659<br>Buy & Hold Strategy=%{x}<br>Neat Strategy=%{y}<extra></extra>",
         "legendgroup": "2659",
         "marker": {
          "color": "#FF97FF",
          "symbol": "circle"
         },
         "mode": "markers",
         "name": "2659",
         "showlegend": true,
         "type": "scattergl",
         "x": [
          -1.645521392144838,
          0.2266340872061427,
          19.86842472907701,
          -0.8498192852040202,
          -9.22137377779483,
          12.423312883435583,
          -4.833364794114527,
          0.1370235502692121,
          6.8824235515995,
          14.493387248164272
         ],
         "xaxis": "x",
         "y": [
          0,
          0,
          0,
          0,
          0,
          0,
          0,
          0,
          0,
          0
         ],
         "yaxis": "y"
        },
        {
         "hovertemplate": "Individual=2660<br>Buy & Hold Strategy=%{x}<br>Neat Strategy=%{y}<extra></extra>",
         "legendgroup": "2660",
         "marker": {
          "color": "#FECB52",
          "symbol": "circle"
         },
         "mode": "markers",
         "name": "2660",
         "showlegend": true,
         "type": "scattergl",
         "x": [
          -1.645521392144838,
          0.2266340872061427,
          19.86842472907701,
          -0.8498192852040202,
          -9.22137377779483,
          12.423312883435583,
          -4.833364794114527,
          0.1370235502692121,
          6.8824235515995,
          14.493387248164272
         ],
         "xaxis": "x",
         "y": [
          0,
          0,
          0,
          0,
          0,
          0,
          0,
          0,
          0,
          0
         ],
         "yaxis": "y"
        },
        {
         "hovertemplate": "Individual=2661<br>Buy & Hold Strategy=%{x}<br>Neat Strategy=%{y}<extra></extra>",
         "legendgroup": "2661",
         "marker": {
          "color": "#636efa",
          "symbol": "circle"
         },
         "mode": "markers",
         "name": "2661",
         "showlegend": true,
         "type": "scattergl",
         "x": [
          -1.645521392144838,
          0.2266340872061427,
          19.86842472907701,
          -0.8498192852040202,
          -9.22137377779483,
          12.423312883435583,
          -4.833364794114527,
          0.1370235502692121,
          6.8824235515995,
          14.493387248164272
         ],
         "xaxis": "x",
         "y": [
          0,
          0,
          0,
          0,
          0,
          0,
          0,
          0,
          0,
          0
         ],
         "yaxis": "y"
        },
        {
         "hovertemplate": "Individual=2662<br>Buy & Hold Strategy=%{x}<br>Neat Strategy=%{y}<extra></extra>",
         "legendgroup": "2662",
         "marker": {
          "color": "#EF553B",
          "symbol": "circle"
         },
         "mode": "markers",
         "name": "2662",
         "showlegend": true,
         "type": "scattergl",
         "x": [
          -1.645521392144838,
          0.2266340872061427,
          19.86842472907701,
          -0.8498192852040202,
          -9.22137377779483,
          12.423312883435583,
          -4.833364794114527,
          0.1370235502692121,
          6.8824235515995,
          14.493387248164272
         ],
         "xaxis": "x",
         "y": [
          0,
          0,
          0,
          0,
          0,
          0,
          0,
          0,
          0,
          0
         ],
         "yaxis": "y"
        },
        {
         "hovertemplate": "Individual=2663<br>Buy & Hold Strategy=%{x}<br>Neat Strategy=%{y}<extra></extra>",
         "legendgroup": "2663",
         "marker": {
          "color": "#00cc96",
          "symbol": "circle"
         },
         "mode": "markers",
         "name": "2663",
         "showlegend": true,
         "type": "scattergl",
         "x": [
          -1.645521392144838,
          0.2266340872061427,
          19.86842472907701,
          -0.8498192852040202,
          -9.22137377779483,
          12.423312883435583,
          -4.833364794114527,
          0.1370235502692121,
          6.8824235515995,
          14.493387248164272
         ],
         "xaxis": "x",
         "y": [
          0,
          0,
          0,
          0,
          0,
          0,
          0,
          0,
          0,
          0
         ],
         "yaxis": "y"
        },
        {
         "hovertemplate": "Individual=2664<br>Buy & Hold Strategy=%{x}<br>Neat Strategy=%{y}<extra></extra>",
         "legendgroup": "2664",
         "marker": {
          "color": "#ab63fa",
          "symbol": "circle"
         },
         "mode": "markers",
         "name": "2664",
         "showlegend": true,
         "type": "scattergl",
         "x": [
          -1.645521392144838,
          0.2266340872061427,
          19.86842472907701,
          -0.8498192852040202,
          -9.22137377779483,
          12.423312883435583,
          -4.833364794114527,
          0.1370235502692121,
          6.8824235515995,
          14.493387248164272
         ],
         "xaxis": "x",
         "y": [
          0,
          0,
          0,
          0,
          0,
          0,
          0,
          0,
          0,
          0
         ],
         "yaxis": "y"
        },
        {
         "hovertemplate": "Individual=2665<br>Buy & Hold Strategy=%{x}<br>Neat Strategy=%{y}<extra></extra>",
         "legendgroup": "2665",
         "marker": {
          "color": "#FFA15A",
          "symbol": "circle"
         },
         "mode": "markers",
         "name": "2665",
         "showlegend": true,
         "type": "scattergl",
         "x": [
          -1.645521392144838,
          0.2266340872061427,
          19.86842472907701,
          -0.8498192852040202,
          -9.22137377779483,
          12.423312883435583,
          -4.833364794114527,
          0.1370235502692121,
          6.8824235515995,
          14.493387248164272
         ],
         "xaxis": "x",
         "y": [
          0,
          0,
          0,
          0,
          0,
          0,
          0,
          0,
          0,
          0
         ],
         "yaxis": "y"
        },
        {
         "hovertemplate": "Individual=2666<br>Buy & Hold Strategy=%{x}<br>Neat Strategy=%{y}<extra></extra>",
         "legendgroup": "2666",
         "marker": {
          "color": "#19d3f3",
          "symbol": "circle"
         },
         "mode": "markers",
         "name": "2666",
         "showlegend": true,
         "type": "scattergl",
         "x": [
          -1.645521392144838,
          0.2266340872061427,
          19.86842472907701,
          -0.8498192852040202,
          -9.22137377779483,
          12.423312883435583,
          -4.833364794114527,
          0.1370235502692121,
          6.8824235515995,
          14.493387248164272
         ],
         "xaxis": "x",
         "y": [
          0,
          0,
          0,
          0,
          0,
          0,
          0,
          0,
          0,
          0
         ],
         "yaxis": "y"
        },
        {
         "hovertemplate": "Individual=2667<br>Buy & Hold Strategy=%{x}<br>Neat Strategy=%{y}<extra></extra>",
         "legendgroup": "2667",
         "marker": {
          "color": "#FF6692",
          "symbol": "circle"
         },
         "mode": "markers",
         "name": "2667",
         "showlegend": true,
         "type": "scattergl",
         "x": [
          -1.645521392144838,
          0.2266340872061427,
          19.86842472907701,
          -0.8498192852040202,
          -9.22137377779483,
          12.423312883435583,
          -4.833364794114527,
          0.1370235502692121,
          6.8824235515995,
          14.493387248164272
         ],
         "xaxis": "x",
         "y": [
          0,
          0,
          0,
          0,
          0,
          0,
          0,
          0,
          0,
          0
         ],
         "yaxis": "y"
        },
        {
         "hovertemplate": "Individual=2668<br>Buy & Hold Strategy=%{x}<br>Neat Strategy=%{y}<extra></extra>",
         "legendgroup": "2668",
         "marker": {
          "color": "#B6E880",
          "symbol": "circle"
         },
         "mode": "markers",
         "name": "2668",
         "showlegend": true,
         "type": "scattergl",
         "x": [
          -1.645521392144838,
          0.2266340872061427,
          19.86842472907701,
          -0.8498192852040202,
          -9.22137377779483,
          12.423312883435583,
          -4.833364794114527,
          0.1370235502692121,
          6.8824235515995,
          14.493387248164272
         ],
         "xaxis": "x",
         "y": [
          0,
          0,
          0,
          0,
          0,
          0,
          0,
          0,
          0,
          0
         ],
         "yaxis": "y"
        },
        {
         "hovertemplate": "Individual=2669<br>Buy & Hold Strategy=%{x}<br>Neat Strategy=%{y}<extra></extra>",
         "legendgroup": "2669",
         "marker": {
          "color": "#FF97FF",
          "symbol": "circle"
         },
         "mode": "markers",
         "name": "2669",
         "showlegend": true,
         "type": "scattergl",
         "x": [
          -1.645521392144838,
          0.2266340872061427,
          19.86842472907701,
          -0.8498192852040202,
          -9.22137377779483,
          12.423312883435583,
          -4.833364794114527,
          0.1370235502692121,
          6.8824235515995,
          14.493387248164272
         ],
         "xaxis": "x",
         "y": [
          0,
          0,
          0,
          0,
          0,
          0,
          0,
          0,
          0,
          0
         ],
         "yaxis": "y"
        },
        {
         "hovertemplate": "Individual=2670<br>Buy & Hold Strategy=%{x}<br>Neat Strategy=%{y}<extra></extra>",
         "legendgroup": "2670",
         "marker": {
          "color": "#FECB52",
          "symbol": "circle"
         },
         "mode": "markers",
         "name": "2670",
         "showlegend": true,
         "type": "scattergl",
         "x": [
          -1.645521392144838,
          0.2266340872061427,
          19.86842472907701,
          -0.8498192852040202,
          -9.22137377779483,
          12.423312883435583,
          -4.833364794114527,
          0.1370235502692121,
          6.8824235515995,
          14.493387248164272
         ],
         "xaxis": "x",
         "y": [
          0,
          0,
          0,
          0,
          0,
          0,
          0,
          0,
          0,
          0
         ],
         "yaxis": "y"
        },
        {
         "hovertemplate": "Individual=2671<br>Buy & Hold Strategy=%{x}<br>Neat Strategy=%{y}<extra></extra>",
         "legendgroup": "2671",
         "marker": {
          "color": "#636efa",
          "symbol": "circle"
         },
         "mode": "markers",
         "name": "2671",
         "showlegend": true,
         "type": "scattergl",
         "x": [
          -1.645521392144838,
          0.2266340872061427,
          19.86842472907701,
          -0.8498192852040202,
          -9.22137377779483,
          12.423312883435583,
          -4.833364794114527,
          0.1370235502692121,
          6.8824235515995,
          14.493387248164272
         ],
         "xaxis": "x",
         "y": [
          0,
          0,
          0,
          0,
          0,
          0,
          0,
          0,
          0,
          0
         ],
         "yaxis": "y"
        },
        {
         "hovertemplate": "Individual=2672<br>Buy & Hold Strategy=%{x}<br>Neat Strategy=%{y}<extra></extra>",
         "legendgroup": "2672",
         "marker": {
          "color": "#EF553B",
          "symbol": "circle"
         },
         "mode": "markers",
         "name": "2672",
         "showlegend": true,
         "type": "scattergl",
         "x": [
          -1.645521392144838,
          0.2266340872061427,
          19.86842472907701,
          -0.8498192852040202,
          -9.22137377779483,
          12.423312883435583,
          -4.833364794114527,
          0.1370235502692121,
          6.8824235515995,
          14.493387248164272
         ],
         "xaxis": "x",
         "y": [
          0,
          0,
          0,
          0,
          0,
          0,
          0,
          0,
          0,
          0
         ],
         "yaxis": "y"
        },
        {
         "hovertemplate": "Individual=2673<br>Buy & Hold Strategy=%{x}<br>Neat Strategy=%{y}<extra></extra>",
         "legendgroup": "2673",
         "marker": {
          "color": "#00cc96",
          "symbol": "circle"
         },
         "mode": "markers",
         "name": "2673",
         "showlegend": true,
         "type": "scattergl",
         "x": [
          -1.645521392144838,
          0.2266340872061427,
          19.86842472907701,
          -0.8498192852040202,
          -9.22137377779483,
          12.423312883435583,
          -4.833364794114527,
          0.1370235502692121,
          6.8824235515995,
          14.493387248164272
         ],
         "xaxis": "x",
         "y": [
          0,
          0,
          0,
          0,
          0,
          0,
          0,
          0,
          0,
          0
         ],
         "yaxis": "y"
        },
        {
         "hovertemplate": "Individual=2674<br>Buy & Hold Strategy=%{x}<br>Neat Strategy=%{y}<extra></extra>",
         "legendgroup": "2674",
         "marker": {
          "color": "#ab63fa",
          "symbol": "circle"
         },
         "mode": "markers",
         "name": "2674",
         "showlegend": true,
         "type": "scattergl",
         "x": [
          -1.645521392144838,
          0.2266340872061427,
          19.86842472907701,
          -0.8498192852040202,
          -9.22137377779483,
          12.423312883435583,
          -4.833364794114527,
          0.1370235502692121,
          6.8824235515995,
          14.493387248164272
         ],
         "xaxis": "x",
         "y": [
          0,
          0,
          0,
          0,
          0,
          0,
          0,
          0,
          0,
          0
         ],
         "yaxis": "y"
        },
        {
         "hovertemplate": "Individual=2675<br>Buy & Hold Strategy=%{x}<br>Neat Strategy=%{y}<extra></extra>",
         "legendgroup": "2675",
         "marker": {
          "color": "#FFA15A",
          "symbol": "circle"
         },
         "mode": "markers",
         "name": "2675",
         "showlegend": true,
         "type": "scattergl",
         "x": [
          -1.645521392144838,
          0.2266340872061427,
          19.86842472907701,
          -0.8498192852040202,
          -9.22137377779483,
          12.423312883435583,
          -4.833364794114527,
          0.1370235502692121,
          6.8824235515995,
          14.493387248164272
         ],
         "xaxis": "x",
         "y": [
          0,
          0,
          0,
          0,
          0,
          0,
          0,
          0,
          0,
          0
         ],
         "yaxis": "y"
        },
        {
         "hovertemplate": "Individual=2676<br>Buy & Hold Strategy=%{x}<br>Neat Strategy=%{y}<extra></extra>",
         "legendgroup": "2676",
         "marker": {
          "color": "#19d3f3",
          "symbol": "circle"
         },
         "mode": "markers",
         "name": "2676",
         "showlegend": true,
         "type": "scattergl",
         "x": [
          -1.645521392144838,
          0.2266340872061427,
          19.86842472907701,
          -0.8498192852040202,
          -9.22137377779483,
          12.423312883435583,
          -4.833364794114527,
          0.1370235502692121,
          6.8824235515995,
          14.493387248164272
         ],
         "xaxis": "x",
         "y": [
          0,
          0,
          0,
          0,
          0,
          0,
          0,
          0,
          0,
          0
         ],
         "yaxis": "y"
        },
        {
         "hovertemplate": "Individual=2677<br>Buy & Hold Strategy=%{x}<br>Neat Strategy=%{y}<extra></extra>",
         "legendgroup": "2677",
         "marker": {
          "color": "#FF6692",
          "symbol": "circle"
         },
         "mode": "markers",
         "name": "2677",
         "showlegend": true,
         "type": "scattergl",
         "x": [
          -1.645521392144838,
          0.2266340872061427,
          19.86842472907701,
          -0.8498192852040202,
          -9.22137377779483,
          12.423312883435583,
          -4.833364794114527,
          0.1370235502692121,
          6.8824235515995,
          14.493387248164272
         ],
         "xaxis": "x",
         "y": [
          0,
          0,
          0,
          0,
          0,
          0,
          0,
          0,
          0,
          0
         ],
         "yaxis": "y"
        },
        {
         "hovertemplate": "Individual=2678<br>Buy & Hold Strategy=%{x}<br>Neat Strategy=%{y}<extra></extra>",
         "legendgroup": "2678",
         "marker": {
          "color": "#B6E880",
          "symbol": "circle"
         },
         "mode": "markers",
         "name": "2678",
         "showlegend": true,
         "type": "scattergl",
         "x": [
          -1.645521392144838,
          0.2266340872061427,
          19.86842472907701,
          -0.8498192852040202,
          -9.22137377779483,
          12.423312883435583,
          -4.833364794114527,
          0.1370235502692121,
          6.8824235515995,
          14.493387248164272
         ],
         "xaxis": "x",
         "y": [
          0,
          0,
          0,
          0,
          0,
          0,
          0,
          0,
          0,
          0
         ],
         "yaxis": "y"
        },
        {
         "hovertemplate": "Individual=2679<br>Buy & Hold Strategy=%{x}<br>Neat Strategy=%{y}<extra></extra>",
         "legendgroup": "2679",
         "marker": {
          "color": "#FF97FF",
          "symbol": "circle"
         },
         "mode": "markers",
         "name": "2679",
         "showlegend": true,
         "type": "scattergl",
         "x": [
          -1.645521392144838,
          0.2266340872061427,
          19.86842472907701,
          -0.8498192852040202,
          -9.22137377779483,
          12.423312883435583,
          -4.833364794114527,
          0.1370235502692121,
          6.8824235515995,
          14.493387248164272
         ],
         "xaxis": "x",
         "y": [
          0,
          0,
          0,
          0,
          0,
          0,
          0,
          0,
          0,
          0
         ],
         "yaxis": "y"
        },
        {
         "hovertemplate": "Individual=2680<br>Buy & Hold Strategy=%{x}<br>Neat Strategy=%{y}<extra></extra>",
         "legendgroup": "2680",
         "marker": {
          "color": "#FECB52",
          "symbol": "circle"
         },
         "mode": "markers",
         "name": "2680",
         "showlegend": true,
         "type": "scattergl",
         "x": [
          -1.645521392144838,
          0.2266340872061427,
          19.86842472907701,
          -0.8498192852040202,
          -9.22137377779483,
          12.423312883435583,
          -4.833364794114527,
          0.1370235502692121,
          6.8824235515995,
          14.493387248164272
         ],
         "xaxis": "x",
         "y": [
          0,
          0,
          0,
          0,
          0,
          0,
          0,
          0,
          0,
          0
         ],
         "yaxis": "y"
        },
        {
         "hovertemplate": "Individual=2681<br>Buy & Hold Strategy=%{x}<br>Neat Strategy=%{y}<extra></extra>",
         "legendgroup": "2681",
         "marker": {
          "color": "#636efa",
          "symbol": "circle"
         },
         "mode": "markers",
         "name": "2681",
         "showlegend": true,
         "type": "scattergl",
         "x": [
          -1.645521392144838,
          0.2266340872061427,
          19.86842472907701,
          -0.8498192852040202,
          -9.22137377779483,
          12.423312883435583,
          -4.833364794114527,
          0.1370235502692121,
          6.8824235515995,
          14.493387248164272
         ],
         "xaxis": "x",
         "y": [
          0,
          0,
          0,
          0,
          0,
          0,
          0,
          0,
          0,
          0
         ],
         "yaxis": "y"
        },
        {
         "hovertemplate": "Individual=2682<br>Buy & Hold Strategy=%{x}<br>Neat Strategy=%{y}<extra></extra>",
         "legendgroup": "2682",
         "marker": {
          "color": "#EF553B",
          "symbol": "circle"
         },
         "mode": "markers",
         "name": "2682",
         "showlegend": true,
         "type": "scattergl",
         "x": [
          -1.645521392144838,
          0.2266340872061427,
          19.86842472907701,
          -0.8498192852040202,
          -9.22137377779483,
          12.423312883435583,
          -4.833364794114527,
          0.1370235502692121,
          6.8824235515995,
          14.493387248164272
         ],
         "xaxis": "x",
         "y": [
          0,
          0,
          0,
          0,
          0,
          0,
          0,
          0,
          0,
          0
         ],
         "yaxis": "y"
        },
        {
         "hovertemplate": "Individual=2683<br>Buy & Hold Strategy=%{x}<br>Neat Strategy=%{y}<extra></extra>",
         "legendgroup": "2683",
         "marker": {
          "color": "#00cc96",
          "symbol": "circle"
         },
         "mode": "markers",
         "name": "2683",
         "showlegend": true,
         "type": "scattergl",
         "x": [
          -1.645521392144838,
          0.2266340872061427,
          19.86842472907701,
          -0.8498192852040202,
          -9.22137377779483,
          12.423312883435583,
          -4.833364794114527,
          0.1370235502692121,
          6.8824235515995,
          14.493387248164272
         ],
         "xaxis": "x",
         "y": [
          0,
          0,
          0,
          0,
          0,
          0,
          0,
          0,
          0,
          0
         ],
         "yaxis": "y"
        },
        {
         "hovertemplate": "Individual=2684<br>Buy & Hold Strategy=%{x}<br>Neat Strategy=%{y}<extra></extra>",
         "legendgroup": "2684",
         "marker": {
          "color": "#ab63fa",
          "symbol": "circle"
         },
         "mode": "markers",
         "name": "2684",
         "showlegend": true,
         "type": "scattergl",
         "x": [
          -1.645521392144838,
          0.2266340872061427,
          19.86842472907701,
          -0.8498192852040202,
          -9.22137377779483,
          12.423312883435583,
          -4.833364794114527,
          0.1370235502692121,
          6.8824235515995,
          14.493387248164272
         ],
         "xaxis": "x",
         "y": [
          5.965080477685551,
          12.53491971646843,
          15.459888519396983,
          9.592775148692331,
          -2.184345213134773,
          1.526869498095708,
          -4.694223852081294,
          -4.261148163519287,
          7.304676692352305,
          7.485298473220831
         ],
         "yaxis": "y"
        },
        {
         "hovertemplate": "Individual=2685<br>Buy & Hold Strategy=%{x}<br>Neat Strategy=%{y}<extra></extra>",
         "legendgroup": "2685",
         "marker": {
          "color": "#FFA15A",
          "symbol": "circle"
         },
         "mode": "markers",
         "name": "2685",
         "showlegend": true,
         "type": "scattergl",
         "x": [
          -1.645521392144838,
          0.2266340872061427,
          19.86842472907701,
          -0.8498192852040202,
          -9.22137377779483,
          12.423312883435583,
          -4.833364794114527,
          0.1370235502692121,
          6.8824235515995,
          14.493387248164272
         ],
         "xaxis": "x",
         "y": [
          0,
          0,
          0,
          0,
          0,
          0,
          0,
          0,
          0,
          0
         ],
         "yaxis": "y"
        },
        {
         "hovertemplate": "Individual=2686<br>Buy & Hold Strategy=%{x}<br>Neat Strategy=%{y}<extra></extra>",
         "legendgroup": "2686",
         "marker": {
          "color": "#19d3f3",
          "symbol": "circle"
         },
         "mode": "markers",
         "name": "2686",
         "showlegend": true,
         "type": "scattergl",
         "x": [
          -1.645521392144838,
          0.2266340872061427,
          19.86842472907701,
          -0.8498192852040202,
          -9.22137377779483,
          12.423312883435583,
          -4.833364794114527,
          0.1370235502692121,
          6.8824235515995,
          14.493387248164272
         ],
         "xaxis": "x",
         "y": [
          0,
          0,
          0,
          0,
          0,
          0,
          0,
          0,
          0,
          0
         ],
         "yaxis": "y"
        },
        {
         "hovertemplate": "Individual=2687<br>Buy & Hold Strategy=%{x}<br>Neat Strategy=%{y}<extra></extra>",
         "legendgroup": "2687",
         "marker": {
          "color": "#FF6692",
          "symbol": "circle"
         },
         "mode": "markers",
         "name": "2687",
         "showlegend": true,
         "type": "scattergl",
         "x": [
          -1.645521392144838,
          0.2266340872061427,
          19.86842472907701,
          -0.8498192852040202,
          -9.22137377779483,
          12.423312883435583,
          -4.833364794114527,
          0.1370235502692121,
          6.8824235515995,
          14.493387248164272
         ],
         "xaxis": "x",
         "y": [
          0,
          0,
          0,
          0,
          0,
          0,
          0,
          0,
          0,
          0
         ],
         "yaxis": "y"
        },
        {
         "hovertemplate": "Individual=2688<br>Buy & Hold Strategy=%{x}<br>Neat Strategy=%{y}<extra></extra>",
         "legendgroup": "2688",
         "marker": {
          "color": "#B6E880",
          "symbol": "circle"
         },
         "mode": "markers",
         "name": "2688",
         "showlegend": true,
         "type": "scattergl",
         "x": [
          -1.645521392144838,
          0.2266340872061427,
          19.86842472907701,
          -0.8498192852040202,
          -9.22137377779483,
          12.423312883435583,
          -4.833364794114527,
          0.1370235502692121,
          6.8824235515995,
          14.493387248164272
         ],
         "xaxis": "x",
         "y": [
          0,
          0,
          0,
          0,
          0,
          0,
          0,
          0,
          0,
          0
         ],
         "yaxis": "y"
        },
        {
         "hovertemplate": "Individual=2689<br>Buy & Hold Strategy=%{x}<br>Neat Strategy=%{y}<extra></extra>",
         "legendgroup": "2689",
         "marker": {
          "color": "#FF97FF",
          "symbol": "circle"
         },
         "mode": "markers",
         "name": "2689",
         "showlegend": true,
         "type": "scattergl",
         "x": [
          -1.645521392144838,
          0.2266340872061427,
          19.86842472907701,
          -0.8498192852040202,
          -9.22137377779483,
          12.423312883435583,
          -4.833364794114527,
          0.1370235502692121,
          6.8824235515995,
          14.493387248164272
         ],
         "xaxis": "x",
         "y": [
          -0.7112223459594766,
          -12.579110818294529,
          -20.89716172200928,
          -4.336692639934539,
          -5.661327575335687,
          -2.8584167863769454,
          11.148404615464784,
          1.0959659436767573,
          -10.852493488485715,
          -8.555387335705559
         ],
         "yaxis": "y"
        },
        {
         "hovertemplate": "Individual=2690<br>Buy & Hold Strategy=%{x}<br>Neat Strategy=%{y}<extra></extra>",
         "legendgroup": "2690",
         "marker": {
          "color": "#FECB52",
          "symbol": "circle"
         },
         "mode": "markers",
         "name": "2690",
         "showlegend": true,
         "type": "scattergl",
         "x": [
          -1.645521392144838,
          0.2266340872061427,
          19.86842472907701,
          -0.8498192852040202,
          -9.22137377779483,
          12.423312883435583,
          -4.833364794114527,
          0.1370235502692121,
          6.8824235515995,
          14.493387248164272
         ],
         "xaxis": "x",
         "y": [
          0,
          0,
          0,
          0,
          0,
          0,
          0,
          0,
          0,
          0
         ],
         "yaxis": "y"
        },
        {
         "hovertemplate": "Individual=2691<br>Buy & Hold Strategy=%{x}<br>Neat Strategy=%{y}<extra></extra>",
         "legendgroup": "2691",
         "marker": {
          "color": "#636efa",
          "symbol": "circle"
         },
         "mode": "markers",
         "name": "2691",
         "showlegend": true,
         "type": "scattergl",
         "x": [
          -1.645521392144838,
          0.2266340872061427,
          19.86842472907701,
          -0.8498192852040202,
          -9.22137377779483,
          12.423312883435583,
          -4.833364794114527,
          0.1370235502692121,
          6.8824235515995,
          14.493387248164272
         ],
         "xaxis": "x",
         "y": [
          0,
          0,
          0,
          0,
          0,
          0,
          0,
          0,
          0,
          0
         ],
         "yaxis": "y"
        },
        {
         "hovertemplate": "Individual=2692<br>Buy & Hold Strategy=%{x}<br>Neat Strategy=%{y}<extra></extra>",
         "legendgroup": "2692",
         "marker": {
          "color": "#EF553B",
          "symbol": "circle"
         },
         "mode": "markers",
         "name": "2692",
         "showlegend": true,
         "type": "scattergl",
         "x": [
          -1.645521392144838,
          0.2266340872061427,
          19.86842472907701,
          -0.8498192852040202,
          -9.22137377779483,
          12.423312883435583,
          -4.833364794114527,
          0.1370235502692121,
          6.8824235515995,
          14.493387248164272
         ],
         "xaxis": "x",
         "y": [
          0,
          0,
          0,
          0,
          0,
          0,
          0,
          0,
          0,
          0
         ],
         "yaxis": "y"
        },
        {
         "hovertemplate": "Individual=2693<br>Buy & Hold Strategy=%{x}<br>Neat Strategy=%{y}<extra></extra>",
         "legendgroup": "2693",
         "marker": {
          "color": "#00cc96",
          "symbol": "circle"
         },
         "mode": "markers",
         "name": "2693",
         "showlegend": true,
         "type": "scattergl",
         "x": [
          -1.645521392144838,
          0.2266340872061427,
          19.86842472907701,
          -0.8498192852040202,
          -9.22137377779483,
          12.423312883435583,
          -4.833364794114527,
          0.1370235502692121,
          6.8824235515995,
          14.493387248164272
         ],
         "xaxis": "x",
         "y": [
          0,
          0,
          0,
          0,
          0,
          0,
          0,
          0,
          0,
          0
         ],
         "yaxis": "y"
        },
        {
         "hovertemplate": "Individual=2694<br>Buy & Hold Strategy=%{x}<br>Neat Strategy=%{y}<extra></extra>",
         "legendgroup": "2694",
         "marker": {
          "color": "#ab63fa",
          "symbol": "circle"
         },
         "mode": "markers",
         "name": "2694",
         "showlegend": true,
         "type": "scattergl",
         "x": [
          -1.645521392144838,
          0.2266340872061427,
          19.86842472907701,
          -0.8498192852040202,
          -9.22137377779483,
          12.423312883435583,
          -4.833364794114527,
          0.1370235502692121,
          6.8824235515995,
          14.493387248164272
         ],
         "xaxis": "x",
         "y": [
          1.8891856266204734,
          10.530780458191689,
          20.500891522009272,
          2.3525920597190852,
          5.267291785015864,
          2.4139678738769494,
          -11.547498822340392,
          -1.756281839660648,
          10.453347081582644,
          8.157856811022944
         ],
         "yaxis": "y"
        },
        {
         "hovertemplate": "Individual=2695<br>Buy & Hold Strategy=%{x}<br>Neat Strategy=%{y}<extra></extra>",
         "legendgroup": "2695",
         "marker": {
          "color": "#FFA15A",
          "symbol": "circle"
         },
         "mode": "markers",
         "name": "2695",
         "showlegend": true,
         "type": "scattergl",
         "x": [
          -1.645521392144838,
          0.2266340872061427,
          19.86842472907701,
          -0.8498192852040202,
          -9.22137377779483,
          12.423312883435583,
          -4.833364794114527,
          0.1370235502692121,
          6.8824235515995,
          14.493387248164272
         ],
         "xaxis": "x",
         "y": [
          0,
          0,
          0,
          0,
          0,
          0,
          0,
          0,
          0,
          0
         ],
         "yaxis": "y"
        },
        {
         "hovertemplate": "Individual=2696<br>Buy & Hold Strategy=%{x}<br>Neat Strategy=%{y}<extra></extra>",
         "legendgroup": "2696",
         "marker": {
          "color": "#19d3f3",
          "symbol": "circle"
         },
         "mode": "markers",
         "name": "2696",
         "showlegend": true,
         "type": "scattergl",
         "x": [
          -1.645521392144838,
          0.2266340872061427,
          19.86842472907701,
          -0.8498192852040202,
          -9.22137377779483,
          12.423312883435583,
          -4.833364794114527,
          0.1370235502692121,
          6.8824235515995,
          14.493387248164272
         ],
         "xaxis": "x",
         "y": [
          0,
          0,
          0,
          0,
          0,
          0,
          0,
          0,
          0,
          0
         ],
         "yaxis": "y"
        },
        {
         "hovertemplate": "Individual=2697<br>Buy & Hold Strategy=%{x}<br>Neat Strategy=%{y}<extra></extra>",
         "legendgroup": "2697",
         "marker": {
          "color": "#FF6692",
          "symbol": "circle"
         },
         "mode": "markers",
         "name": "2697",
         "showlegend": true,
         "type": "scattergl",
         "x": [
          -1.645521392144838,
          0.2266340872061427,
          19.86842472907701,
          -0.8498192852040202,
          -9.22137377779483,
          12.423312883435583,
          -4.833364794114527,
          0.1370235502692121,
          6.8824235515995,
          14.493387248164272
         ],
         "xaxis": "x",
         "y": [
          1.8891856266204734,
          10.530780458191689,
          20.500891522009272,
          2.3525920597190852,
          5.267291785015864,
          2.4139678738769494,
          -11.547498822340392,
          -1.756281839660648,
          10.453347081582644,
          8.157856811022944
         ],
         "yaxis": "y"
        },
        {
         "hovertemplate": "Individual=2698<br>Buy & Hold Strategy=%{x}<br>Neat Strategy=%{y}<extra></extra>",
         "legendgroup": "2698",
         "marker": {
          "color": "#B6E880",
          "symbol": "circle"
         },
         "mode": "markers",
         "name": "2698",
         "showlegend": true,
         "type": "scattergl",
         "x": [
          -1.645521392144838,
          0.2266340872061427,
          19.86842472907701,
          -0.8498192852040202,
          -9.22137377779483,
          12.423312883435583,
          -4.833364794114527,
          0.1370235502692121,
          6.8824235515995,
          14.493387248164272
         ],
         "xaxis": "x",
         "y": [
          0,
          0,
          0,
          0,
          0,
          0,
          0,
          0,
          0,
          0
         ],
         "yaxis": "y"
        },
        {
         "hovertemplate": "Individual=2699<br>Buy & Hold Strategy=%{x}<br>Neat Strategy=%{y}<extra></extra>",
         "legendgroup": "2699",
         "marker": {
          "color": "#FF97FF",
          "symbol": "circle"
         },
         "mode": "markers",
         "name": "2699",
         "showlegend": true,
         "type": "scattergl",
         "x": [
          -1.645521392144838,
          0.2266340872061427,
          19.86842472907701,
          -0.8498192852040202,
          -9.22137377779483,
          12.423312883435583,
          -4.833364794114527,
          0.1370235502692121,
          6.8824235515995,
          14.493387248164272
         ],
         "xaxis": "x",
         "y": [
          0,
          0,
          0,
          0,
          0,
          0,
          0,
          0,
          0,
          0
         ],
         "yaxis": "y"
        },
        {
         "hovertemplate": "Individual=2700<br>Buy & Hold Strategy=%{x}<br>Neat Strategy=%{y}<extra></extra>",
         "legendgroup": "2700",
         "marker": {
          "color": "#FECB52",
          "symbol": "circle"
         },
         "mode": "markers",
         "name": "2700",
         "showlegend": true,
         "type": "scattergl",
         "x": [
          -1.645521392144838,
          0.2266340872061427,
          19.86842472907701,
          -0.8498192852040202,
          -9.22137377779483,
          12.423312883435583,
          -4.833364794114527,
          0.1370235502692121,
          6.8824235515995,
          14.493387248164272
         ],
         "xaxis": "x",
         "y": [
          0,
          0,
          0,
          0,
          0,
          0,
          0,
          0,
          0,
          0
         ],
         "yaxis": "y"
        },
        {
         "hovertemplate": "Individual=2701<br>Buy & Hold Strategy=%{x}<br>Neat Strategy=%{y}<extra></extra>",
         "legendgroup": "2701",
         "marker": {
          "color": "#636efa",
          "symbol": "circle"
         },
         "mode": "markers",
         "name": "2701",
         "showlegend": true,
         "type": "scattergl",
         "x": [
          -1.645521392144838,
          0.2266340872061427,
          19.86842472907701,
          -0.8498192852040202,
          -9.22137377779483,
          12.423312883435583,
          -4.833364794114527,
          0.1370235502692121,
          6.8824235515995,
          14.493387248164272
         ],
         "xaxis": "x",
         "y": [
          0,
          0,
          0,
          0,
          0,
          0,
          0,
          0,
          0,
          0
         ],
         "yaxis": "y"
        },
        {
         "hovertemplate": "Individual=2702<br>Buy & Hold Strategy=%{x}<br>Neat Strategy=%{y}<extra></extra>",
         "legendgroup": "2702",
         "marker": {
          "color": "#EF553B",
          "symbol": "circle"
         },
         "mode": "markers",
         "name": "2702",
         "showlegend": true,
         "type": "scattergl",
         "x": [
          -1.645521392144838,
          0.2266340872061427,
          19.86842472907701,
          -0.8498192852040202,
          -9.22137377779483,
          12.423312883435583,
          -4.833364794114527,
          0.1370235502692121,
          6.8824235515995,
          14.493387248164272
         ],
         "xaxis": "x",
         "y": [
          0,
          0,
          0,
          0,
          0,
          0,
          0,
          0,
          0,
          0
         ],
         "yaxis": "y"
        },
        {
         "hovertemplate": "Individual=2703<br>Buy & Hold Strategy=%{x}<br>Neat Strategy=%{y}<extra></extra>",
         "legendgroup": "2703",
         "marker": {
          "color": "#00cc96",
          "symbol": "circle"
         },
         "mode": "markers",
         "name": "2703",
         "showlegend": true,
         "type": "scattergl",
         "x": [
          -1.645521392144838,
          0.2266340872061427,
          19.86842472907701,
          -0.8498192852040202,
          -9.22137377779483,
          12.423312883435583,
          -4.833364794114527,
          0.1370235502692121,
          6.8824235515995,
          14.493387248164272
         ],
         "xaxis": "x",
         "y": [
          0,
          0,
          0,
          0,
          0,
          0,
          0,
          0,
          0,
          0
         ],
         "yaxis": "y"
        },
        {
         "hovertemplate": "Individual=2704<br>Buy & Hold Strategy=%{x}<br>Neat Strategy=%{y}<extra></extra>",
         "legendgroup": "2704",
         "marker": {
          "color": "#ab63fa",
          "symbol": "circle"
         },
         "mode": "markers",
         "name": "2704",
         "showlegend": true,
         "type": "scattergl",
         "x": [
          -1.645521392144838,
          0.2266340872061427,
          19.86842472907701,
          -0.8498192852040202,
          -9.22137377779483,
          12.423312883435583,
          -4.833364794114527,
          0.1370235502692121,
          6.8824235515995,
          14.493387248164272
         ],
         "xaxis": "x",
         "y": [
          0,
          0,
          0,
          0,
          0,
          0,
          0,
          0,
          0,
          0
         ],
         "yaxis": "y"
        },
        {
         "hovertemplate": "Individual=2705<br>Buy & Hold Strategy=%{x}<br>Neat Strategy=%{y}<extra></extra>",
         "legendgroup": "2705",
         "marker": {
          "color": "#FFA15A",
          "symbol": "circle"
         },
         "mode": "markers",
         "name": "2705",
         "showlegend": true,
         "type": "scattergl",
         "x": [
          -1.645521392144838,
          0.2266340872061427,
          19.86842472907701,
          -0.8498192852040202,
          -9.22137377779483,
          12.423312883435583,
          -4.833364794114527,
          0.1370235502692121,
          6.8824235515995,
          14.493387248164272
         ],
         "xaxis": "x",
         "y": [
          0,
          0,
          0,
          0,
          0,
          0,
          0,
          0,
          0,
          0
         ],
         "yaxis": "y"
        },
        {
         "hovertemplate": "Individual=2706<br>Buy & Hold Strategy=%{x}<br>Neat Strategy=%{y}<extra></extra>",
         "legendgroup": "2706",
         "marker": {
          "color": "#19d3f3",
          "symbol": "circle"
         },
         "mode": "markers",
         "name": "2706",
         "showlegend": true,
         "type": "scattergl",
         "x": [
          -1.645521392144838,
          0.2266340872061427,
          19.86842472907701,
          -0.8498192852040202,
          -9.22137377779483,
          12.423312883435583,
          -4.833364794114527,
          0.1370235502692121,
          6.8824235515995,
          14.493387248164272
         ],
         "xaxis": "x",
         "y": [
          0,
          0,
          0,
          0,
          0,
          0,
          0,
          0,
          0,
          0
         ],
         "yaxis": "y"
        },
        {
         "hovertemplate": "Individual=2707<br>Buy & Hold Strategy=%{x}<br>Neat Strategy=%{y}<extra></extra>",
         "legendgroup": "2707",
         "marker": {
          "color": "#FF6692",
          "symbol": "circle"
         },
         "mode": "markers",
         "name": "2707",
         "showlegend": true,
         "type": "scattergl",
         "x": [
          -1.645521392144838,
          0.2266340872061427,
          19.86842472907701,
          -0.8498192852040202,
          -9.22137377779483,
          12.423312883435583,
          -4.833364794114527,
          0.1370235502692121,
          6.8824235515995,
          14.493387248164272
         ],
         "xaxis": "x",
         "y": [
          -0.7112223459594766,
          -12.546543971524132,
          -6.330495988591004,
          -7.075644688426971,
          -0.2070076146484469,
          -2.8584167863769454,
          11.148404615464784,
          4.044048245962522,
          -10.852493488485715,
          -8.555387335705559
         ],
         "yaxis": "y"
        },
        {
         "hovertemplate": "Individual=2708<br>Buy & Hold Strategy=%{x}<br>Neat Strategy=%{y}<extra></extra>",
         "legendgroup": "2708",
         "marker": {
          "color": "#B6E880",
          "symbol": "circle"
         },
         "mode": "markers",
         "name": "2708",
         "showlegend": true,
         "type": "scattergl",
         "x": [
          -1.645521392144838,
          0.2266340872061427,
          19.86842472907701,
          -0.8498192852040202,
          -9.22137377779483,
          12.423312883435583,
          -4.833364794114527,
          0.1370235502692121,
          6.8824235515995,
          14.493387248164272
         ],
         "xaxis": "x",
         "y": [
          0,
          0,
          0,
          0,
          0,
          0,
          0,
          0,
          0,
          0
         ],
         "yaxis": "y"
        },
        {
         "hovertemplate": "Individual=2709<br>Buy & Hold Strategy=%{x}<br>Neat Strategy=%{y}<extra></extra>",
         "legendgroup": "2709",
         "marker": {
          "color": "#FF97FF",
          "symbol": "circle"
         },
         "mode": "markers",
         "name": "2709",
         "showlegend": true,
         "type": "scattergl",
         "x": [
          -1.645521392144838,
          0.2266340872061427,
          19.86842472907701,
          -0.8498192852040202,
          -9.22137377779483,
          12.423312883435583,
          -4.833364794114527,
          0.1370235502692121,
          6.8824235515995,
          14.493387248164272
         ],
         "xaxis": "x",
         "y": [
          0,
          0,
          0,
          0,
          0,
          0,
          0,
          0,
          0,
          0
         ],
         "yaxis": "y"
        },
        {
         "hovertemplate": "Individual=2710<br>Buy & Hold Strategy=%{x}<br>Neat Strategy=%{y}<extra></extra>",
         "legendgroup": "2710",
         "marker": {
          "color": "#FECB52",
          "symbol": "circle"
         },
         "mode": "markers",
         "name": "2710",
         "showlegend": true,
         "type": "scattergl",
         "x": [
          -1.645521392144838,
          0.2266340872061427,
          19.86842472907701,
          -0.8498192852040202,
          -9.22137377779483,
          12.423312883435583,
          -4.833364794114527,
          0.1370235502692121,
          6.8824235515995,
          14.493387248164272
         ],
         "xaxis": "x",
         "y": [
          0,
          0,
          0,
          0,
          0,
          0,
          0,
          0,
          0,
          0
         ],
         "yaxis": "y"
        },
        {
         "hovertemplate": "Individual=2711<br>Buy & Hold Strategy=%{x}<br>Neat Strategy=%{y}<extra></extra>",
         "legendgroup": "2711",
         "marker": {
          "color": "#636efa",
          "symbol": "circle"
         },
         "mode": "markers",
         "name": "2711",
         "showlegend": true,
         "type": "scattergl",
         "x": [
          -1.645521392144838,
          0.2266340872061427,
          19.86842472907701,
          -0.8498192852040202,
          -9.22137377779483,
          12.423312883435583,
          -4.833364794114527,
          0.1370235502692121,
          6.8824235515995,
          14.493387248164272
         ],
         "xaxis": "x",
         "y": [
          0,
          0,
          0,
          0,
          0,
          0,
          0,
          0,
          0,
          0
         ],
         "yaxis": "y"
        },
        {
         "hovertemplate": "Individual=2712<br>Buy & Hold Strategy=%{x}<br>Neat Strategy=%{y}<extra></extra>",
         "legendgroup": "2712",
         "marker": {
          "color": "#EF553B",
          "symbol": "circle"
         },
         "mode": "markers",
         "name": "2712",
         "showlegend": true,
         "type": "scattergl",
         "x": [
          -1.645521392144838,
          0.2266340872061427,
          19.86842472907701,
          -0.8498192852040202,
          -9.22137377779483,
          12.423312883435583,
          -4.833364794114527,
          0.1370235502692121,
          6.8824235515995,
          14.493387248164272
         ],
         "xaxis": "x",
         "y": [
          0,
          0,
          0,
          0,
          0,
          0,
          0,
          0,
          0,
          0
         ],
         "yaxis": "y"
        },
        {
         "hovertemplate": "Individual=2713<br>Buy & Hold Strategy=%{x}<br>Neat Strategy=%{y}<extra></extra>",
         "legendgroup": "2713",
         "marker": {
          "color": "#00cc96",
          "symbol": "circle"
         },
         "mode": "markers",
         "name": "2713",
         "showlegend": true,
         "type": "scattergl",
         "x": [
          -1.645521392144838,
          0.2266340872061427,
          19.86842472907701,
          -0.8498192852040202,
          -9.22137377779483,
          12.423312883435583,
          -4.833364794114527,
          0.1370235502692121,
          6.8824235515995,
          14.493387248164272
         ],
         "xaxis": "x",
         "y": [
          0,
          0,
          0,
          0,
          0,
          0,
          0,
          0,
          0,
          0
         ],
         "yaxis": "y"
        },
        {
         "hovertemplate": "Individual=2714<br>Buy & Hold Strategy=%{x}<br>Neat Strategy=%{y}<extra></extra>",
         "legendgroup": "2714",
         "marker": {
          "color": "#ab63fa",
          "symbol": "circle"
         },
         "mode": "markers",
         "name": "2714",
         "showlegend": true,
         "type": "scattergl",
         "x": [
          -1.645521392144838,
          0.2266340872061427,
          19.86842472907701,
          -0.8498192852040202,
          -9.22137377779483,
          12.423312883435583,
          -4.833364794114527,
          0.1370235502692121,
          6.8824235515995,
          14.493387248164272
         ],
         "xaxis": "x",
         "y": [
          0,
          0,
          0,
          0,
          0,
          0,
          0,
          0,
          0,
          0
         ],
         "yaxis": "y"
        },
        {
         "hovertemplate": "Individual=2715<br>Buy & Hold Strategy=%{x}<br>Neat Strategy=%{y}<extra></extra>",
         "legendgroup": "2715",
         "marker": {
          "color": "#FFA15A",
          "symbol": "circle"
         },
         "mode": "markers",
         "name": "2715",
         "showlegend": true,
         "type": "scattergl",
         "x": [
          -1.645521392144838,
          0.2266340872061427,
          19.86842472907701,
          -0.8498192852040202,
          -9.22137377779483,
          12.423312883435583,
          -4.833364794114527,
          0.1370235502692121,
          6.8824235515995,
          14.493387248164272
         ],
         "xaxis": "x",
         "y": [
          0,
          0,
          0,
          0,
          0,
          0,
          0,
          0,
          0,
          0
         ],
         "yaxis": "y"
        },
        {
         "hovertemplate": "Individual=2716<br>Buy & Hold Strategy=%{x}<br>Neat Strategy=%{y}<extra></extra>",
         "legendgroup": "2716",
         "marker": {
          "color": "#19d3f3",
          "symbol": "circle"
         },
         "mode": "markers",
         "name": "2716",
         "showlegend": true,
         "type": "scattergl",
         "x": [
          -1.645521392144838,
          0.2266340872061427,
          19.86842472907701,
          -0.8498192852040202,
          -9.22137377779483,
          12.423312883435583,
          -4.833364794114527,
          0.1370235502692121,
          6.8824235515995,
          14.493387248164272
         ],
         "xaxis": "x",
         "y": [
          0,
          0,
          0,
          0,
          0,
          0,
          0,
          0,
          0,
          0
         ],
         "yaxis": "y"
        },
        {
         "hovertemplate": "Individual=2717<br>Buy & Hold Strategy=%{x}<br>Neat Strategy=%{y}<extra></extra>",
         "legendgroup": "2717",
         "marker": {
          "color": "#FF6692",
          "symbol": "circle"
         },
         "mode": "markers",
         "name": "2717",
         "showlegend": true,
         "type": "scattergl",
         "x": [
          -1.645521392144838,
          0.2266340872061427,
          19.86842472907701,
          -0.8498192852040202,
          -9.22137377779483,
          12.423312883435583,
          -4.833364794114527,
          0.1370235502692121,
          6.8824235515995,
          14.493387248164272
         ],
         "xaxis": "x",
         "y": [
          0,
          0,
          0,
          0,
          0,
          0,
          0,
          0,
          0,
          0
         ],
         "yaxis": "y"
        },
        {
         "hovertemplate": "Individual=2718<br>Buy & Hold Strategy=%{x}<br>Neat Strategy=%{y}<extra></extra>",
         "legendgroup": "2718",
         "marker": {
          "color": "#B6E880",
          "symbol": "circle"
         },
         "mode": "markers",
         "name": "2718",
         "showlegend": true,
         "type": "scattergl",
         "x": [
          -1.645521392144838,
          0.2266340872061427,
          19.86842472907701,
          -0.8498192852040202,
          -9.22137377779483,
          12.423312883435583,
          -4.833364794114527,
          0.1370235502692121,
          6.8824235515995,
          14.493387248164272
         ],
         "xaxis": "x",
         "y": [
          0,
          0,
          0,
          0,
          0,
          0,
          0,
          0,
          0,
          0
         ],
         "yaxis": "y"
        },
        {
         "hovertemplate": "Individual=2719<br>Buy & Hold Strategy=%{x}<br>Neat Strategy=%{y}<extra></extra>",
         "legendgroup": "2719",
         "marker": {
          "color": "#FF97FF",
          "symbol": "circle"
         },
         "mode": "markers",
         "name": "2719",
         "showlegend": true,
         "type": "scattergl",
         "x": [
          -1.645521392144838,
          0.2266340872061427,
          19.86842472907701,
          -0.8498192852040202,
          -9.22137377779483,
          12.423312883435583,
          -4.833364794114527,
          0.1370235502692121,
          6.8824235515995,
          14.493387248164272
         ],
         "xaxis": "x",
         "y": [
          0,
          0,
          0,
          0,
          0,
          0,
          0,
          0,
          0,
          0
         ],
         "yaxis": "y"
        },
        {
         "hovertemplate": "Individual=2720<br>Buy & Hold Strategy=%{x}<br>Neat Strategy=%{y}<extra></extra>",
         "legendgroup": "2720",
         "marker": {
          "color": "#FECB52",
          "symbol": "circle"
         },
         "mode": "markers",
         "name": "2720",
         "showlegend": true,
         "type": "scattergl",
         "x": [
          -1.645521392144838,
          0.2266340872061427,
          19.86842472907701,
          -0.8498192852040202,
          -9.22137377779483,
          12.423312883435583,
          -4.833364794114527,
          0.1370235502692121,
          6.8824235515995,
          14.493387248164272
         ],
         "xaxis": "x",
         "y": [
          0,
          0,
          0,
          0,
          0,
          0,
          0,
          0,
          0,
          0
         ],
         "yaxis": "y"
        },
        {
         "hovertemplate": "Individual=2721<br>Buy & Hold Strategy=%{x}<br>Neat Strategy=%{y}<extra></extra>",
         "legendgroup": "2721",
         "marker": {
          "color": "#636efa",
          "symbol": "circle"
         },
         "mode": "markers",
         "name": "2721",
         "showlegend": true,
         "type": "scattergl",
         "x": [
          -1.645521392144838,
          0.2266340872061427,
          19.86842472907701,
          -0.8498192852040202,
          -9.22137377779483,
          12.423312883435583,
          -4.833364794114527,
          0.1370235502692121,
          6.8824235515995,
          14.493387248164272
         ],
         "xaxis": "x",
         "y": [
          0,
          0,
          0,
          0,
          0,
          0,
          0,
          0,
          0,
          0
         ],
         "yaxis": "y"
        },
        {
         "hovertemplate": "Individual=2722<br>Buy & Hold Strategy=%{x}<br>Neat Strategy=%{y}<extra></extra>",
         "legendgroup": "2722",
         "marker": {
          "color": "#EF553B",
          "symbol": "circle"
         },
         "mode": "markers",
         "name": "2722",
         "showlegend": true,
         "type": "scattergl",
         "x": [
          -1.645521392144838,
          0.2266340872061427,
          19.86842472907701,
          -0.8498192852040202,
          -9.22137377779483,
          12.423312883435583,
          -4.833364794114527,
          0.1370235502692121,
          6.8824235515995,
          14.493387248164272
         ],
         "xaxis": "x",
         "y": [
          0,
          0,
          0,
          0,
          0,
          0,
          0,
          0,
          0,
          0
         ],
         "yaxis": "y"
        },
        {
         "hovertemplate": "Individual=2723<br>Buy & Hold Strategy=%{x}<br>Neat Strategy=%{y}<extra></extra>",
         "legendgroup": "2723",
         "marker": {
          "color": "#00cc96",
          "symbol": "circle"
         },
         "mode": "markers",
         "name": "2723",
         "showlegend": true,
         "type": "scattergl",
         "x": [
          -1.645521392144838,
          0.2266340872061427,
          19.86842472907701,
          -0.8498192852040202,
          -9.22137377779483,
          12.423312883435583,
          -4.833364794114527,
          0.1370235502692121,
          6.8824235515995,
          14.493387248164272
         ],
         "xaxis": "x",
         "y": [
          0,
          0,
          0,
          0,
          0,
          0,
          0,
          0,
          0,
          0
         ],
         "yaxis": "y"
        },
        {
         "hovertemplate": "Individual=2724<br>Buy & Hold Strategy=%{x}<br>Neat Strategy=%{y}<extra></extra>",
         "legendgroup": "2724",
         "marker": {
          "color": "#ab63fa",
          "symbol": "circle"
         },
         "mode": "markers",
         "name": "2724",
         "showlegend": true,
         "type": "scattergl",
         "x": [
          -1.645521392144838,
          0.2266340872061427,
          19.86842472907701,
          -0.8498192852040202,
          -9.22137377779483,
          12.423312883435583,
          -4.833364794114527,
          0.1370235502692121,
          6.8824235515995,
          14.493387248164272
         ],
         "xaxis": "x",
         "y": [
          0,
          0,
          0,
          0,
          0,
          0,
          0,
          0,
          0,
          0
         ],
         "yaxis": "y"
        },
        {
         "hovertemplate": "Individual=2725<br>Buy & Hold Strategy=%{x}<br>Neat Strategy=%{y}<extra></extra>",
         "legendgroup": "2725",
         "marker": {
          "color": "#FFA15A",
          "symbol": "circle"
         },
         "mode": "markers",
         "name": "2725",
         "showlegend": true,
         "type": "scattergl",
         "x": [
          -1.645521392144838,
          0.2266340872061427,
          19.86842472907701,
          -0.8498192852040202,
          -9.22137377779483,
          12.423312883435583,
          -4.833364794114527,
          0.1370235502692121,
          6.8824235515995,
          14.493387248164272
         ],
         "xaxis": "x",
         "y": [
          0,
          0,
          0,
          0,
          0,
          0,
          0,
          0,
          0,
          0
         ],
         "yaxis": "y"
        },
        {
         "hovertemplate": "Individual=2726<br>Buy & Hold Strategy=%{x}<br>Neat Strategy=%{y}<extra></extra>",
         "legendgroup": "2726",
         "marker": {
          "color": "#19d3f3",
          "symbol": "circle"
         },
         "mode": "markers",
         "name": "2726",
         "showlegend": true,
         "type": "scattergl",
         "x": [
          -1.645521392144838,
          0.2266340872061427,
          19.86842472907701,
          -0.8498192852040202,
          -9.22137377779483,
          12.423312883435583,
          -4.833364794114527,
          0.1370235502692121,
          6.8824235515995,
          14.493387248164272
         ],
         "xaxis": "x",
         "y": [
          0,
          0,
          0,
          0,
          0,
          0,
          0,
          0,
          0,
          0
         ],
         "yaxis": "y"
        },
        {
         "hovertemplate": "Individual=2727<br>Buy & Hold Strategy=%{x}<br>Neat Strategy=%{y}<extra></extra>",
         "legendgroup": "2727",
         "marker": {
          "color": "#FF6692",
          "symbol": "circle"
         },
         "mode": "markers",
         "name": "2727",
         "showlegend": true,
         "type": "scattergl",
         "x": [
          -1.645521392144838,
          0.2266340872061427,
          19.86842472907701,
          -0.8498192852040202,
          -9.22137377779483,
          12.423312883435583,
          -4.833364794114527,
          0.1370235502692121,
          6.8824235515995,
          14.493387248164272
         ],
         "xaxis": "x",
         "y": [
          0,
          0,
          0,
          0,
          0,
          0,
          0,
          0,
          0,
          0
         ],
         "yaxis": "y"
        },
        {
         "hovertemplate": "Individual=2728<br>Buy & Hold Strategy=%{x}<br>Neat Strategy=%{y}<extra></extra>",
         "legendgroup": "2728",
         "marker": {
          "color": "#B6E880",
          "symbol": "circle"
         },
         "mode": "markers",
         "name": "2728",
         "showlegend": true,
         "type": "scattergl",
         "x": [
          -1.645521392144838,
          0.2266340872061427,
          19.86842472907701,
          -0.8498192852040202,
          -9.22137377779483,
          12.423312883435583,
          -4.833364794114527,
          0.1370235502692121,
          6.8824235515995,
          14.493387248164272
         ],
         "xaxis": "x",
         "y": [
          0,
          0,
          0,
          0,
          0,
          0,
          0,
          0,
          0,
          0
         ],
         "yaxis": "y"
        },
        {
         "hovertemplate": "Individual=2729<br>Buy & Hold Strategy=%{x}<br>Neat Strategy=%{y}<extra></extra>",
         "legendgroup": "2729",
         "marker": {
          "color": "#FF97FF",
          "symbol": "circle"
         },
         "mode": "markers",
         "name": "2729",
         "showlegend": true,
         "type": "scattergl",
         "x": [
          -1.645521392144838,
          0.2266340872061427,
          19.86842472907701,
          -0.8498192852040202,
          -9.22137377779483,
          12.423312883435583,
          -4.833364794114527,
          0.1370235502692121,
          6.8824235515995,
          14.493387248164272
         ],
         "xaxis": "x",
         "y": [
          0,
          0,
          0,
          0,
          0,
          0,
          0,
          0,
          0,
          0
         ],
         "yaxis": "y"
        },
        {
         "hovertemplate": "Individual=2730<br>Buy & Hold Strategy=%{x}<br>Neat Strategy=%{y}<extra></extra>",
         "legendgroup": "2730",
         "marker": {
          "color": "#FECB52",
          "symbol": "circle"
         },
         "mode": "markers",
         "name": "2730",
         "showlegend": true,
         "type": "scattergl",
         "x": [
          -1.645521392144838,
          0.2266340872061427,
          19.86842472907701,
          -0.8498192852040202,
          -9.22137377779483,
          12.423312883435583,
          -4.833364794114527,
          0.1370235502692121,
          6.8824235515995,
          14.493387248164272
         ],
         "xaxis": "x",
         "y": [
          0,
          0,
          0,
          0,
          0,
          0,
          0,
          0,
          0,
          0
         ],
         "yaxis": "y"
        },
        {
         "hovertemplate": "Individual=2731<br>Buy & Hold Strategy=%{x}<br>Neat Strategy=%{y}<extra></extra>",
         "legendgroup": "2731",
         "marker": {
          "color": "#636efa",
          "symbol": "circle"
         },
         "mode": "markers",
         "name": "2731",
         "showlegend": true,
         "type": "scattergl",
         "x": [
          -1.645521392144838,
          0.2266340872061427,
          19.86842472907701,
          -0.8498192852040202,
          -9.22137377779483,
          12.423312883435583,
          -4.833364794114527,
          0.1370235502692121,
          6.8824235515995,
          14.493387248164272
         ],
         "xaxis": "x",
         "y": [
          0,
          0,
          0,
          0,
          0,
          0,
          0,
          0,
          0,
          0
         ],
         "yaxis": "y"
        },
        {
         "hovertemplate": "Individual=2732<br>Buy & Hold Strategy=%{x}<br>Neat Strategy=%{y}<extra></extra>",
         "legendgroup": "2732",
         "marker": {
          "color": "#EF553B",
          "symbol": "circle"
         },
         "mode": "markers",
         "name": "2732",
         "showlegend": true,
         "type": "scattergl",
         "x": [
          -1.645521392144838,
          0.2266340872061427,
          19.86842472907701,
          -0.8498192852040202,
          -9.22137377779483,
          12.423312883435583,
          -4.833364794114527,
          0.1370235502692121,
          6.8824235515995,
          14.493387248164272
         ],
         "xaxis": "x",
         "y": [
          0,
          0,
          0,
          0,
          0,
          0,
          0,
          0,
          0,
          0
         ],
         "yaxis": "y"
        },
        {
         "hovertemplate": "Individual=2733<br>Buy & Hold Strategy=%{x}<br>Neat Strategy=%{y}<extra></extra>",
         "legendgroup": "2733",
         "marker": {
          "color": "#00cc96",
          "symbol": "circle"
         },
         "mode": "markers",
         "name": "2733",
         "showlegend": true,
         "type": "scattergl",
         "x": [
          -1.645521392144838,
          0.2266340872061427,
          19.86842472907701,
          -0.8498192852040202,
          -9.22137377779483,
          12.423312883435583,
          -4.833364794114527,
          0.1370235502692121,
          6.8824235515995,
          14.493387248164272
         ],
         "xaxis": "x",
         "y": [
          0,
          0,
          0,
          0,
          0,
          0,
          0,
          0,
          0,
          0
         ],
         "yaxis": "y"
        },
        {
         "hovertemplate": "Individual=2734<br>Buy & Hold Strategy=%{x}<br>Neat Strategy=%{y}<extra></extra>",
         "legendgroup": "2734",
         "marker": {
          "color": "#ab63fa",
          "symbol": "circle"
         },
         "mode": "markers",
         "name": "2734",
         "showlegend": true,
         "type": "scattergl",
         "x": [
          -1.645521392144838,
          0.2266340872061427,
          19.86842472907701,
          -0.8498192852040202,
          -9.22137377779483,
          12.423312883435583,
          -4.833364794114527,
          0.1370235502692121,
          6.8824235515995,
          14.493387248164272
         ],
         "xaxis": "x",
         "y": [
          0,
          0,
          0,
          0,
          0,
          0,
          0,
          0,
          0,
          0
         ],
         "yaxis": "y"
        },
        {
         "hovertemplate": "Individual=2735<br>Buy & Hold Strategy=%{x}<br>Neat Strategy=%{y}<extra></extra>",
         "legendgroup": "2735",
         "marker": {
          "color": "#FFA15A",
          "symbol": "circle"
         },
         "mode": "markers",
         "name": "2735",
         "showlegend": true,
         "type": "scattergl",
         "x": [
          -1.645521392144838,
          0.2266340872061427,
          19.86842472907701,
          -0.8498192852040202,
          -9.22137377779483,
          12.423312883435583,
          -4.833364794114527,
          0.1370235502692121,
          6.8824235515995,
          14.493387248164272
         ],
         "xaxis": "x",
         "y": [
          0,
          0,
          0,
          0,
          0,
          0,
          0,
          0,
          0,
          0
         ],
         "yaxis": "y"
        },
        {
         "hovertemplate": "Individual=2736<br>Buy & Hold Strategy=%{x}<br>Neat Strategy=%{y}<extra></extra>",
         "legendgroup": "2736",
         "marker": {
          "color": "#19d3f3",
          "symbol": "circle"
         },
         "mode": "markers",
         "name": "2736",
         "showlegend": true,
         "type": "scattergl",
         "x": [
          -1.645521392144838,
          0.2266340872061427,
          19.86842472907701,
          -0.8498192852040202,
          -9.22137377779483,
          12.423312883435583,
          -4.833364794114527,
          0.1370235502692121,
          6.8824235515995,
          14.493387248164272
         ],
         "xaxis": "x",
         "y": [
          0,
          0,
          0,
          0,
          0,
          0,
          0,
          0,
          0,
          0
         ],
         "yaxis": "y"
        },
        {
         "hovertemplate": "Individual=2737<br>Buy & Hold Strategy=%{x}<br>Neat Strategy=%{y}<extra></extra>",
         "legendgroup": "2737",
         "marker": {
          "color": "#FF6692",
          "symbol": "circle"
         },
         "mode": "markers",
         "name": "2737",
         "showlegend": true,
         "type": "scattergl",
         "x": [
          -1.645521392144838,
          0.2266340872061427,
          19.86842472907701,
          -0.8498192852040202,
          -9.22137377779483,
          12.423312883435583,
          -4.833364794114527,
          0.1370235502692121,
          6.8824235515995,
          14.493387248164272
         ],
         "xaxis": "x",
         "y": [
          0,
          0,
          0,
          0,
          0,
          0,
          0,
          0,
          0,
          0
         ],
         "yaxis": "y"
        },
        {
         "hovertemplate": "Individual=2738<br>Buy & Hold Strategy=%{x}<br>Neat Strategy=%{y}<extra></extra>",
         "legendgroup": "2738",
         "marker": {
          "color": "#B6E880",
          "symbol": "circle"
         },
         "mode": "markers",
         "name": "2738",
         "showlegend": true,
         "type": "scattergl",
         "x": [
          -1.645521392144838,
          0.2266340872061427,
          19.86842472907701,
          -0.8498192852040202,
          -9.22137377779483,
          12.423312883435583,
          -4.833364794114527,
          0.1370235502692121,
          6.8824235515995,
          14.493387248164272
         ],
         "xaxis": "x",
         "y": [
          0,
          0,
          0,
          0,
          0,
          0,
          0,
          0,
          0,
          0
         ],
         "yaxis": "y"
        },
        {
         "hovertemplate": "Individual=2739<br>Buy & Hold Strategy=%{x}<br>Neat Strategy=%{y}<extra></extra>",
         "legendgroup": "2739",
         "marker": {
          "color": "#FF97FF",
          "symbol": "circle"
         },
         "mode": "markers",
         "name": "2739",
         "showlegend": true,
         "type": "scattergl",
         "x": [
          -1.645521392144838,
          0.2266340872061427,
          19.86842472907701,
          -0.8498192852040202,
          -9.22137377779483,
          12.423312883435583,
          -4.833364794114527,
          0.1370235502692121,
          6.8824235515995,
          14.493387248164272
         ],
         "xaxis": "x",
         "y": [
          0,
          0,
          0,
          0,
          0,
          0,
          0,
          0,
          0,
          0
         ],
         "yaxis": "y"
        },
        {
         "hovertemplate": "Individual=2740<br>Buy & Hold Strategy=%{x}<br>Neat Strategy=%{y}<extra></extra>",
         "legendgroup": "2740",
         "marker": {
          "color": "#FECB52",
          "symbol": "circle"
         },
         "mode": "markers",
         "name": "2740",
         "showlegend": true,
         "type": "scattergl",
         "x": [
          -1.645521392144838,
          0.2266340872061427,
          19.86842472907701,
          -0.8498192852040202,
          -9.22137377779483,
          12.423312883435583,
          -4.833364794114527,
          0.1370235502692121,
          6.8824235515995,
          14.493387248164272
         ],
         "xaxis": "x",
         "y": [
          0,
          0,
          0,
          0,
          0,
          0,
          0,
          0,
          0,
          0
         ],
         "yaxis": "y"
        },
        {
         "hovertemplate": "Individual=2741<br>Buy & Hold Strategy=%{x}<br>Neat Strategy=%{y}<extra></extra>",
         "legendgroup": "2741",
         "marker": {
          "color": "#636efa",
          "symbol": "circle"
         },
         "mode": "markers",
         "name": "2741",
         "showlegend": true,
         "type": "scattergl",
         "x": [
          -1.645521392144838,
          0.2266340872061427,
          19.86842472907701,
          -0.8498192852040202,
          -9.22137377779483,
          12.423312883435583,
          -4.833364794114527,
          0.1370235502692121,
          6.8824235515995,
          14.493387248164272
         ],
         "xaxis": "x",
         "y": [
          0,
          0,
          0,
          0,
          0,
          0,
          0,
          0,
          0,
          0
         ],
         "yaxis": "y"
        },
        {
         "hovertemplate": "Individual=2742<br>Buy & Hold Strategy=%{x}<br>Neat Strategy=%{y}<extra></extra>",
         "legendgroup": "2742",
         "marker": {
          "color": "#EF553B",
          "symbol": "circle"
         },
         "mode": "markers",
         "name": "2742",
         "showlegend": true,
         "type": "scattergl",
         "x": [
          -1.645521392144838,
          0.2266340872061427,
          19.86842472907701,
          -0.8498192852040202,
          -9.22137377779483,
          12.423312883435583,
          -4.833364794114527,
          0.1370235502692121,
          6.8824235515995,
          14.493387248164272
         ],
         "xaxis": "x",
         "y": [
          0,
          0,
          0,
          0,
          0,
          0,
          0,
          0,
          0,
          0
         ],
         "yaxis": "y"
        },
        {
         "hovertemplate": "Individual=2743<br>Buy & Hold Strategy=%{x}<br>Neat Strategy=%{y}<extra></extra>",
         "legendgroup": "2743",
         "marker": {
          "color": "#00cc96",
          "symbol": "circle"
         },
         "mode": "markers",
         "name": "2743",
         "showlegend": true,
         "type": "scattergl",
         "x": [
          -1.645521392144838,
          0.2266340872061427,
          19.86842472907701,
          -0.8498192852040202,
          -9.22137377779483,
          12.423312883435583,
          -4.833364794114527,
          0.1370235502692121,
          6.8824235515995,
          14.493387248164272
         ],
         "xaxis": "x",
         "y": [
          0,
          0,
          0,
          0,
          0,
          0,
          0,
          0,
          0,
          0
         ],
         "yaxis": "y"
        },
        {
         "hovertemplate": "Individual=2744<br>Buy & Hold Strategy=%{x}<br>Neat Strategy=%{y}<extra></extra>",
         "legendgroup": "2744",
         "marker": {
          "color": "#ab63fa",
          "symbol": "circle"
         },
         "mode": "markers",
         "name": "2744",
         "showlegend": true,
         "type": "scattergl",
         "x": [
          -1.645521392144838,
          0.2266340872061427,
          19.86842472907701,
          -0.8498192852040202,
          -9.22137377779483,
          12.423312883435583,
          -4.833364794114527,
          0.1370235502692121,
          6.8824235515995,
          14.493387248164272
         ],
         "xaxis": "x",
         "y": [
          0,
          0,
          0,
          0,
          0,
          0,
          0,
          0,
          0,
          0
         ],
         "yaxis": "y"
        },
        {
         "hovertemplate": "Individual=2745<br>Buy & Hold Strategy=%{x}<br>Neat Strategy=%{y}<extra></extra>",
         "legendgroup": "2745",
         "marker": {
          "color": "#FFA15A",
          "symbol": "circle"
         },
         "mode": "markers",
         "name": "2745",
         "showlegend": true,
         "type": "scattergl",
         "x": [
          -1.645521392144838,
          0.2266340872061427,
          19.86842472907701,
          -0.8498192852040202,
          -9.22137377779483,
          12.423312883435583,
          -4.833364794114527,
          0.1370235502692121,
          6.8824235515995,
          14.493387248164272
         ],
         "xaxis": "x",
         "y": [
          0,
          0,
          0,
          0,
          0,
          0,
          0,
          0,
          0,
          0
         ],
         "yaxis": "y"
        },
        {
         "hovertemplate": "Individual=2746<br>Buy & Hold Strategy=%{x}<br>Neat Strategy=%{y}<extra></extra>",
         "legendgroup": "2746",
         "marker": {
          "color": "#19d3f3",
          "symbol": "circle"
         },
         "mode": "markers",
         "name": "2746",
         "showlegend": true,
         "type": "scattergl",
         "x": [
          -1.645521392144838,
          0.2266340872061427,
          19.86842472907701,
          -0.8498192852040202,
          -9.22137377779483,
          12.423312883435583,
          -4.833364794114527,
          0.1370235502692121,
          6.8824235515995,
          14.493387248164272
         ],
         "xaxis": "x",
         "y": [
          0,
          0,
          0,
          0,
          0,
          0,
          0,
          0,
          0,
          0
         ],
         "yaxis": "y"
        },
        {
         "hovertemplate": "Individual=2747<br>Buy & Hold Strategy=%{x}<br>Neat Strategy=%{y}<extra></extra>",
         "legendgroup": "2747",
         "marker": {
          "color": "#FF6692",
          "symbol": "circle"
         },
         "mode": "markers",
         "name": "2747",
         "showlegend": true,
         "type": "scattergl",
         "x": [
          -1.645521392144838,
          0.2266340872061427,
          19.86842472907701,
          -0.8498192852040202,
          -9.22137377779483,
          12.423312883435583,
          -4.833364794114527,
          0.1370235502692121,
          6.8824235515995,
          14.493387248164272
         ],
         "xaxis": "x",
         "y": [
          0,
          0,
          0,
          0,
          0,
          0,
          0,
          0,
          0,
          0
         ],
         "yaxis": "y"
        },
        {
         "hovertemplate": "Individual=2748<br>Buy & Hold Strategy=%{x}<br>Neat Strategy=%{y}<extra></extra>",
         "legendgroup": "2748",
         "marker": {
          "color": "#B6E880",
          "symbol": "circle"
         },
         "mode": "markers",
         "name": "2748",
         "showlegend": true,
         "type": "scattergl",
         "x": [
          -1.645521392144838,
          0.2266340872061427,
          19.86842472907701,
          -0.8498192852040202,
          -9.22137377779483,
          12.423312883435583,
          -4.833364794114527,
          0.1370235502692121,
          6.8824235515995,
          14.493387248164272
         ],
         "xaxis": "x",
         "y": [
          0,
          0,
          0,
          0,
          0,
          0,
          0,
          0,
          0,
          0
         ],
         "yaxis": "y"
        },
        {
         "hovertemplate": "Individual=2749<br>Buy & Hold Strategy=%{x}<br>Neat Strategy=%{y}<extra></extra>",
         "legendgroup": "2749",
         "marker": {
          "color": "#FF97FF",
          "symbol": "circle"
         },
         "mode": "markers",
         "name": "2749",
         "showlegend": true,
         "type": "scattergl",
         "x": [
          -1.645521392144838,
          0.2266340872061427,
          19.86842472907701,
          -0.8498192852040202,
          -9.22137377779483,
          12.423312883435583,
          -4.833364794114527,
          0.1370235502692121,
          6.8824235515995,
          14.493387248164272
         ],
         "xaxis": "x",
         "y": [
          0,
          0,
          0,
          0,
          0,
          0,
          0,
          0,
          0,
          0
         ],
         "yaxis": "y"
        },
        {
         "hovertemplate": "Individual=2750<br>Buy & Hold Strategy=%{x}<br>Neat Strategy=%{y}<extra></extra>",
         "legendgroup": "2750",
         "marker": {
          "color": "#FECB52",
          "symbol": "circle"
         },
         "mode": "markers",
         "name": "2750",
         "showlegend": true,
         "type": "scattergl",
         "x": [
          -1.645521392144838,
          0.2266340872061427,
          19.86842472907701,
          -0.8498192852040202,
          -9.22137377779483,
          12.423312883435583,
          -4.833364794114527,
          0.1370235502692121,
          6.8824235515995,
          14.493387248164272
         ],
         "xaxis": "x",
         "y": [
          0,
          0,
          0,
          0,
          0,
          0,
          0,
          0,
          0,
          0
         ],
         "yaxis": "y"
        },
        {
         "hovertemplate": "Individual=2751<br>Buy & Hold Strategy=%{x}<br>Neat Strategy=%{y}<extra></extra>",
         "legendgroup": "2751",
         "marker": {
          "color": "#636efa",
          "symbol": "circle"
         },
         "mode": "markers",
         "name": "2751",
         "showlegend": true,
         "type": "scattergl",
         "x": [
          -1.645521392144838,
          0.2266340872061427,
          19.86842472907701,
          -0.8498192852040202,
          -9.22137377779483,
          12.423312883435583,
          -4.833364794114527,
          0.1370235502692121,
          6.8824235515995,
          14.493387248164272
         ],
         "xaxis": "x",
         "y": [
          0,
          0,
          0,
          0,
          0,
          0,
          0,
          0,
          0,
          0
         ],
         "yaxis": "y"
        },
        {
         "hovertemplate": "Individual=2752<br>Buy & Hold Strategy=%{x}<br>Neat Strategy=%{y}<extra></extra>",
         "legendgroup": "2752",
         "marker": {
          "color": "#EF553B",
          "symbol": "circle"
         },
         "mode": "markers",
         "name": "2752",
         "showlegend": true,
         "type": "scattergl",
         "x": [
          -1.645521392144838,
          0.2266340872061427,
          19.86842472907701,
          -0.8498192852040202,
          -9.22137377779483,
          12.423312883435583,
          -4.833364794114527,
          0.1370235502692121,
          6.8824235515995,
          14.493387248164272
         ],
         "xaxis": "x",
         "y": [
          0,
          0,
          0,
          0,
          0,
          0,
          0,
          0,
          0,
          0
         ],
         "yaxis": "y"
        },
        {
         "hovertemplate": "Individual=2753<br>Buy & Hold Strategy=%{x}<br>Neat Strategy=%{y}<extra></extra>",
         "legendgroup": "2753",
         "marker": {
          "color": "#00cc96",
          "symbol": "circle"
         },
         "mode": "markers",
         "name": "2753",
         "showlegend": true,
         "type": "scattergl",
         "x": [
          -1.645521392144838,
          0.2266340872061427,
          19.86842472907701,
          -0.8498192852040202,
          -9.22137377779483,
          12.423312883435583,
          -4.833364794114527,
          0.1370235502692121,
          6.8824235515995,
          14.493387248164272
         ],
         "xaxis": "x",
         "y": [
          0,
          0,
          0,
          0,
          0,
          0,
          0,
          0,
          0,
          0
         ],
         "yaxis": "y"
        },
        {
         "hovertemplate": "Individual=2754<br>Buy & Hold Strategy=%{x}<br>Neat Strategy=%{y}<extra></extra>",
         "legendgroup": "2754",
         "marker": {
          "color": "#ab63fa",
          "symbol": "circle"
         },
         "mode": "markers",
         "name": "2754",
         "showlegend": true,
         "type": "scattergl",
         "x": [
          -1.645521392144838,
          0.2266340872061427,
          19.86842472907701,
          -0.8498192852040202,
          -9.22137377779483,
          12.423312883435583,
          -4.833364794114527,
          0.1370235502692121,
          6.8824235515995,
          14.493387248164272
         ],
         "xaxis": "x",
         "y": [
          0,
          0,
          0,
          0,
          0,
          0,
          0,
          0,
          0,
          0
         ],
         "yaxis": "y"
        },
        {
         "hovertemplate": "Individual=2755<br>Buy & Hold Strategy=%{x}<br>Neat Strategy=%{y}<extra></extra>",
         "legendgroup": "2755",
         "marker": {
          "color": "#FFA15A",
          "symbol": "circle"
         },
         "mode": "markers",
         "name": "2755",
         "showlegend": true,
         "type": "scattergl",
         "x": [
          -1.645521392144838,
          0.2266340872061427,
          19.86842472907701,
          -0.8498192852040202,
          -9.22137377779483,
          12.423312883435583,
          -4.833364794114527,
          0.1370235502692121,
          6.8824235515995,
          14.493387248164272
         ],
         "xaxis": "x",
         "y": [
          0,
          0,
          0,
          0,
          0,
          0,
          0,
          0,
          0,
          0
         ],
         "yaxis": "y"
        },
        {
         "hovertemplate": "Individual=2756<br>Buy & Hold Strategy=%{x}<br>Neat Strategy=%{y}<extra></extra>",
         "legendgroup": "2756",
         "marker": {
          "color": "#19d3f3",
          "symbol": "circle"
         },
         "mode": "markers",
         "name": "2756",
         "showlegend": true,
         "type": "scattergl",
         "x": [
          -1.645521392144838,
          0.2266340872061427,
          19.86842472907701,
          -0.8498192852040202,
          -9.22137377779483,
          12.423312883435583,
          -4.833364794114527,
          0.1370235502692121,
          6.8824235515995,
          14.493387248164272
         ],
         "xaxis": "x",
         "y": [
          0,
          0,
          0,
          0,
          0,
          0,
          0,
          0,
          0,
          0
         ],
         "yaxis": "y"
        },
        {
         "hovertemplate": "Individual=2757<br>Buy & Hold Strategy=%{x}<br>Neat Strategy=%{y}<extra></extra>",
         "legendgroup": "2757",
         "marker": {
          "color": "#FF6692",
          "symbol": "circle"
         },
         "mode": "markers",
         "name": "2757",
         "showlegend": true,
         "type": "scattergl",
         "x": [
          -1.645521392144838,
          0.2266340872061427,
          19.86842472907701,
          -0.8498192852040202,
          -9.22137377779483,
          12.423312883435583,
          -4.833364794114527,
          0.1370235502692121,
          6.8824235515995,
          14.493387248164272
         ],
         "xaxis": "x",
         "y": [
          0,
          0,
          0,
          0,
          0,
          0,
          0,
          0,
          0,
          0
         ],
         "yaxis": "y"
        },
        {
         "hovertemplate": "Individual=2758<br>Buy & Hold Strategy=%{x}<br>Neat Strategy=%{y}<extra></extra>",
         "legendgroup": "2758",
         "marker": {
          "color": "#B6E880",
          "symbol": "circle"
         },
         "mode": "markers",
         "name": "2758",
         "showlegend": true,
         "type": "scattergl",
         "x": [
          -1.645521392144838,
          0.2266340872061427,
          19.86842472907701,
          -0.8498192852040202,
          -9.22137377779483,
          12.423312883435583,
          -4.833364794114527,
          0.1370235502692121,
          6.8824235515995,
          14.493387248164272
         ],
         "xaxis": "x",
         "y": [
          0,
          0,
          0,
          0,
          0,
          0,
          0,
          0,
          0,
          0
         ],
         "yaxis": "y"
        },
        {
         "hovertemplate": "Individual=2759<br>Buy & Hold Strategy=%{x}<br>Neat Strategy=%{y}<extra></extra>",
         "legendgroup": "2759",
         "marker": {
          "color": "#FF97FF",
          "symbol": "circle"
         },
         "mode": "markers",
         "name": "2759",
         "showlegend": true,
         "type": "scattergl",
         "x": [
          -1.645521392144838,
          0.2266340872061427,
          19.86842472907701,
          -0.8498192852040202,
          -9.22137377779483,
          12.423312883435583,
          -4.833364794114527,
          0.1370235502692121,
          6.8824235515995,
          14.493387248164272
         ],
         "xaxis": "x",
         "y": [
          0,
          0,
          0,
          0,
          0,
          0,
          0,
          0,
          0,
          0
         ],
         "yaxis": "y"
        },
        {
         "hovertemplate": "Individual=2760<br>Buy & Hold Strategy=%{x}<br>Neat Strategy=%{y}<extra></extra>",
         "legendgroup": "2760",
         "marker": {
          "color": "#FECB52",
          "symbol": "circle"
         },
         "mode": "markers",
         "name": "2760",
         "showlegend": true,
         "type": "scattergl",
         "x": [
          -1.645521392144838,
          0.2266340872061427,
          19.86842472907701,
          -0.8498192852040202,
          -9.22137377779483,
          12.423312883435583,
          -4.833364794114527,
          0.1370235502692121,
          6.8824235515995,
          14.493387248164272
         ],
         "xaxis": "x",
         "y": [
          0,
          0,
          0,
          0,
          0,
          0,
          0,
          0,
          0,
          0
         ],
         "yaxis": "y"
        },
        {
         "hovertemplate": "Individual=2761<br>Buy & Hold Strategy=%{x}<br>Neat Strategy=%{y}<extra></extra>",
         "legendgroup": "2761",
         "marker": {
          "color": "#636efa",
          "symbol": "circle"
         },
         "mode": "markers",
         "name": "2761",
         "showlegend": true,
         "type": "scattergl",
         "x": [
          -1.645521392144838,
          0.2266340872061427,
          19.86842472907701,
          -0.8498192852040202,
          -9.22137377779483,
          12.423312883435583,
          -4.833364794114527,
          0.1370235502692121,
          6.8824235515995,
          14.493387248164272
         ],
         "xaxis": "x",
         "y": [
          -0.7112223459594766,
          -12.579110818294529,
          -20.89716172200928,
          -4.336692639934539,
          -5.661327575335687,
          -2.8584167863769454,
          11.148404615464784,
          1.0959659436767573,
          -10.852493488485715,
          -8.555387335705559
         ],
         "yaxis": "y"
        },
        {
         "hovertemplate": "Individual=2762<br>Buy & Hold Strategy=%{x}<br>Neat Strategy=%{y}<extra></extra>",
         "legendgroup": "2762",
         "marker": {
          "color": "#EF553B",
          "symbol": "circle"
         },
         "mode": "markers",
         "name": "2762",
         "showlegend": true,
         "type": "scattergl",
         "x": [
          -1.645521392144838,
          0.2266340872061427,
          19.86842472907701,
          -0.8498192852040202,
          -9.22137377779483,
          12.423312883435583,
          -4.833364794114527,
          0.1370235502692121,
          6.8824235515995,
          14.493387248164272
         ],
         "xaxis": "x",
         "y": [
          0,
          0,
          0,
          0,
          0,
          0,
          0,
          0,
          0,
          0
         ],
         "yaxis": "y"
        },
        {
         "hovertemplate": "Individual=2763<br>Buy & Hold Strategy=%{x}<br>Neat Strategy=%{y}<extra></extra>",
         "legendgroup": "2763",
         "marker": {
          "color": "#00cc96",
          "symbol": "circle"
         },
         "mode": "markers",
         "name": "2763",
         "showlegend": true,
         "type": "scattergl",
         "x": [
          -1.645521392144838,
          0.2266340872061427,
          19.86842472907701,
          -0.8498192852040202,
          -9.22137377779483,
          12.423312883435583,
          -4.833364794114527,
          0.1370235502692121,
          6.8824235515995,
          14.493387248164272
         ],
         "xaxis": "x",
         "y": [
          0,
          0,
          0,
          0,
          0,
          0,
          0,
          0,
          0,
          0
         ],
         "yaxis": "y"
        },
        {
         "hovertemplate": "Individual=2764<br>Buy & Hold Strategy=%{x}<br>Neat Strategy=%{y}<extra></extra>",
         "legendgroup": "2764",
         "marker": {
          "color": "#ab63fa",
          "symbol": "circle"
         },
         "mode": "markers",
         "name": "2764",
         "showlegend": true,
         "type": "scattergl",
         "x": [
          -1.645521392144838,
          0.2266340872061427,
          19.86842472907701,
          -0.8498192852040202,
          -9.22137377779483,
          12.423312883435583,
          -4.833364794114527,
          0.1370235502692121,
          6.8824235515995,
          14.493387248164272
         ],
         "xaxis": "x",
         "y": [
          0,
          0,
          0,
          0,
          0,
          0,
          0,
          0,
          0,
          0
         ],
         "yaxis": "y"
        },
        {
         "hovertemplate": "Individual=2765<br>Buy & Hold Strategy=%{x}<br>Neat Strategy=%{y}<extra></extra>",
         "legendgroup": "2765",
         "marker": {
          "color": "#FFA15A",
          "symbol": "circle"
         },
         "mode": "markers",
         "name": "2765",
         "showlegend": true,
         "type": "scattergl",
         "x": [
          -1.645521392144838,
          0.2266340872061427,
          19.86842472907701,
          -0.8498192852040202,
          -9.22137377779483,
          12.423312883435583,
          -4.833364794114527,
          0.1370235502692121,
          6.8824235515995,
          14.493387248164272
         ],
         "xaxis": "x",
         "y": [
          0,
          0,
          0,
          0,
          0,
          0,
          0,
          0,
          0,
          0
         ],
         "yaxis": "y"
        },
        {
         "hovertemplate": "Individual=2766<br>Buy & Hold Strategy=%{x}<br>Neat Strategy=%{y}<extra></extra>",
         "legendgroup": "2766",
         "marker": {
          "color": "#19d3f3",
          "symbol": "circle"
         },
         "mode": "markers",
         "name": "2766",
         "showlegend": true,
         "type": "scattergl",
         "x": [
          -1.645521392144838,
          0.2266340872061427,
          19.86842472907701,
          -0.8498192852040202,
          -9.22137377779483,
          12.423312883435583,
          -4.833364794114527,
          0.1370235502692121,
          6.8824235515995,
          14.493387248164272
         ],
         "xaxis": "x",
         "y": [
          0,
          0,
          0,
          0,
          0,
          0,
          0,
          0,
          0,
          0
         ],
         "yaxis": "y"
        },
        {
         "hovertemplate": "Individual=2767<br>Buy & Hold Strategy=%{x}<br>Neat Strategy=%{y}<extra></extra>",
         "legendgroup": "2767",
         "marker": {
          "color": "#FF6692",
          "symbol": "circle"
         },
         "mode": "markers",
         "name": "2767",
         "showlegend": true,
         "type": "scattergl",
         "x": [
          -1.645521392144838,
          0.2266340872061427,
          19.86842472907701,
          -0.8498192852040202,
          -9.22137377779483,
          12.423312883435583,
          -4.833364794114527,
          0.1370235502692121,
          6.8824235515995,
          14.493387248164272
         ],
         "xaxis": "x",
         "y": [
          0,
          0,
          0,
          0,
          0,
          0,
          0,
          0,
          0,
          0
         ],
         "yaxis": "y"
        },
        {
         "hovertemplate": "Individual=2768<br>Buy & Hold Strategy=%{x}<br>Neat Strategy=%{y}<extra></extra>",
         "legendgroup": "2768",
         "marker": {
          "color": "#B6E880",
          "symbol": "circle"
         },
         "mode": "markers",
         "name": "2768",
         "showlegend": true,
         "type": "scattergl",
         "x": [
          -1.645521392144838,
          0.2266340872061427,
          19.86842472907701,
          -0.8498192852040202,
          -9.22137377779483,
          12.423312883435583,
          -4.833364794114527,
          0.1370235502692121,
          6.8824235515995,
          14.493387248164272
         ],
         "xaxis": "x",
         "y": [
          0,
          0,
          0,
          0,
          0,
          0,
          0,
          0,
          0,
          0
         ],
         "yaxis": "y"
        },
        {
         "hovertemplate": "Individual=2769<br>Buy & Hold Strategy=%{x}<br>Neat Strategy=%{y}<extra></extra>",
         "legendgroup": "2769",
         "marker": {
          "color": "#FF97FF",
          "symbol": "circle"
         },
         "mode": "markers",
         "name": "2769",
         "showlegend": true,
         "type": "scattergl",
         "x": [
          -1.645521392144838,
          0.2266340872061427,
          19.86842472907701,
          -0.8498192852040202,
          -9.22137377779483,
          12.423312883435583,
          -4.833364794114527,
          0.1370235502692121,
          6.8824235515995,
          14.493387248164272
         ],
         "xaxis": "x",
         "y": [
          0,
          0,
          0,
          0,
          0,
          0,
          0,
          0,
          0,
          0
         ],
         "yaxis": "y"
        },
        {
         "hovertemplate": "Individual=2770<br>Buy & Hold Strategy=%{x}<br>Neat Strategy=%{y}<extra></extra>",
         "legendgroup": "2770",
         "marker": {
          "color": "#FECB52",
          "symbol": "circle"
         },
         "mode": "markers",
         "name": "2770",
         "showlegend": true,
         "type": "scattergl",
         "x": [
          -1.645521392144838,
          0.2266340872061427,
          19.86842472907701,
          -0.8498192852040202,
          -9.22137377779483,
          12.423312883435583,
          -4.833364794114527,
          0.1370235502692121,
          6.8824235515995,
          14.493387248164272
         ],
         "xaxis": "x",
         "y": [
          0,
          0,
          0,
          0,
          0,
          0,
          0,
          0,
          0,
          0
         ],
         "yaxis": "y"
        },
        {
         "hovertemplate": "Individual=2771<br>Buy & Hold Strategy=%{x}<br>Neat Strategy=%{y}<extra></extra>",
         "legendgroup": "2771",
         "marker": {
          "color": "#636efa",
          "symbol": "circle"
         },
         "mode": "markers",
         "name": "2771",
         "showlegend": true,
         "type": "scattergl",
         "x": [
          -1.645521392144838,
          0.2266340872061427,
          19.86842472907701,
          -0.8498192852040202,
          -9.22137377779483,
          12.423312883435583,
          -4.833364794114527,
          0.1370235502692121,
          6.8824235515995,
          14.493387248164272
         ],
         "xaxis": "x",
         "y": [
          0,
          0,
          0,
          0,
          0,
          0,
          0,
          0,
          0,
          0
         ],
         "yaxis": "y"
        },
        {
         "hovertemplate": "Individual=2772<br>Buy & Hold Strategy=%{x}<br>Neat Strategy=%{y}<extra></extra>",
         "legendgroup": "2772",
         "marker": {
          "color": "#EF553B",
          "symbol": "circle"
         },
         "mode": "markers",
         "name": "2772",
         "showlegend": true,
         "type": "scattergl",
         "x": [
          -1.645521392144838,
          0.2266340872061427,
          19.86842472907701,
          -0.8498192852040202,
          -9.22137377779483,
          12.423312883435583,
          -4.833364794114527,
          0.1370235502692121,
          6.8824235515995,
          14.493387248164272
         ],
         "xaxis": "x",
         "y": [
          0,
          0,
          0,
          0,
          0,
          0,
          0,
          0,
          0,
          0
         ],
         "yaxis": "y"
        },
        {
         "hovertemplate": "Individual=2773<br>Buy & Hold Strategy=%{x}<br>Neat Strategy=%{y}<extra></extra>",
         "legendgroup": "2773",
         "marker": {
          "color": "#00cc96",
          "symbol": "circle"
         },
         "mode": "markers",
         "name": "2773",
         "showlegend": true,
         "type": "scattergl",
         "x": [
          -1.645521392144838,
          0.2266340872061427,
          19.86842472907701,
          -0.8498192852040202,
          -9.22137377779483,
          12.423312883435583,
          -4.833364794114527,
          0.1370235502692121,
          6.8824235515995,
          14.493387248164272
         ],
         "xaxis": "x",
         "y": [
          0,
          0,
          0,
          0,
          0,
          0,
          0,
          0,
          0,
          0
         ],
         "yaxis": "y"
        },
        {
         "hovertemplate": "Individual=2774<br>Buy & Hold Strategy=%{x}<br>Neat Strategy=%{y}<extra></extra>",
         "legendgroup": "2774",
         "marker": {
          "color": "#ab63fa",
          "symbol": "circle"
         },
         "mode": "markers",
         "name": "2774",
         "showlegend": true,
         "type": "scattergl",
         "x": [
          -1.645521392144838,
          0.2266340872061427,
          19.86842472907701,
          -0.8498192852040202,
          -9.22137377779483,
          12.423312883435583,
          -4.833364794114527,
          0.1370235502692121,
          6.8824235515995,
          14.493387248164272
         ],
         "xaxis": "x",
         "y": [
          0,
          0,
          0,
          0,
          0,
          0,
          0,
          0,
          0,
          0
         ],
         "yaxis": "y"
        },
        {
         "hovertemplate": "Individual=2775<br>Buy & Hold Strategy=%{x}<br>Neat Strategy=%{y}<extra></extra>",
         "legendgroup": "2775",
         "marker": {
          "color": "#FFA15A",
          "symbol": "circle"
         },
         "mode": "markers",
         "name": "2775",
         "showlegend": true,
         "type": "scattergl",
         "x": [
          -1.645521392144838,
          0.2266340872061427,
          19.86842472907701,
          -0.8498192852040202,
          -9.22137377779483,
          12.423312883435583,
          -4.833364794114527,
          0.1370235502692121,
          6.8824235515995,
          14.493387248164272
         ],
         "xaxis": "x",
         "y": [
          0,
          0,
          0,
          0,
          0,
          0,
          0,
          0,
          0,
          0
         ],
         "yaxis": "y"
        },
        {
         "hovertemplate": "Individual=2776<br>Buy & Hold Strategy=%{x}<br>Neat Strategy=%{y}<extra></extra>",
         "legendgroup": "2776",
         "marker": {
          "color": "#19d3f3",
          "symbol": "circle"
         },
         "mode": "markers",
         "name": "2776",
         "showlegend": true,
         "type": "scattergl",
         "x": [
          -1.645521392144838,
          0.2266340872061427,
          19.86842472907701,
          -0.8498192852040202,
          -9.22137377779483,
          12.423312883435583,
          -4.833364794114527,
          0.1370235502692121,
          6.8824235515995,
          14.493387248164272
         ],
         "xaxis": "x",
         "y": [
          0,
          0,
          0,
          0,
          0,
          0,
          0,
          0,
          0,
          0
         ],
         "yaxis": "y"
        },
        {
         "hovertemplate": "Individual=2777<br>Buy & Hold Strategy=%{x}<br>Neat Strategy=%{y}<extra></extra>",
         "legendgroup": "2777",
         "marker": {
          "color": "#FF6692",
          "symbol": "circle"
         },
         "mode": "markers",
         "name": "2777",
         "showlegend": true,
         "type": "scattergl",
         "x": [
          -1.645521392144838,
          0.2266340872061427,
          19.86842472907701,
          -0.8498192852040202,
          -9.22137377779483,
          12.423312883435583,
          -4.833364794114527,
          0.1370235502692121,
          6.8824235515995,
          14.493387248164272
         ],
         "xaxis": "x",
         "y": [
          0,
          0,
          0,
          0,
          0,
          0,
          0,
          0,
          0,
          0
         ],
         "yaxis": "y"
        },
        {
         "hovertemplate": "Individual=2778<br>Buy & Hold Strategy=%{x}<br>Neat Strategy=%{y}<extra></extra>",
         "legendgroup": "2778",
         "marker": {
          "color": "#B6E880",
          "symbol": "circle"
         },
         "mode": "markers",
         "name": "2778",
         "showlegend": true,
         "type": "scattergl",
         "x": [
          -1.645521392144838,
          0.2266340872061427,
          19.86842472907701,
          -0.8498192852040202,
          -9.22137377779483,
          12.423312883435583,
          -4.833364794114527,
          0.1370235502692121,
          6.8824235515995,
          14.493387248164272
         ],
         "xaxis": "x",
         "y": [
          0,
          0,
          0,
          0,
          0,
          0,
          0,
          0,
          0,
          0
         ],
         "yaxis": "y"
        },
        {
         "hovertemplate": "Individual=2779<br>Buy & Hold Strategy=%{x}<br>Neat Strategy=%{y}<extra></extra>",
         "legendgroup": "2779",
         "marker": {
          "color": "#FF97FF",
          "symbol": "circle"
         },
         "mode": "markers",
         "name": "2779",
         "showlegend": true,
         "type": "scattergl",
         "x": [
          -1.645521392144838,
          0.2266340872061427,
          19.86842472907701,
          -0.8498192852040202,
          -9.22137377779483,
          12.423312883435583,
          -4.833364794114527,
          0.1370235502692121,
          6.8824235515995,
          14.493387248164272
         ],
         "xaxis": "x",
         "y": [
          0,
          0,
          0,
          0,
          0,
          0,
          0,
          0,
          0,
          0
         ],
         "yaxis": "y"
        },
        {
         "hovertemplate": "Individual=2780<br>Buy & Hold Strategy=%{x}<br>Neat Strategy=%{y}<extra></extra>",
         "legendgroup": "2780",
         "marker": {
          "color": "#FECB52",
          "symbol": "circle"
         },
         "mode": "markers",
         "name": "2780",
         "showlegend": true,
         "type": "scattergl",
         "x": [
          -1.645521392144838,
          0.2266340872061427,
          19.86842472907701,
          -0.8498192852040202,
          -9.22137377779483,
          12.423312883435583,
          -4.833364794114527,
          0.1370235502692121,
          6.8824235515995,
          14.493387248164272
         ],
         "xaxis": "x",
         "y": [
          0,
          0,
          0,
          0,
          0,
          0,
          0,
          0,
          0,
          0
         ],
         "yaxis": "y"
        },
        {
         "hovertemplate": "Individual=2781<br>Buy & Hold Strategy=%{x}<br>Neat Strategy=%{y}<extra></extra>",
         "legendgroup": "2781",
         "marker": {
          "color": "#636efa",
          "symbol": "circle"
         },
         "mode": "markers",
         "name": "2781",
         "showlegend": true,
         "type": "scattergl",
         "x": [
          -1.645521392144838,
          0.2266340872061427,
          19.86842472907701,
          -0.8498192852040202,
          -9.22137377779483,
          12.423312883435583,
          -4.833364794114527,
          0.1370235502692121,
          6.8824235515995,
          14.493387248164272
         ],
         "xaxis": "x",
         "y": [
          0,
          0,
          0,
          0,
          0,
          0,
          0,
          0,
          0,
          0
         ],
         "yaxis": "y"
        },
        {
         "hovertemplate": "Individual=2782<br>Buy & Hold Strategy=%{x}<br>Neat Strategy=%{y}<extra></extra>",
         "legendgroup": "2782",
         "marker": {
          "color": "#EF553B",
          "symbol": "circle"
         },
         "mode": "markers",
         "name": "2782",
         "showlegend": true,
         "type": "scattergl",
         "x": [
          -1.645521392144838,
          0.2266340872061427,
          19.86842472907701,
          -0.8498192852040202,
          -9.22137377779483,
          12.423312883435583,
          -4.833364794114527,
          0.1370235502692121,
          6.8824235515995,
          14.493387248164272
         ],
         "xaxis": "x",
         "y": [
          0,
          0,
          0,
          0,
          0,
          0,
          0,
          0,
          0,
          0
         ],
         "yaxis": "y"
        },
        {
         "hovertemplate": "Individual=2783<br>Buy & Hold Strategy=%{x}<br>Neat Strategy=%{y}<extra></extra>",
         "legendgroup": "2783",
         "marker": {
          "color": "#00cc96",
          "symbol": "circle"
         },
         "mode": "markers",
         "name": "2783",
         "showlegend": true,
         "type": "scattergl",
         "x": [
          -1.645521392144838,
          0.2266340872061427,
          19.86842472907701,
          -0.8498192852040202,
          -9.22137377779483,
          12.423312883435583,
          -4.833364794114527,
          0.1370235502692121,
          6.8824235515995,
          14.493387248164272
         ],
         "xaxis": "x",
         "y": [
          0,
          0,
          0,
          0,
          0,
          0,
          0,
          0,
          0,
          0
         ],
         "yaxis": "y"
        },
        {
         "hovertemplate": "Individual=2784<br>Buy & Hold Strategy=%{x}<br>Neat Strategy=%{y}<extra></extra>",
         "legendgroup": "2784",
         "marker": {
          "color": "#ab63fa",
          "symbol": "circle"
         },
         "mode": "markers",
         "name": "2784",
         "showlegend": true,
         "type": "scattergl",
         "x": [
          -1.645521392144838,
          0.2266340872061427,
          19.86842472907701,
          -0.8498192852040202,
          -9.22137377779483,
          12.423312883435583,
          -4.833364794114527,
          0.1370235502692121,
          6.8824235515995,
          14.493387248164272
         ],
         "xaxis": "x",
         "y": [
          0,
          0,
          0,
          0,
          0,
          0,
          0,
          0,
          0,
          0
         ],
         "yaxis": "y"
        },
        {
         "hovertemplate": "Individual=2785<br>Buy & Hold Strategy=%{x}<br>Neat Strategy=%{y}<extra></extra>",
         "legendgroup": "2785",
         "marker": {
          "color": "#FFA15A",
          "symbol": "circle"
         },
         "mode": "markers",
         "name": "2785",
         "showlegend": true,
         "type": "scattergl",
         "x": [
          -1.645521392144838,
          0.2266340872061427,
          19.86842472907701,
          -0.8498192852040202,
          -9.22137377779483,
          12.423312883435583,
          -4.833364794114527,
          0.1370235502692121,
          6.8824235515995,
          14.493387248164272
         ],
         "xaxis": "x",
         "y": [
          0,
          0,
          0,
          0,
          0,
          0,
          0,
          0,
          0,
          0
         ],
         "yaxis": "y"
        },
        {
         "hovertemplate": "Individual=2786<br>Buy & Hold Strategy=%{x}<br>Neat Strategy=%{y}<extra></extra>",
         "legendgroup": "2786",
         "marker": {
          "color": "#19d3f3",
          "symbol": "circle"
         },
         "mode": "markers",
         "name": "2786",
         "showlegend": true,
         "type": "scattergl",
         "x": [
          -1.645521392144838,
          0.2266340872061427,
          19.86842472907701,
          -0.8498192852040202,
          -9.22137377779483,
          12.423312883435583,
          -4.833364794114527,
          0.1370235502692121,
          6.8824235515995,
          14.493387248164272
         ],
         "xaxis": "x",
         "y": [
          0,
          0,
          0,
          0,
          0,
          0,
          0,
          0,
          0,
          0
         ],
         "yaxis": "y"
        },
        {
         "hovertemplate": "Individual=2787<br>Buy & Hold Strategy=%{x}<br>Neat Strategy=%{y}<extra></extra>",
         "legendgroup": "2787",
         "marker": {
          "color": "#FF6692",
          "symbol": "circle"
         },
         "mode": "markers",
         "name": "2787",
         "showlegend": true,
         "type": "scattergl",
         "x": [
          -1.645521392144838,
          0.2266340872061427,
          19.86842472907701,
          -0.8498192852040202,
          -9.22137377779483,
          12.423312883435583,
          -4.833364794114527,
          0.1370235502692121,
          6.8824235515995,
          14.493387248164272
         ],
         "xaxis": "x",
         "y": [
          0,
          0,
          0,
          0,
          0,
          0,
          0,
          0,
          0,
          0
         ],
         "yaxis": "y"
        },
        {
         "hovertemplate": "Individual=2788<br>Buy & Hold Strategy=%{x}<br>Neat Strategy=%{y}<extra></extra>",
         "legendgroup": "2788",
         "marker": {
          "color": "#B6E880",
          "symbol": "circle"
         },
         "mode": "markers",
         "name": "2788",
         "showlegend": true,
         "type": "scattergl",
         "x": [
          -1.645521392144838,
          0.2266340872061427,
          19.86842472907701,
          -0.8498192852040202,
          -9.22137377779483,
          12.423312883435583,
          -4.833364794114527,
          0.1370235502692121,
          6.8824235515995,
          14.493387248164272
         ],
         "xaxis": "x",
         "y": [
          0,
          0,
          0,
          0,
          0,
          0,
          0,
          0,
          0,
          0
         ],
         "yaxis": "y"
        },
        {
         "hovertemplate": "Individual=2789<br>Buy & Hold Strategy=%{x}<br>Neat Strategy=%{y}<extra></extra>",
         "legendgroup": "2789",
         "marker": {
          "color": "#FF97FF",
          "symbol": "circle"
         },
         "mode": "markers",
         "name": "2789",
         "showlegend": true,
         "type": "scattergl",
         "x": [
          -1.645521392144838,
          0.2266340872061427,
          19.86842472907701,
          -0.8498192852040202,
          -9.22137377779483,
          12.423312883435583,
          -4.833364794114527,
          0.1370235502692121,
          6.8824235515995,
          14.493387248164272
         ],
         "xaxis": "x",
         "y": [
          0,
          0,
          0,
          0,
          0,
          0,
          0,
          0,
          0,
          0
         ],
         "yaxis": "y"
        },
        {
         "hovertemplate": "Individual=2790<br>Buy & Hold Strategy=%{x}<br>Neat Strategy=%{y}<extra></extra>",
         "legendgroup": "2790",
         "marker": {
          "color": "#FECB52",
          "symbol": "circle"
         },
         "mode": "markers",
         "name": "2790",
         "showlegend": true,
         "type": "scattergl",
         "x": [
          -1.645521392144838,
          0.2266340872061427,
          19.86842472907701,
          -0.8498192852040202,
          -9.22137377779483,
          12.423312883435583,
          -4.833364794114527,
          0.1370235502692121,
          6.8824235515995,
          14.493387248164272
         ],
         "xaxis": "x",
         "y": [
          0,
          0,
          0,
          0,
          0,
          0,
          0,
          0,
          0,
          0
         ],
         "yaxis": "y"
        },
        {
         "hovertemplate": "Individual=2791<br>Buy & Hold Strategy=%{x}<br>Neat Strategy=%{y}<extra></extra>",
         "legendgroup": "2791",
         "marker": {
          "color": "#636efa",
          "symbol": "circle"
         },
         "mode": "markers",
         "name": "2791",
         "showlegend": true,
         "type": "scattergl",
         "x": [
          -1.645521392144838,
          0.2266340872061427,
          19.86842472907701,
          -0.8498192852040202,
          -9.22137377779483,
          12.423312883435583,
          -4.833364794114527,
          0.1370235502692121,
          6.8824235515995,
          14.493387248164272
         ],
         "xaxis": "x",
         "y": [
          0,
          0,
          0,
          0,
          0,
          0,
          0,
          0,
          0,
          0
         ],
         "yaxis": "y"
        },
        {
         "hovertemplate": "Individual=2792<br>Buy & Hold Strategy=%{x}<br>Neat Strategy=%{y}<extra></extra>",
         "legendgroup": "2792",
         "marker": {
          "color": "#EF553B",
          "symbol": "circle"
         },
         "mode": "markers",
         "name": "2792",
         "showlegend": true,
         "type": "scattergl",
         "x": [
          -1.645521392144838,
          0.2266340872061427,
          19.86842472907701,
          -0.8498192852040202,
          -9.22137377779483,
          12.423312883435583,
          -4.833364794114527,
          0.1370235502692121,
          6.8824235515995,
          14.493387248164272
         ],
         "xaxis": "x",
         "y": [
          0,
          0,
          0,
          0,
          0,
          0,
          0,
          0,
          0,
          0
         ],
         "yaxis": "y"
        },
        {
         "hovertemplate": "Individual=2793<br>Buy & Hold Strategy=%{x}<br>Neat Strategy=%{y}<extra></extra>",
         "legendgroup": "2793",
         "marker": {
          "color": "#00cc96",
          "symbol": "circle"
         },
         "mode": "markers",
         "name": "2793",
         "showlegend": true,
         "type": "scattergl",
         "x": [
          -1.645521392144838,
          0.2266340872061427,
          19.86842472907701,
          -0.8498192852040202,
          -9.22137377779483,
          12.423312883435583,
          -4.833364794114527,
          0.1370235502692121,
          6.8824235515995,
          14.493387248164272
         ],
         "xaxis": "x",
         "y": [
          0,
          0,
          0,
          0,
          0,
          0,
          0,
          0,
          0,
          0
         ],
         "yaxis": "y"
        },
        {
         "hovertemplate": "Individual=2794<br>Buy & Hold Strategy=%{x}<br>Neat Strategy=%{y}<extra></extra>",
         "legendgroup": "2794",
         "marker": {
          "color": "#ab63fa",
          "symbol": "circle"
         },
         "mode": "markers",
         "name": "2794",
         "showlegend": true,
         "type": "scattergl",
         "x": [
          -1.645521392144838,
          0.2266340872061427,
          19.86842472907701,
          -0.8498192852040202,
          -9.22137377779483,
          12.423312883435583,
          -4.833364794114527,
          0.1370235502692121,
          6.8824235515995,
          14.493387248164272
         ],
         "xaxis": "x",
         "y": [
          0,
          0,
          0,
          0,
          0,
          0,
          0,
          0,
          0,
          0
         ],
         "yaxis": "y"
        },
        {
         "hovertemplate": "Individual=2795<br>Buy & Hold Strategy=%{x}<br>Neat Strategy=%{y}<extra></extra>",
         "legendgroup": "2795",
         "marker": {
          "color": "#FFA15A",
          "symbol": "circle"
         },
         "mode": "markers",
         "name": "2795",
         "showlegend": true,
         "type": "scattergl",
         "x": [
          -1.645521392144838,
          0.2266340872061427,
          19.86842472907701,
          -0.8498192852040202,
          -9.22137377779483,
          12.423312883435583,
          -4.833364794114527,
          0.1370235502692121,
          6.8824235515995,
          14.493387248164272
         ],
         "xaxis": "x",
         "y": [
          0,
          0,
          0,
          0,
          0,
          0,
          0,
          0,
          0,
          0
         ],
         "yaxis": "y"
        },
        {
         "hovertemplate": "Individual=2796<br>Buy & Hold Strategy=%{x}<br>Neat Strategy=%{y}<extra></extra>",
         "legendgroup": "2796",
         "marker": {
          "color": "#19d3f3",
          "symbol": "circle"
         },
         "mode": "markers",
         "name": "2796",
         "showlegend": true,
         "type": "scattergl",
         "x": [
          -1.645521392144838,
          0.2266340872061427,
          19.86842472907701,
          -0.8498192852040202,
          -9.22137377779483,
          12.423312883435583,
          -4.833364794114527,
          0.1370235502692121,
          6.8824235515995,
          14.493387248164272
         ],
         "xaxis": "x",
         "y": [
          0,
          0,
          0,
          0,
          0,
          0,
          0,
          0,
          0,
          0
         ],
         "yaxis": "y"
        }
       ],
       "layout": {
        "legend": {
         "title": {
          "text": "Individual"
         },
         "tracegroupgap": 0
        },
        "margin": {
         "t": 60
        },
        "template": {
         "data": {
          "bar": [
           {
            "error_x": {
             "color": "#2a3f5f"
            },
            "error_y": {
             "color": "#2a3f5f"
            },
            "marker": {
             "line": {
              "color": "#E5ECF6",
              "width": 0.5
             },
             "pattern": {
              "fillmode": "overlay",
              "size": 10,
              "solidity": 0.2
             }
            },
            "type": "bar"
           }
          ],
          "barpolar": [
           {
            "marker": {
             "line": {
              "color": "#E5ECF6",
              "width": 0.5
             },
             "pattern": {
              "fillmode": "overlay",
              "size": 10,
              "solidity": 0.2
             }
            },
            "type": "barpolar"
           }
          ],
          "carpet": [
           {
            "aaxis": {
             "endlinecolor": "#2a3f5f",
             "gridcolor": "white",
             "linecolor": "white",
             "minorgridcolor": "white",
             "startlinecolor": "#2a3f5f"
            },
            "baxis": {
             "endlinecolor": "#2a3f5f",
             "gridcolor": "white",
             "linecolor": "white",
             "minorgridcolor": "white",
             "startlinecolor": "#2a3f5f"
            },
            "type": "carpet"
           }
          ],
          "choropleth": [
           {
            "colorbar": {
             "outlinewidth": 0,
             "ticks": ""
            },
            "type": "choropleth"
           }
          ],
          "contour": [
           {
            "colorbar": {
             "outlinewidth": 0,
             "ticks": ""
            },
            "colorscale": [
             [
              0,
              "#0d0887"
             ],
             [
              0.1111111111111111,
              "#46039f"
             ],
             [
              0.2222222222222222,
              "#7201a8"
             ],
             [
              0.3333333333333333,
              "#9c179e"
             ],
             [
              0.4444444444444444,
              "#bd3786"
             ],
             [
              0.5555555555555556,
              "#d8576b"
             ],
             [
              0.6666666666666666,
              "#ed7953"
             ],
             [
              0.7777777777777778,
              "#fb9f3a"
             ],
             [
              0.8888888888888888,
              "#fdca26"
             ],
             [
              1,
              "#f0f921"
             ]
            ],
            "type": "contour"
           }
          ],
          "contourcarpet": [
           {
            "colorbar": {
             "outlinewidth": 0,
             "ticks": ""
            },
            "type": "contourcarpet"
           }
          ],
          "heatmap": [
           {
            "colorbar": {
             "outlinewidth": 0,
             "ticks": ""
            },
            "colorscale": [
             [
              0,
              "#0d0887"
             ],
             [
              0.1111111111111111,
              "#46039f"
             ],
             [
              0.2222222222222222,
              "#7201a8"
             ],
             [
              0.3333333333333333,
              "#9c179e"
             ],
             [
              0.4444444444444444,
              "#bd3786"
             ],
             [
              0.5555555555555556,
              "#d8576b"
             ],
             [
              0.6666666666666666,
              "#ed7953"
             ],
             [
              0.7777777777777778,
              "#fb9f3a"
             ],
             [
              0.8888888888888888,
              "#fdca26"
             ],
             [
              1,
              "#f0f921"
             ]
            ],
            "type": "heatmap"
           }
          ],
          "heatmapgl": [
           {
            "colorbar": {
             "outlinewidth": 0,
             "ticks": ""
            },
            "colorscale": [
             [
              0,
              "#0d0887"
             ],
             [
              0.1111111111111111,
              "#46039f"
             ],
             [
              0.2222222222222222,
              "#7201a8"
             ],
             [
              0.3333333333333333,
              "#9c179e"
             ],
             [
              0.4444444444444444,
              "#bd3786"
             ],
             [
              0.5555555555555556,
              "#d8576b"
             ],
             [
              0.6666666666666666,
              "#ed7953"
             ],
             [
              0.7777777777777778,
              "#fb9f3a"
             ],
             [
              0.8888888888888888,
              "#fdca26"
             ],
             [
              1,
              "#f0f921"
             ]
            ],
            "type": "heatmapgl"
           }
          ],
          "histogram": [
           {
            "marker": {
             "pattern": {
              "fillmode": "overlay",
              "size": 10,
              "solidity": 0.2
             }
            },
            "type": "histogram"
           }
          ],
          "histogram2d": [
           {
            "colorbar": {
             "outlinewidth": 0,
             "ticks": ""
            },
            "colorscale": [
             [
              0,
              "#0d0887"
             ],
             [
              0.1111111111111111,
              "#46039f"
             ],
             [
              0.2222222222222222,
              "#7201a8"
             ],
             [
              0.3333333333333333,
              "#9c179e"
             ],
             [
              0.4444444444444444,
              "#bd3786"
             ],
             [
              0.5555555555555556,
              "#d8576b"
             ],
             [
              0.6666666666666666,
              "#ed7953"
             ],
             [
              0.7777777777777778,
              "#fb9f3a"
             ],
             [
              0.8888888888888888,
              "#fdca26"
             ],
             [
              1,
              "#f0f921"
             ]
            ],
            "type": "histogram2d"
           }
          ],
          "histogram2dcontour": [
           {
            "colorbar": {
             "outlinewidth": 0,
             "ticks": ""
            },
            "colorscale": [
             [
              0,
              "#0d0887"
             ],
             [
              0.1111111111111111,
              "#46039f"
             ],
             [
              0.2222222222222222,
              "#7201a8"
             ],
             [
              0.3333333333333333,
              "#9c179e"
             ],
             [
              0.4444444444444444,
              "#bd3786"
             ],
             [
              0.5555555555555556,
              "#d8576b"
             ],
             [
              0.6666666666666666,
              "#ed7953"
             ],
             [
              0.7777777777777778,
              "#fb9f3a"
             ],
             [
              0.8888888888888888,
              "#fdca26"
             ],
             [
              1,
              "#f0f921"
             ]
            ],
            "type": "histogram2dcontour"
           }
          ],
          "mesh3d": [
           {
            "colorbar": {
             "outlinewidth": 0,
             "ticks": ""
            },
            "type": "mesh3d"
           }
          ],
          "parcoords": [
           {
            "line": {
             "colorbar": {
              "outlinewidth": 0,
              "ticks": ""
             }
            },
            "type": "parcoords"
           }
          ],
          "pie": [
           {
            "automargin": true,
            "type": "pie"
           }
          ],
          "scatter": [
           {
            "fillpattern": {
             "fillmode": "overlay",
             "size": 10,
             "solidity": 0.2
            },
            "type": "scatter"
           }
          ],
          "scatter3d": [
           {
            "line": {
             "colorbar": {
              "outlinewidth": 0,
              "ticks": ""
             }
            },
            "marker": {
             "colorbar": {
              "outlinewidth": 0,
              "ticks": ""
             }
            },
            "type": "scatter3d"
           }
          ],
          "scattercarpet": [
           {
            "marker": {
             "colorbar": {
              "outlinewidth": 0,
              "ticks": ""
             }
            },
            "type": "scattercarpet"
           }
          ],
          "scattergeo": [
           {
            "marker": {
             "colorbar": {
              "outlinewidth": 0,
              "ticks": ""
             }
            },
            "type": "scattergeo"
           }
          ],
          "scattergl": [
           {
            "marker": {
             "colorbar": {
              "outlinewidth": 0,
              "ticks": ""
             }
            },
            "type": "scattergl"
           }
          ],
          "scattermapbox": [
           {
            "marker": {
             "colorbar": {
              "outlinewidth": 0,
              "ticks": ""
             }
            },
            "type": "scattermapbox"
           }
          ],
          "scatterpolar": [
           {
            "marker": {
             "colorbar": {
              "outlinewidth": 0,
              "ticks": ""
             }
            },
            "type": "scatterpolar"
           }
          ],
          "scatterpolargl": [
           {
            "marker": {
             "colorbar": {
              "outlinewidth": 0,
              "ticks": ""
             }
            },
            "type": "scatterpolargl"
           }
          ],
          "scatterternary": [
           {
            "marker": {
             "colorbar": {
              "outlinewidth": 0,
              "ticks": ""
             }
            },
            "type": "scatterternary"
           }
          ],
          "surface": [
           {
            "colorbar": {
             "outlinewidth": 0,
             "ticks": ""
            },
            "colorscale": [
             [
              0,
              "#0d0887"
             ],
             [
              0.1111111111111111,
              "#46039f"
             ],
             [
              0.2222222222222222,
              "#7201a8"
             ],
             [
              0.3333333333333333,
              "#9c179e"
             ],
             [
              0.4444444444444444,
              "#bd3786"
             ],
             [
              0.5555555555555556,
              "#d8576b"
             ],
             [
              0.6666666666666666,
              "#ed7953"
             ],
             [
              0.7777777777777778,
              "#fb9f3a"
             ],
             [
              0.8888888888888888,
              "#fdca26"
             ],
             [
              1,
              "#f0f921"
             ]
            ],
            "type": "surface"
           }
          ],
          "table": [
           {
            "cells": {
             "fill": {
              "color": "#EBF0F8"
             },
             "line": {
              "color": "white"
             }
            },
            "header": {
             "fill": {
              "color": "#C8D4E3"
             },
             "line": {
              "color": "white"
             }
            },
            "type": "table"
           }
          ]
         },
         "layout": {
          "annotationdefaults": {
           "arrowcolor": "#2a3f5f",
           "arrowhead": 0,
           "arrowwidth": 1
          },
          "autotypenumbers": "strict",
          "coloraxis": {
           "colorbar": {
            "outlinewidth": 0,
            "ticks": ""
           }
          },
          "colorscale": {
           "diverging": [
            [
             0,
             "#8e0152"
            ],
            [
             0.1,
             "#c51b7d"
            ],
            [
             0.2,
             "#de77ae"
            ],
            [
             0.3,
             "#f1b6da"
            ],
            [
             0.4,
             "#fde0ef"
            ],
            [
             0.5,
             "#f7f7f7"
            ],
            [
             0.6,
             "#e6f5d0"
            ],
            [
             0.7,
             "#b8e186"
            ],
            [
             0.8,
             "#7fbc41"
            ],
            [
             0.9,
             "#4d9221"
            ],
            [
             1,
             "#276419"
            ]
           ],
           "sequential": [
            [
             0,
             "#0d0887"
            ],
            [
             0.1111111111111111,
             "#46039f"
            ],
            [
             0.2222222222222222,
             "#7201a8"
            ],
            [
             0.3333333333333333,
             "#9c179e"
            ],
            [
             0.4444444444444444,
             "#bd3786"
            ],
            [
             0.5555555555555556,
             "#d8576b"
            ],
            [
             0.6666666666666666,
             "#ed7953"
            ],
            [
             0.7777777777777778,
             "#fb9f3a"
            ],
            [
             0.8888888888888888,
             "#fdca26"
            ],
            [
             1,
             "#f0f921"
            ]
           ],
           "sequentialminus": [
            [
             0,
             "#0d0887"
            ],
            [
             0.1111111111111111,
             "#46039f"
            ],
            [
             0.2222222222222222,
             "#7201a8"
            ],
            [
             0.3333333333333333,
             "#9c179e"
            ],
            [
             0.4444444444444444,
             "#bd3786"
            ],
            [
             0.5555555555555556,
             "#d8576b"
            ],
            [
             0.6666666666666666,
             "#ed7953"
            ],
            [
             0.7777777777777778,
             "#fb9f3a"
            ],
            [
             0.8888888888888888,
             "#fdca26"
            ],
            [
             1,
             "#f0f921"
            ]
           ]
          },
          "colorway": [
           "#636efa",
           "#EF553B",
           "#00cc96",
           "#ab63fa",
           "#FFA15A",
           "#19d3f3",
           "#FF6692",
           "#B6E880",
           "#FF97FF",
           "#FECB52"
          ],
          "font": {
           "color": "#2a3f5f"
          },
          "geo": {
           "bgcolor": "white",
           "lakecolor": "white",
           "landcolor": "#E5ECF6",
           "showlakes": true,
           "showland": true,
           "subunitcolor": "white"
          },
          "hoverlabel": {
           "align": "left"
          },
          "hovermode": "closest",
          "mapbox": {
           "style": "light"
          },
          "paper_bgcolor": "white",
          "plot_bgcolor": "#E5ECF6",
          "polar": {
           "angularaxis": {
            "gridcolor": "white",
            "linecolor": "white",
            "ticks": ""
           },
           "bgcolor": "#E5ECF6",
           "radialaxis": {
            "gridcolor": "white",
            "linecolor": "white",
            "ticks": ""
           }
          },
          "scene": {
           "xaxis": {
            "backgroundcolor": "#E5ECF6",
            "gridcolor": "white",
            "gridwidth": 2,
            "linecolor": "white",
            "showbackground": true,
            "ticks": "",
            "zerolinecolor": "white"
           },
           "yaxis": {
            "backgroundcolor": "#E5ECF6",
            "gridcolor": "white",
            "gridwidth": 2,
            "linecolor": "white",
            "showbackground": true,
            "ticks": "",
            "zerolinecolor": "white"
           },
           "zaxis": {
            "backgroundcolor": "#E5ECF6",
            "gridcolor": "white",
            "gridwidth": 2,
            "linecolor": "white",
            "showbackground": true,
            "ticks": "",
            "zerolinecolor": "white"
           }
          },
          "shapedefaults": {
           "line": {
            "color": "#2a3f5f"
           }
          },
          "ternary": {
           "aaxis": {
            "gridcolor": "white",
            "linecolor": "white",
            "ticks": ""
           },
           "baxis": {
            "gridcolor": "white",
            "linecolor": "white",
            "ticks": ""
           },
           "bgcolor": "#E5ECF6",
           "caxis": {
            "gridcolor": "white",
            "linecolor": "white",
            "ticks": ""
           }
          },
          "title": {
           "x": 0.05
          },
          "xaxis": {
           "automargin": true,
           "gridcolor": "white",
           "linecolor": "white",
           "ticks": "",
           "title": {
            "standoff": 15
           },
           "zerolinecolor": "white",
           "zerolinewidth": 2
          },
          "yaxis": {
           "automargin": true,
           "gridcolor": "white",
           "linecolor": "white",
           "ticks": "",
           "title": {
            "standoff": 15
           },
           "zerolinecolor": "white",
           "zerolinewidth": 2
          }
         }
        },
        "xaxis": {
         "anchor": "y",
         "domain": [
          0,
          1
         ],
         "title": {
          "text": "Buy & Hold Strategy"
         }
        },
        "yaxis": {
         "anchor": "x",
         "domain": [
          0,
          1
         ],
         "title": {
          "text": "Neat Strategy"
         }
        }
       }
      }
     },
     "metadata": {},
     "output_type": "display_data"
    }
   ],
   "source": [
    "import pandas as pd\n",
    "import plotly.express as px\n",
    "relative_performance = pd.DataFrame({\n",
    "    'Buy & Hold Strategy': performances['performance'].apply(lambda x: x['Buy & Hold Return [%]']),\n",
    "    'Neat Strategy': performances['performance'].apply(lambda x: x['Return [%]']),\n",
    "    'Individual': performances['individual_index']\n",
    "})\n",
    "px.scatter(relative_performance, x='Buy & Hold Strategy', y='Neat Strategy', color='Individual').show()\n",
    "#relative_performance"
   ]
  }
 ],
 "metadata": {
  "kernelspec": {
   "display_name": "Python 3",
   "language": "python",
   "name": "python3"
  },
  "language_info": {
   "codemirror_mode": {
    "name": "ipython",
    "version": 3
   },
   "file_extension": ".py",
   "mimetype": "text/x-python",
   "name": "python",
   "nbconvert_exporter": "python",
   "pygments_lexer": "ipython3",
   "version": "3.10.11"
  },
  "orig_nbformat": 4
 },
 "nbformat": 4,
 "nbformat_minor": 2
}
